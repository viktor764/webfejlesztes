{
    "metadata": {
        "kernelspec": {
            "name": "SQL",
            "display_name": "SQL",
            "language": "sql"
        },
        "language_info": {
            "name": "sql",
            "version": ""
        }
    },
    "nbformat_minor": 2,
    "nbformat": 4,
    "cells": [
        {
            "cell_type": "markdown",
            "source": [
                "Listázzuk a foglalások számát szobánként, azon belül a foglalás éve szerint csoportosítva!\n",
                "\n",
                "- Az évnél a Mettől oszlopot használjuk\n",
                "- Jelenítsük meg a részösszegeket és a végösszeget is úgy, hogy ne jelenjen meg minden Oszlop/NULL kombináció!\n",
                "- A részösszegeket jelöljük megfelelően, pl. Részösszeg vagy Szoba összesen"
            ],
            "metadata": {
                "azdata_cell_guid": "e1a2dee1-3ecd-4ed6-a24b-0cf0ad17fa9f"
            },
            "attachments": {}
        },
        {
            "cell_type": "code",
            "source": [
                "SELECT \r\n",
                "  CASE \r\n",
                "    WHEN GROUPING(s.SZOBA_ID) = 1 THEN 'Végösszeg'\r\n",
                "    WHEN GROUPING(YEAR(f.METTOL)) = 1 THEN 'Részösszeg'\r\n",
                "    ELSE CAST(s.SZOBA_ID AS NVARCHAR(10))\r\n",
                "  END AS 'Szoba', \r\n",
                "  CASE \r\n",
                "    WHEN GROUPING(YEAR(f.METTOL)) = 1 THEN 'Összesen'\r\n",
                "    ELSE CAST(YEAR(f.METTOL) AS NVARCHAR(4))\r\n",
                "  END AS 'Év', \r\n",
                "  COUNT(*) AS 'Foglalások száma'\r\n",
                "FROM \r\n",
                "  Foglalas f\r\n",
                "JOIN \r\n",
                "  Szoba s ON f.SZOBA_FK = s.SZOBA_ID\r\n",
                "GROUP BY \r\n",
                "  ROLLUP(s.SZOBA_ID, YEAR(f.METTOL))\r\n",
                ""
            ],
            "metadata": {
                "azdata_cell_guid": "fb7cd3d5-abeb-4f19-8970-f7d6f0f2e865",
                "language": "sql"
            },
            "outputs": [
                {
                    "output_type": "display_data",
                    "data": {
                        "text/html": "(513 rows affected)"
                    },
                    "metadata": {}
                },
                {
                    "output_type": "display_data",
                    "data": {
                        "text/html": "Total execution time: 00:00:00.022"
                    },
                    "metadata": {}
                },
                {
                    "output_type": "execute_result",
                    "metadata": {},
                    "execution_count": 2,
                    "data": {
                        "application/vnd.dataresource+json": {
                            "schema": {
                                "fields": [
                                    {
                                        "name": "Szoba"
                                    },
                                    {
                                        "name": "Év"
                                    },
                                    {
                                        "name": "Foglalások száma"
                                    }
                                ]
                            },
                            "data": [
                                {
                                    "Szoba": "1",
                                    "Év": "2016",
                                    "Foglalások száma": "8"
                                },
                                {
                                    "Szoba": "Részösszeg",
                                    "Év": "Összesen",
                                    "Foglalások száma": "8"
                                },
                                {
                                    "Szoba": "2",
                                    "Év": "2016",
                                    "Foglalások száma": "4"
                                },
                                {
                                    "Szoba": "Részösszeg",
                                    "Év": "Összesen",
                                    "Foglalások száma": "4"
                                },
                                {
                                    "Szoba": "3",
                                    "Év": "2016",
                                    "Foglalások száma": "6"
                                },
                                {
                                    "Szoba": "3",
                                    "Év": "2017",
                                    "Foglalások száma": "2"
                                },
                                {
                                    "Szoba": "Részösszeg",
                                    "Év": "Összesen",
                                    "Foglalások száma": "8"
                                },
                                {
                                    "Szoba": "4",
                                    "Év": "2016",
                                    "Foglalások száma": "5"
                                },
                                {
                                    "Szoba": "4",
                                    "Év": "2017",
                                    "Foglalások száma": "1"
                                },
                                {
                                    "Szoba": "Részösszeg",
                                    "Év": "Összesen",
                                    "Foglalások száma": "6"
                                },
                                {
                                    "Szoba": "5",
                                    "Év": "2016",
                                    "Foglalások száma": "4"
                                },
                                {
                                    "Szoba": "Részösszeg",
                                    "Év": "Összesen",
                                    "Foglalások száma": "4"
                                },
                                {
                                    "Szoba": "6",
                                    "Év": "2016",
                                    "Foglalások száma": "6"
                                },
                                {
                                    "Szoba": "Részösszeg",
                                    "Év": "Összesen",
                                    "Foglalások száma": "6"
                                },
                                {
                                    "Szoba": "7",
                                    "Év": "2016",
                                    "Foglalások száma": "6"
                                },
                                {
                                    "Szoba": "Részösszeg",
                                    "Év": "Összesen",
                                    "Foglalások száma": "6"
                                },
                                {
                                    "Szoba": "8",
                                    "Év": "2016",
                                    "Foglalások száma": "5"
                                },
                                {
                                    "Szoba": "Részösszeg",
                                    "Év": "Összesen",
                                    "Foglalások száma": "5"
                                },
                                {
                                    "Szoba": "9",
                                    "Év": "2016",
                                    "Foglalások száma": "4"
                                },
                                {
                                    "Szoba": "9",
                                    "Év": "2017",
                                    "Foglalások száma": "2"
                                },
                                {
                                    "Szoba": "Részösszeg",
                                    "Év": "Összesen",
                                    "Foglalások száma": "6"
                                },
                                {
                                    "Szoba": "10",
                                    "Év": "2016",
                                    "Foglalások száma": "4"
                                },
                                {
                                    "Szoba": "Részösszeg",
                                    "Év": "Összesen",
                                    "Foglalások száma": "4"
                                },
                                {
                                    "Szoba": "11",
                                    "Év": "2016",
                                    "Foglalások száma": "3"
                                },
                                {
                                    "Szoba": "11",
                                    "Év": "2017",
                                    "Foglalások száma": "1"
                                },
                                {
                                    "Szoba": "Részösszeg",
                                    "Év": "Összesen",
                                    "Foglalások száma": "4"
                                },
                                {
                                    "Szoba": "12",
                                    "Év": "2016",
                                    "Foglalások száma": "8"
                                },
                                {
                                    "Szoba": "12",
                                    "Év": "2017",
                                    "Foglalások száma": "1"
                                },
                                {
                                    "Szoba": "Részösszeg",
                                    "Év": "Összesen",
                                    "Foglalások száma": "9"
                                },
                                {
                                    "Szoba": "13",
                                    "Év": "2016",
                                    "Foglalások száma": "3"
                                },
                                {
                                    "Szoba": "13",
                                    "Év": "2017",
                                    "Foglalások száma": "1"
                                },
                                {
                                    "Szoba": "Részösszeg",
                                    "Év": "Összesen",
                                    "Foglalások száma": "4"
                                },
                                {
                                    "Szoba": "14",
                                    "Év": "2016",
                                    "Foglalások száma": "2"
                                },
                                {
                                    "Szoba": "14",
                                    "Év": "2017",
                                    "Foglalások száma": "1"
                                },
                                {
                                    "Szoba": "Részösszeg",
                                    "Év": "Összesen",
                                    "Foglalások száma": "3"
                                },
                                {
                                    "Szoba": "15",
                                    "Év": "2016",
                                    "Foglalások száma": "4"
                                },
                                {
                                    "Szoba": "15",
                                    "Év": "2017",
                                    "Foglalások száma": "2"
                                },
                                {
                                    "Szoba": "Részösszeg",
                                    "Év": "Összesen",
                                    "Foglalások száma": "6"
                                },
                                {
                                    "Szoba": "16",
                                    "Év": "2016",
                                    "Foglalások száma": "4"
                                },
                                {
                                    "Szoba": "16",
                                    "Év": "2017",
                                    "Foglalások száma": "1"
                                },
                                {
                                    "Szoba": "Részösszeg",
                                    "Év": "Összesen",
                                    "Foglalások száma": "5"
                                },
                                {
                                    "Szoba": "17",
                                    "Év": "2016",
                                    "Foglalások száma": "5"
                                },
                                {
                                    "Szoba": "17",
                                    "Év": "2017",
                                    "Foglalások száma": "1"
                                },
                                {
                                    "Szoba": "Részösszeg",
                                    "Év": "Összesen",
                                    "Foglalások száma": "6"
                                },
                                {
                                    "Szoba": "18",
                                    "Év": "2016",
                                    "Foglalások száma": "5"
                                },
                                {
                                    "Szoba": "18",
                                    "Év": "2017",
                                    "Foglalások száma": "1"
                                },
                                {
                                    "Szoba": "Részösszeg",
                                    "Év": "Összesen",
                                    "Foglalások száma": "6"
                                },
                                {
                                    "Szoba": "19",
                                    "Év": "2016",
                                    "Foglalások száma": "5"
                                },
                                {
                                    "Szoba": "19",
                                    "Év": "2017",
                                    "Foglalások száma": "1"
                                },
                                {
                                    "Szoba": "Részösszeg",
                                    "Év": "Összesen",
                                    "Foglalások száma": "6"
                                },
                                {
                                    "Szoba": "20",
                                    "Év": "2016",
                                    "Foglalások száma": "5"
                                },
                                {
                                    "Szoba": "Részösszeg",
                                    "Év": "Összesen",
                                    "Foglalások száma": "5"
                                },
                                {
                                    "Szoba": "21",
                                    "Év": "2016",
                                    "Foglalások száma": "4"
                                },
                                {
                                    "Szoba": "Részösszeg",
                                    "Év": "Összesen",
                                    "Foglalások száma": "4"
                                },
                                {
                                    "Szoba": "22",
                                    "Év": "2016",
                                    "Foglalások száma": "6"
                                },
                                {
                                    "Szoba": "Részösszeg",
                                    "Év": "Összesen",
                                    "Foglalások száma": "6"
                                },
                                {
                                    "Szoba": "23",
                                    "Év": "2016",
                                    "Foglalások száma": "3"
                                },
                                {
                                    "Szoba": "Részösszeg",
                                    "Év": "Összesen",
                                    "Foglalások száma": "3"
                                },
                                {
                                    "Szoba": "24",
                                    "Év": "2016",
                                    "Foglalások száma": "2"
                                },
                                {
                                    "Szoba": "24",
                                    "Év": "2017",
                                    "Foglalások száma": "1"
                                },
                                {
                                    "Szoba": "Részösszeg",
                                    "Év": "Összesen",
                                    "Foglalások száma": "3"
                                },
                                {
                                    "Szoba": "25",
                                    "Év": "2016",
                                    "Foglalások száma": "2"
                                },
                                {
                                    "Szoba": "Részösszeg",
                                    "Év": "Összesen",
                                    "Foglalások száma": "2"
                                },
                                {
                                    "Szoba": "26",
                                    "Év": "2016",
                                    "Foglalások száma": "2"
                                },
                                {
                                    "Szoba": "Részösszeg",
                                    "Év": "Összesen",
                                    "Foglalások száma": "2"
                                },
                                {
                                    "Szoba": "27",
                                    "Év": "2016",
                                    "Foglalások száma": "6"
                                },
                                {
                                    "Szoba": "27",
                                    "Év": "2017",
                                    "Foglalások száma": "1"
                                },
                                {
                                    "Szoba": "Részösszeg",
                                    "Év": "Összesen",
                                    "Foglalások száma": "7"
                                },
                                {
                                    "Szoba": "28",
                                    "Év": "2016",
                                    "Foglalások száma": "5"
                                },
                                {
                                    "Szoba": "28",
                                    "Év": "2017",
                                    "Foglalások száma": "1"
                                },
                                {
                                    "Szoba": "Részösszeg",
                                    "Év": "Összesen",
                                    "Foglalások száma": "6"
                                },
                                {
                                    "Szoba": "29",
                                    "Év": "2016",
                                    "Foglalások száma": "5"
                                },
                                {
                                    "Szoba": "29",
                                    "Év": "2017",
                                    "Foglalások száma": "1"
                                },
                                {
                                    "Szoba": "Részösszeg",
                                    "Év": "Összesen",
                                    "Foglalások száma": "6"
                                },
                                {
                                    "Szoba": "30",
                                    "Év": "2016",
                                    "Foglalások száma": "3"
                                },
                                {
                                    "Szoba": "Részösszeg",
                                    "Év": "Összesen",
                                    "Foglalások száma": "3"
                                },
                                {
                                    "Szoba": "31",
                                    "Év": "2016",
                                    "Foglalások száma": "3"
                                },
                                {
                                    "Szoba": "Részösszeg",
                                    "Év": "Összesen",
                                    "Foglalások száma": "3"
                                },
                                {
                                    "Szoba": "32",
                                    "Év": "2016",
                                    "Foglalások száma": "1"
                                },
                                {
                                    "Szoba": "Részösszeg",
                                    "Év": "Összesen",
                                    "Foglalások száma": "1"
                                },
                                {
                                    "Szoba": "33",
                                    "Év": "2016",
                                    "Foglalások száma": "6"
                                },
                                {
                                    "Szoba": "Részösszeg",
                                    "Év": "Összesen",
                                    "Foglalások száma": "6"
                                },
                                {
                                    "Szoba": "34",
                                    "Év": "2016",
                                    "Foglalások száma": "4"
                                },
                                {
                                    "Szoba": "Részösszeg",
                                    "Év": "Összesen",
                                    "Foglalások száma": "4"
                                },
                                {
                                    "Szoba": "35",
                                    "Év": "2016",
                                    "Foglalások száma": "6"
                                },
                                {
                                    "Szoba": "35",
                                    "Év": "2017",
                                    "Foglalások száma": "3"
                                },
                                {
                                    "Szoba": "Részösszeg",
                                    "Év": "Összesen",
                                    "Foglalások száma": "9"
                                },
                                {
                                    "Szoba": "36",
                                    "Év": "2016",
                                    "Foglalások száma": "6"
                                },
                                {
                                    "Szoba": "Részösszeg",
                                    "Év": "Összesen",
                                    "Foglalások száma": "6"
                                },
                                {
                                    "Szoba": "37",
                                    "Év": "2016",
                                    "Foglalások száma": "3"
                                },
                                {
                                    "Szoba": "Részösszeg",
                                    "Év": "Összesen",
                                    "Foglalások száma": "3"
                                },
                                {
                                    "Szoba": "38",
                                    "Év": "2016",
                                    "Foglalások száma": "5"
                                },
                                {
                                    "Szoba": "38",
                                    "Év": "2017",
                                    "Foglalások száma": "3"
                                },
                                {
                                    "Szoba": "Részösszeg",
                                    "Év": "Összesen",
                                    "Foglalások száma": "8"
                                },
                                {
                                    "Szoba": "39",
                                    "Év": "2016",
                                    "Foglalások száma": "4"
                                },
                                {
                                    "Szoba": "39",
                                    "Év": "2017",
                                    "Foglalások száma": "3"
                                },
                                {
                                    "Szoba": "Részösszeg",
                                    "Év": "Összesen",
                                    "Foglalások száma": "7"
                                },
                                {
                                    "Szoba": "40",
                                    "Év": "2016",
                                    "Foglalások száma": "4"
                                },
                                {
                                    "Szoba": "Részösszeg",
                                    "Év": "Összesen",
                                    "Foglalások száma": "4"
                                },
                                {
                                    "Szoba": "41",
                                    "Év": "2016",
                                    "Foglalások száma": "2"
                                },
                                {
                                    "Szoba": "Részösszeg",
                                    "Év": "Összesen",
                                    "Foglalások száma": "2"
                                },
                                {
                                    "Szoba": "42",
                                    "Év": "2016",
                                    "Foglalások száma": "5"
                                },
                                {
                                    "Szoba": "42",
                                    "Év": "2017",
                                    "Foglalások száma": "1"
                                },
                                {
                                    "Szoba": "Részösszeg",
                                    "Év": "Összesen",
                                    "Foglalások száma": "6"
                                },
                                {
                                    "Szoba": "43",
                                    "Év": "2016",
                                    "Foglalások száma": "6"
                                },
                                {
                                    "Szoba": "43",
                                    "Év": "2017",
                                    "Foglalások száma": "2"
                                },
                                {
                                    "Szoba": "Részösszeg",
                                    "Év": "Összesen",
                                    "Foglalások száma": "8"
                                },
                                {
                                    "Szoba": "44",
                                    "Év": "2016",
                                    "Foglalások száma": "4"
                                },
                                {
                                    "Szoba": "44",
                                    "Év": "2017",
                                    "Foglalások száma": "2"
                                },
                                {
                                    "Szoba": "Részösszeg",
                                    "Év": "Összesen",
                                    "Foglalások száma": "6"
                                },
                                {
                                    "Szoba": "45",
                                    "Év": "2016",
                                    "Foglalások száma": "5"
                                },
                                {
                                    "Szoba": "Részösszeg",
                                    "Év": "Összesen",
                                    "Foglalások száma": "5"
                                },
                                {
                                    "Szoba": "46",
                                    "Év": "2016",
                                    "Foglalások száma": "3"
                                },
                                {
                                    "Szoba": "46",
                                    "Év": "2017",
                                    "Foglalások száma": "1"
                                },
                                {
                                    "Szoba": "Részösszeg",
                                    "Év": "Összesen",
                                    "Foglalások száma": "4"
                                },
                                {
                                    "Szoba": "47",
                                    "Év": "2016",
                                    "Foglalások száma": "2"
                                },
                                {
                                    "Szoba": "Részösszeg",
                                    "Év": "Összesen",
                                    "Foglalások száma": "2"
                                },
                                {
                                    "Szoba": "48",
                                    "Év": "2016",
                                    "Foglalások száma": "6"
                                },
                                {
                                    "Szoba": "48",
                                    "Év": "2017",
                                    "Foglalások száma": "3"
                                },
                                {
                                    "Szoba": "Részösszeg",
                                    "Év": "Összesen",
                                    "Foglalások száma": "9"
                                },
                                {
                                    "Szoba": "49",
                                    "Év": "2016",
                                    "Foglalások száma": "6"
                                },
                                {
                                    "Szoba": "49",
                                    "Év": "2017",
                                    "Foglalások száma": "1"
                                },
                                {
                                    "Szoba": "Részösszeg",
                                    "Év": "Összesen",
                                    "Foglalások száma": "7"
                                },
                                {
                                    "Szoba": "50",
                                    "Év": "2016",
                                    "Foglalások száma": "4"
                                },
                                {
                                    "Szoba": "Részösszeg",
                                    "Év": "Összesen",
                                    "Foglalások száma": "4"
                                },
                                {
                                    "Szoba": "51",
                                    "Év": "2016",
                                    "Foglalások száma": "3"
                                },
                                {
                                    "Szoba": "51",
                                    "Év": "2017",
                                    "Foglalások száma": "2"
                                },
                                {
                                    "Szoba": "Részösszeg",
                                    "Év": "Összesen",
                                    "Foglalások száma": "5"
                                },
                                {
                                    "Szoba": "52",
                                    "Év": "2016",
                                    "Foglalások száma": "3"
                                },
                                {
                                    "Szoba": "52",
                                    "Év": "2017",
                                    "Foglalások száma": "2"
                                },
                                {
                                    "Szoba": "Részösszeg",
                                    "Év": "Összesen",
                                    "Foglalások száma": "5"
                                },
                                {
                                    "Szoba": "53",
                                    "Év": "2016",
                                    "Foglalások száma": "2"
                                },
                                {
                                    "Szoba": "Részösszeg",
                                    "Év": "Összesen",
                                    "Foglalások száma": "2"
                                },
                                {
                                    "Szoba": "54",
                                    "Év": "2016",
                                    "Foglalások száma": "6"
                                },
                                {
                                    "Szoba": "Részösszeg",
                                    "Év": "Összesen",
                                    "Foglalások száma": "6"
                                },
                                {
                                    "Szoba": "55",
                                    "Év": "2016",
                                    "Foglalások száma": "6"
                                },
                                {
                                    "Szoba": "55",
                                    "Év": "2017",
                                    "Foglalások száma": "2"
                                },
                                {
                                    "Szoba": "Részösszeg",
                                    "Év": "Összesen",
                                    "Foglalások száma": "8"
                                },
                                {
                                    "Szoba": "56",
                                    "Év": "2016",
                                    "Foglalások száma": "2"
                                },
                                {
                                    "Szoba": "Részösszeg",
                                    "Év": "Összesen",
                                    "Foglalások száma": "2"
                                },
                                {
                                    "Szoba": "57",
                                    "Év": "2016",
                                    "Foglalások száma": "2"
                                },
                                {
                                    "Szoba": "57",
                                    "Év": "2017",
                                    "Foglalások száma": "2"
                                },
                                {
                                    "Szoba": "Részösszeg",
                                    "Év": "Összesen",
                                    "Foglalások száma": "4"
                                },
                                {
                                    "Szoba": "58",
                                    "Év": "2016",
                                    "Foglalások száma": "12"
                                },
                                {
                                    "Szoba": "58",
                                    "Év": "2017",
                                    "Foglalások száma": "1"
                                },
                                {
                                    "Szoba": "Részösszeg",
                                    "Év": "Összesen",
                                    "Foglalások száma": "13"
                                },
                                {
                                    "Szoba": "59",
                                    "Év": "2016",
                                    "Foglalások száma": "6"
                                },
                                {
                                    "Szoba": "59",
                                    "Év": "2017",
                                    "Foglalások száma": "1"
                                },
                                {
                                    "Szoba": "Részösszeg",
                                    "Év": "Összesen",
                                    "Foglalások száma": "7"
                                },
                                {
                                    "Szoba": "60",
                                    "Év": "2016",
                                    "Foglalások száma": "1"
                                },
                                {
                                    "Szoba": "Részösszeg",
                                    "Év": "Összesen",
                                    "Foglalások száma": "1"
                                },
                                {
                                    "Szoba": "61",
                                    "Év": "2016",
                                    "Foglalások száma": "4"
                                },
                                {
                                    "Szoba": "61",
                                    "Év": "2017",
                                    "Foglalások száma": "1"
                                },
                                {
                                    "Szoba": "Részösszeg",
                                    "Év": "Összesen",
                                    "Foglalások száma": "5"
                                },
                                {
                                    "Szoba": "62",
                                    "Év": "2016",
                                    "Foglalások száma": "4"
                                },
                                {
                                    "Szoba": "62",
                                    "Év": "2017",
                                    "Foglalások száma": "1"
                                },
                                {
                                    "Szoba": "Részösszeg",
                                    "Év": "Összesen",
                                    "Foglalások száma": "5"
                                },
                                {
                                    "Szoba": "63",
                                    "Év": "2016",
                                    "Foglalások száma": "4"
                                },
                                {
                                    "Szoba": "Részösszeg",
                                    "Év": "Összesen",
                                    "Foglalások száma": "4"
                                },
                                {
                                    "Szoba": "64",
                                    "Év": "2016",
                                    "Foglalások száma": "3"
                                },
                                {
                                    "Szoba": "64",
                                    "Év": "2017",
                                    "Foglalások száma": "3"
                                },
                                {
                                    "Szoba": "Részösszeg",
                                    "Év": "Összesen",
                                    "Foglalások száma": "6"
                                },
                                {
                                    "Szoba": "65",
                                    "Év": "2016",
                                    "Foglalások száma": "1"
                                },
                                {
                                    "Szoba": "Részösszeg",
                                    "Év": "Összesen",
                                    "Foglalások száma": "1"
                                },
                                {
                                    "Szoba": "66",
                                    "Év": "2016",
                                    "Foglalások száma": "4"
                                },
                                {
                                    "Szoba": "Részösszeg",
                                    "Év": "Összesen",
                                    "Foglalások száma": "4"
                                },
                                {
                                    "Szoba": "67",
                                    "Év": "2016",
                                    "Foglalások száma": "4"
                                },
                                {
                                    "Szoba": "67",
                                    "Év": "2017",
                                    "Foglalások száma": "2"
                                },
                                {
                                    "Szoba": "Részösszeg",
                                    "Év": "Összesen",
                                    "Foglalások száma": "6"
                                },
                                {
                                    "Szoba": "68",
                                    "Év": "2016",
                                    "Foglalások száma": "3"
                                },
                                {
                                    "Szoba": "Részösszeg",
                                    "Év": "Összesen",
                                    "Foglalások száma": "3"
                                },
                                {
                                    "Szoba": "69",
                                    "Év": "2016",
                                    "Foglalások száma": "4"
                                },
                                {
                                    "Szoba": "Részösszeg",
                                    "Év": "Összesen",
                                    "Foglalások száma": "4"
                                },
                                {
                                    "Szoba": "70",
                                    "Év": "2016",
                                    "Foglalások száma": "10"
                                },
                                {
                                    "Szoba": "70",
                                    "Év": "2017",
                                    "Foglalások száma": "1"
                                },
                                {
                                    "Szoba": "Részösszeg",
                                    "Év": "Összesen",
                                    "Foglalások száma": "11"
                                },
                                {
                                    "Szoba": "71",
                                    "Év": "2016",
                                    "Foglalások száma": "3"
                                },
                                {
                                    "Szoba": "Részösszeg",
                                    "Év": "Összesen",
                                    "Foglalások száma": "3"
                                },
                                {
                                    "Szoba": "72",
                                    "Év": "2016",
                                    "Foglalások száma": "4"
                                },
                                {
                                    "Szoba": "Részösszeg",
                                    "Év": "Összesen",
                                    "Foglalások száma": "4"
                                },
                                {
                                    "Szoba": "73",
                                    "Év": "2016",
                                    "Foglalások száma": "4"
                                },
                                {
                                    "Szoba": "Részösszeg",
                                    "Év": "Összesen",
                                    "Foglalások száma": "4"
                                },
                                {
                                    "Szoba": "74",
                                    "Év": "2016",
                                    "Foglalások száma": "9"
                                },
                                {
                                    "Szoba": "Részösszeg",
                                    "Év": "Összesen",
                                    "Foglalások száma": "9"
                                },
                                {
                                    "Szoba": "75",
                                    "Év": "2016",
                                    "Foglalások száma": "1"
                                },
                                {
                                    "Szoba": "75",
                                    "Év": "2017",
                                    "Foglalások száma": "2"
                                },
                                {
                                    "Szoba": "Részösszeg",
                                    "Év": "Összesen",
                                    "Foglalások száma": "3"
                                },
                                {
                                    "Szoba": "76",
                                    "Év": "2016",
                                    "Foglalások száma": "2"
                                },
                                {
                                    "Szoba": "76",
                                    "Év": "2017",
                                    "Foglalások száma": "1"
                                },
                                {
                                    "Szoba": "Részösszeg",
                                    "Év": "Összesen",
                                    "Foglalások száma": "3"
                                },
                                {
                                    "Szoba": "77",
                                    "Év": "2016",
                                    "Foglalások száma": "4"
                                },
                                {
                                    "Szoba": "77",
                                    "Év": "2017",
                                    "Foglalások száma": "2"
                                },
                                {
                                    "Szoba": "Részösszeg",
                                    "Év": "Összesen",
                                    "Foglalások száma": "6"
                                },
                                {
                                    "Szoba": "78",
                                    "Év": "2016",
                                    "Foglalások száma": "5"
                                },
                                {
                                    "Szoba": "78",
                                    "Év": "2017",
                                    "Foglalások száma": "1"
                                },
                                {
                                    "Szoba": "Részösszeg",
                                    "Év": "Összesen",
                                    "Foglalások száma": "6"
                                },
                                {
                                    "Szoba": "79",
                                    "Év": "2016",
                                    "Foglalások száma": "4"
                                },
                                {
                                    "Szoba": "79",
                                    "Év": "2017",
                                    "Foglalások száma": "1"
                                },
                                {
                                    "Szoba": "Részösszeg",
                                    "Év": "Összesen",
                                    "Foglalások száma": "5"
                                },
                                {
                                    "Szoba": "80",
                                    "Év": "2016",
                                    "Foglalások száma": "7"
                                },
                                {
                                    "Szoba": "Részösszeg",
                                    "Év": "Összesen",
                                    "Foglalások száma": "7"
                                },
                                {
                                    "Szoba": "81",
                                    "Év": "2016",
                                    "Foglalások száma": "1"
                                },
                                {
                                    "Szoba": "81",
                                    "Év": "2017",
                                    "Foglalások száma": "4"
                                },
                                {
                                    "Szoba": "Részösszeg",
                                    "Év": "Összesen",
                                    "Foglalások száma": "5"
                                },
                                {
                                    "Szoba": "82",
                                    "Év": "2016",
                                    "Foglalások száma": "6"
                                },
                                {
                                    "Szoba": "Részösszeg",
                                    "Év": "Összesen",
                                    "Foglalások száma": "6"
                                },
                                {
                                    "Szoba": "83",
                                    "Év": "2016",
                                    "Foglalások száma": "8"
                                },
                                {
                                    "Szoba": "Részösszeg",
                                    "Év": "Összesen",
                                    "Foglalások száma": "8"
                                },
                                {
                                    "Szoba": "84",
                                    "Év": "2016",
                                    "Foglalások száma": "4"
                                },
                                {
                                    "Szoba": "Részösszeg",
                                    "Év": "Összesen",
                                    "Foglalások száma": "4"
                                },
                                {
                                    "Szoba": "85",
                                    "Év": "2016",
                                    "Foglalások száma": "3"
                                },
                                {
                                    "Szoba": "85",
                                    "Év": "2017",
                                    "Foglalások száma": "1"
                                },
                                {
                                    "Szoba": "Részösszeg",
                                    "Év": "Összesen",
                                    "Foglalások száma": "4"
                                },
                                {
                                    "Szoba": "86",
                                    "Év": "2016",
                                    "Foglalások száma": "4"
                                },
                                {
                                    "Szoba": "86",
                                    "Év": "2017",
                                    "Foglalások száma": "1"
                                },
                                {
                                    "Szoba": "Részösszeg",
                                    "Év": "Összesen",
                                    "Foglalások száma": "5"
                                },
                                {
                                    "Szoba": "87",
                                    "Év": "2016",
                                    "Foglalások száma": "4"
                                },
                                {
                                    "Szoba": "87",
                                    "Év": "2017",
                                    "Foglalások száma": "1"
                                },
                                {
                                    "Szoba": "Részösszeg",
                                    "Év": "Összesen",
                                    "Foglalások száma": "5"
                                },
                                {
                                    "Szoba": "88",
                                    "Év": "2016",
                                    "Foglalások száma": "6"
                                },
                                {
                                    "Szoba": "88",
                                    "Év": "2017",
                                    "Foglalások száma": "2"
                                },
                                {
                                    "Szoba": "Részösszeg",
                                    "Év": "Összesen",
                                    "Foglalások száma": "8"
                                },
                                {
                                    "Szoba": "89",
                                    "Év": "2016",
                                    "Foglalások száma": "7"
                                },
                                {
                                    "Szoba": "89",
                                    "Év": "2017",
                                    "Foglalások száma": "1"
                                },
                                {
                                    "Szoba": "Részösszeg",
                                    "Év": "Összesen",
                                    "Foglalások száma": "8"
                                },
                                {
                                    "Szoba": "90",
                                    "Év": "2016",
                                    "Foglalások száma": "4"
                                },
                                {
                                    "Szoba": "Részösszeg",
                                    "Év": "Összesen",
                                    "Foglalások száma": "4"
                                },
                                {
                                    "Szoba": "91",
                                    "Év": "2016",
                                    "Foglalások száma": "4"
                                },
                                {
                                    "Szoba": "Részösszeg",
                                    "Év": "Összesen",
                                    "Foglalások száma": "4"
                                },
                                {
                                    "Szoba": "92",
                                    "Év": "2016",
                                    "Foglalások száma": "4"
                                },
                                {
                                    "Szoba": "92",
                                    "Év": "2017",
                                    "Foglalások száma": "2"
                                },
                                {
                                    "Szoba": "Részösszeg",
                                    "Év": "Összesen",
                                    "Foglalások száma": "6"
                                },
                                {
                                    "Szoba": "93",
                                    "Év": "2016",
                                    "Foglalások száma": "5"
                                },
                                {
                                    "Szoba": "Részösszeg",
                                    "Év": "Összesen",
                                    "Foglalások száma": "5"
                                },
                                {
                                    "Szoba": "94",
                                    "Év": "2016",
                                    "Foglalások száma": "8"
                                },
                                {
                                    "Szoba": "94",
                                    "Év": "2017",
                                    "Foglalások száma": "2"
                                },
                                {
                                    "Szoba": "Részösszeg",
                                    "Év": "Összesen",
                                    "Foglalások száma": "10"
                                },
                                {
                                    "Szoba": "95",
                                    "Év": "2016",
                                    "Foglalások száma": "3"
                                },
                                {
                                    "Szoba": "95",
                                    "Év": "2017",
                                    "Foglalások száma": "1"
                                },
                                {
                                    "Szoba": "Részösszeg",
                                    "Év": "Összesen",
                                    "Foglalások száma": "4"
                                },
                                {
                                    "Szoba": "96",
                                    "Év": "2016",
                                    "Foglalások száma": "5"
                                },
                                {
                                    "Szoba": "96",
                                    "Év": "2017",
                                    "Foglalások száma": "2"
                                },
                                {
                                    "Szoba": "Részösszeg",
                                    "Év": "Összesen",
                                    "Foglalások száma": "7"
                                },
                                {
                                    "Szoba": "97",
                                    "Év": "2016",
                                    "Foglalások száma": "5"
                                },
                                {
                                    "Szoba": "97",
                                    "Év": "2017",
                                    "Foglalások száma": "2"
                                },
                                {
                                    "Szoba": "Részösszeg",
                                    "Év": "Összesen",
                                    "Foglalások száma": "7"
                                },
                                {
                                    "Szoba": "98",
                                    "Év": "2016",
                                    "Foglalások száma": "4"
                                },
                                {
                                    "Szoba": "Részösszeg",
                                    "Év": "Összesen",
                                    "Foglalások száma": "4"
                                },
                                {
                                    "Szoba": "99",
                                    "Év": "2016",
                                    "Foglalások száma": "4"
                                },
                                {
                                    "Szoba": "99",
                                    "Év": "2017",
                                    "Foglalások száma": "1"
                                },
                                {
                                    "Szoba": "Részösszeg",
                                    "Év": "Összesen",
                                    "Foglalások száma": "5"
                                },
                                {
                                    "Szoba": "100",
                                    "Év": "2016",
                                    "Foglalások száma": "3"
                                },
                                {
                                    "Szoba": "100",
                                    "Év": "2017",
                                    "Foglalások száma": "1"
                                },
                                {
                                    "Szoba": "Részösszeg",
                                    "Év": "Összesen",
                                    "Foglalások száma": "4"
                                },
                                {
                                    "Szoba": "101",
                                    "Év": "2016",
                                    "Foglalások száma": "2"
                                },
                                {
                                    "Szoba": "101",
                                    "Év": "2017",
                                    "Foglalások száma": "1"
                                },
                                {
                                    "Szoba": "Részösszeg",
                                    "Év": "Összesen",
                                    "Foglalások száma": "3"
                                },
                                {
                                    "Szoba": "102",
                                    "Év": "2016",
                                    "Foglalások száma": "2"
                                },
                                {
                                    "Szoba": "Részösszeg",
                                    "Év": "Összesen",
                                    "Foglalások száma": "2"
                                },
                                {
                                    "Szoba": "103",
                                    "Év": "2016",
                                    "Foglalások száma": "3"
                                },
                                {
                                    "Szoba": "103",
                                    "Év": "2017",
                                    "Foglalások száma": "1"
                                },
                                {
                                    "Szoba": "Részösszeg",
                                    "Év": "Összesen",
                                    "Foglalások száma": "4"
                                },
                                {
                                    "Szoba": "104",
                                    "Év": "2016",
                                    "Foglalások száma": "2"
                                },
                                {
                                    "Szoba": "104",
                                    "Év": "2017",
                                    "Foglalások száma": "2"
                                },
                                {
                                    "Szoba": "Részösszeg",
                                    "Év": "Összesen",
                                    "Foglalások száma": "4"
                                },
                                {
                                    "Szoba": "105",
                                    "Év": "2016",
                                    "Foglalások száma": "1"
                                },
                                {
                                    "Szoba": "105",
                                    "Év": "2017",
                                    "Foglalások száma": "1"
                                },
                                {
                                    "Szoba": "Részösszeg",
                                    "Év": "Összesen",
                                    "Foglalások száma": "2"
                                },
                                {
                                    "Szoba": "106",
                                    "Év": "2016",
                                    "Foglalások száma": "5"
                                },
                                {
                                    "Szoba": "106",
                                    "Év": "2017",
                                    "Foglalások száma": "1"
                                },
                                {
                                    "Szoba": "Részösszeg",
                                    "Év": "Összesen",
                                    "Foglalások száma": "6"
                                },
                                {
                                    "Szoba": "107",
                                    "Év": "2016",
                                    "Foglalások száma": "3"
                                },
                                {
                                    "Szoba": "107",
                                    "Év": "2017",
                                    "Foglalások száma": "2"
                                },
                                {
                                    "Szoba": "Részösszeg",
                                    "Év": "Összesen",
                                    "Foglalások száma": "5"
                                },
                                {
                                    "Szoba": "108",
                                    "Év": "2016",
                                    "Foglalások száma": "2"
                                },
                                {
                                    "Szoba": "Részösszeg",
                                    "Év": "Összesen",
                                    "Foglalások száma": "2"
                                },
                                {
                                    "Szoba": "109",
                                    "Év": "2016",
                                    "Foglalások száma": "6"
                                },
                                {
                                    "Szoba": "109",
                                    "Év": "2017",
                                    "Foglalások száma": "1"
                                },
                                {
                                    "Szoba": "Részösszeg",
                                    "Év": "Összesen",
                                    "Foglalások száma": "7"
                                },
                                {
                                    "Szoba": "110",
                                    "Év": "2016",
                                    "Foglalások száma": "6"
                                },
                                {
                                    "Szoba": "110",
                                    "Év": "2017",
                                    "Foglalások száma": "2"
                                },
                                {
                                    "Szoba": "Részösszeg",
                                    "Év": "Összesen",
                                    "Foglalások száma": "8"
                                },
                                {
                                    "Szoba": "111",
                                    "Év": "2016",
                                    "Foglalások száma": "5"
                                },
                                {
                                    "Szoba": "Részösszeg",
                                    "Év": "Összesen",
                                    "Foglalások száma": "5"
                                },
                                {
                                    "Szoba": "112",
                                    "Év": "2016",
                                    "Foglalások száma": "4"
                                },
                                {
                                    "Szoba": "112",
                                    "Év": "2017",
                                    "Foglalások száma": "1"
                                },
                                {
                                    "Szoba": "Részösszeg",
                                    "Év": "Összesen",
                                    "Foglalások száma": "5"
                                },
                                {
                                    "Szoba": "113",
                                    "Év": "2016",
                                    "Foglalások száma": "3"
                                },
                                {
                                    "Szoba": "113",
                                    "Év": "2017",
                                    "Foglalások száma": "2"
                                },
                                {
                                    "Szoba": "Részösszeg",
                                    "Év": "Összesen",
                                    "Foglalások száma": "5"
                                },
                                {
                                    "Szoba": "114",
                                    "Év": "2016",
                                    "Foglalások száma": "3"
                                },
                                {
                                    "Szoba": "114",
                                    "Év": "2017",
                                    "Foglalások száma": "1"
                                },
                                {
                                    "Szoba": "Részösszeg",
                                    "Év": "Összesen",
                                    "Foglalások száma": "4"
                                },
                                {
                                    "Szoba": "115",
                                    "Év": "2016",
                                    "Foglalások száma": "5"
                                },
                                {
                                    "Szoba": "115",
                                    "Év": "2017",
                                    "Foglalások száma": "2"
                                },
                                {
                                    "Szoba": "Részösszeg",
                                    "Év": "Összesen",
                                    "Foglalások száma": "7"
                                },
                                {
                                    "Szoba": "116",
                                    "Év": "2017",
                                    "Foglalások száma": "2"
                                },
                                {
                                    "Szoba": "Részösszeg",
                                    "Év": "Összesen",
                                    "Foglalások száma": "2"
                                },
                                {
                                    "Szoba": "117",
                                    "Év": "2016",
                                    "Foglalások száma": "7"
                                },
                                {
                                    "Szoba": "117",
                                    "Év": "2017",
                                    "Foglalások száma": "1"
                                },
                                {
                                    "Szoba": "Részösszeg",
                                    "Év": "Összesen",
                                    "Foglalások száma": "8"
                                },
                                {
                                    "Szoba": "118",
                                    "Év": "2016",
                                    "Foglalások száma": "5"
                                },
                                {
                                    "Szoba": "118",
                                    "Év": "2017",
                                    "Foglalások száma": "2"
                                },
                                {
                                    "Szoba": "Részösszeg",
                                    "Év": "Összesen",
                                    "Foglalások száma": "7"
                                },
                                {
                                    "Szoba": "119",
                                    "Év": "2016",
                                    "Foglalások száma": "3"
                                },
                                {
                                    "Szoba": "119",
                                    "Év": "2017",
                                    "Foglalások száma": "2"
                                },
                                {
                                    "Szoba": "Részösszeg",
                                    "Év": "Összesen",
                                    "Foglalások száma": "5"
                                },
                                {
                                    "Szoba": "120",
                                    "Év": "2016",
                                    "Foglalások száma": "4"
                                },
                                {
                                    "Szoba": "120",
                                    "Év": "2017",
                                    "Foglalások száma": "2"
                                },
                                {
                                    "Szoba": "Részösszeg",
                                    "Év": "Összesen",
                                    "Foglalások száma": "6"
                                },
                                {
                                    "Szoba": "121",
                                    "Év": "2016",
                                    "Foglalások száma": "8"
                                },
                                {
                                    "Szoba": "Részösszeg",
                                    "Év": "Összesen",
                                    "Foglalások száma": "8"
                                },
                                {
                                    "Szoba": "122",
                                    "Év": "2016",
                                    "Foglalások száma": "8"
                                },
                                {
                                    "Szoba": "122",
                                    "Év": "2017",
                                    "Foglalások száma": "1"
                                },
                                {
                                    "Szoba": "Részösszeg",
                                    "Év": "Összesen",
                                    "Foglalások száma": "9"
                                },
                                {
                                    "Szoba": "123",
                                    "Év": "2016",
                                    "Foglalások száma": "5"
                                },
                                {
                                    "Szoba": "Részösszeg",
                                    "Év": "Összesen",
                                    "Foglalások száma": "5"
                                },
                                {
                                    "Szoba": "124",
                                    "Év": "2016",
                                    "Foglalások száma": "4"
                                },
                                {
                                    "Szoba": "124",
                                    "Év": "2017",
                                    "Foglalások száma": "2"
                                },
                                {
                                    "Szoba": "Részösszeg",
                                    "Év": "Összesen",
                                    "Foglalások száma": "6"
                                },
                                {
                                    "Szoba": "125",
                                    "Év": "2016",
                                    "Foglalások száma": "1"
                                },
                                {
                                    "Szoba": "Részösszeg",
                                    "Év": "Összesen",
                                    "Foglalások száma": "1"
                                },
                                {
                                    "Szoba": "126",
                                    "Év": "2016",
                                    "Foglalások száma": "4"
                                },
                                {
                                    "Szoba": "126",
                                    "Év": "2017",
                                    "Foglalások száma": "2"
                                },
                                {
                                    "Szoba": "Részösszeg",
                                    "Év": "Összesen",
                                    "Foglalások száma": "6"
                                },
                                {
                                    "Szoba": "127",
                                    "Év": "2016",
                                    "Foglalások száma": "6"
                                },
                                {
                                    "Szoba": "127",
                                    "Év": "2017",
                                    "Foglalások száma": "1"
                                },
                                {
                                    "Szoba": "Részösszeg",
                                    "Év": "Összesen",
                                    "Foglalások száma": "7"
                                },
                                {
                                    "Szoba": "128",
                                    "Év": "2016",
                                    "Foglalások száma": "3"
                                },
                                {
                                    "Szoba": "128",
                                    "Év": "2017",
                                    "Foglalások száma": "2"
                                },
                                {
                                    "Szoba": "Részösszeg",
                                    "Év": "Összesen",
                                    "Foglalások száma": "5"
                                },
                                {
                                    "Szoba": "129",
                                    "Év": "2016",
                                    "Foglalások száma": "2"
                                },
                                {
                                    "Szoba": "129",
                                    "Év": "2017",
                                    "Foglalások száma": "2"
                                },
                                {
                                    "Szoba": "Részösszeg",
                                    "Év": "Összesen",
                                    "Foglalások száma": "4"
                                },
                                {
                                    "Szoba": "130",
                                    "Év": "2016",
                                    "Foglalások száma": "5"
                                },
                                {
                                    "Szoba": "130",
                                    "Év": "2017",
                                    "Foglalások száma": "1"
                                },
                                {
                                    "Szoba": "Részösszeg",
                                    "Év": "Összesen",
                                    "Foglalások száma": "6"
                                },
                                {
                                    "Szoba": "131",
                                    "Év": "2016",
                                    "Foglalások száma": "4"
                                },
                                {
                                    "Szoba": "131",
                                    "Év": "2017",
                                    "Foglalások száma": "1"
                                },
                                {
                                    "Szoba": "Részösszeg",
                                    "Év": "Összesen",
                                    "Foglalások száma": "5"
                                },
                                {
                                    "Szoba": "132",
                                    "Év": "2016",
                                    "Foglalások száma": "5"
                                },
                                {
                                    "Szoba": "132",
                                    "Év": "2017",
                                    "Foglalások száma": "1"
                                },
                                {
                                    "Szoba": "Részösszeg",
                                    "Év": "Összesen",
                                    "Foglalások száma": "6"
                                },
                                {
                                    "Szoba": "133",
                                    "Év": "2016",
                                    "Foglalások száma": "5"
                                },
                                {
                                    "Szoba": "133",
                                    "Év": "2017",
                                    "Foglalások száma": "1"
                                },
                                {
                                    "Szoba": "Részösszeg",
                                    "Év": "Összesen",
                                    "Foglalások száma": "6"
                                },
                                {
                                    "Szoba": "134",
                                    "Év": "2016",
                                    "Foglalások száma": "5"
                                },
                                {
                                    "Szoba": "134",
                                    "Év": "2017",
                                    "Foglalások száma": "1"
                                },
                                {
                                    "Szoba": "Részösszeg",
                                    "Év": "Összesen",
                                    "Foglalások száma": "6"
                                },
                                {
                                    "Szoba": "135",
                                    "Év": "2016",
                                    "Foglalások száma": "3"
                                },
                                {
                                    "Szoba": "Részösszeg",
                                    "Év": "Összesen",
                                    "Foglalások száma": "3"
                                },
                                {
                                    "Szoba": "136",
                                    "Év": "2016",
                                    "Foglalások száma": "3"
                                },
                                {
                                    "Szoba": "Részösszeg",
                                    "Év": "Összesen",
                                    "Foglalások száma": "3"
                                },
                                {
                                    "Szoba": "137",
                                    "Év": "2016",
                                    "Foglalások száma": "6"
                                },
                                {
                                    "Szoba": "Részösszeg",
                                    "Év": "Összesen",
                                    "Foglalások száma": "6"
                                },
                                {
                                    "Szoba": "138",
                                    "Év": "2016",
                                    "Foglalások száma": "7"
                                },
                                {
                                    "Szoba": "Részösszeg",
                                    "Év": "Összesen",
                                    "Foglalások száma": "7"
                                },
                                {
                                    "Szoba": "139",
                                    "Év": "2016",
                                    "Foglalások száma": "5"
                                },
                                {
                                    "Szoba": "139",
                                    "Év": "2017",
                                    "Foglalások száma": "2"
                                },
                                {
                                    "Szoba": "Részösszeg",
                                    "Év": "Összesen",
                                    "Foglalások száma": "7"
                                },
                                {
                                    "Szoba": "140",
                                    "Év": "2016",
                                    "Foglalások száma": "8"
                                },
                                {
                                    "Szoba": "Részösszeg",
                                    "Év": "Összesen",
                                    "Foglalások száma": "8"
                                },
                                {
                                    "Szoba": "141",
                                    "Év": "2016",
                                    "Foglalások száma": "6"
                                },
                                {
                                    "Szoba": "Részösszeg",
                                    "Év": "Összesen",
                                    "Foglalások száma": "6"
                                },
                                {
                                    "Szoba": "142",
                                    "Év": "2016",
                                    "Foglalások száma": "1"
                                },
                                {
                                    "Szoba": "142",
                                    "Év": "2017",
                                    "Foglalások száma": "1"
                                },
                                {
                                    "Szoba": "Részösszeg",
                                    "Év": "Összesen",
                                    "Foglalások száma": "2"
                                },
                                {
                                    "Szoba": "143",
                                    "Év": "2016",
                                    "Foglalások száma": "6"
                                },
                                {
                                    "Szoba": "143",
                                    "Év": "2017",
                                    "Foglalások száma": "1"
                                },
                                {
                                    "Szoba": "Részösszeg",
                                    "Év": "Összesen",
                                    "Foglalások száma": "7"
                                },
                                {
                                    "Szoba": "144",
                                    "Év": "2016",
                                    "Foglalások száma": "4"
                                },
                                {
                                    "Szoba": "144",
                                    "Év": "2017",
                                    "Foglalások száma": "1"
                                },
                                {
                                    "Szoba": "Részösszeg",
                                    "Év": "Összesen",
                                    "Foglalások száma": "5"
                                },
                                {
                                    "Szoba": "145",
                                    "Év": "2016",
                                    "Foglalások száma": "5"
                                },
                                {
                                    "Szoba": "145",
                                    "Év": "2017",
                                    "Foglalások száma": "1"
                                },
                                {
                                    "Szoba": "Részösszeg",
                                    "Év": "Összesen",
                                    "Foglalások száma": "6"
                                },
                                {
                                    "Szoba": "146",
                                    "Év": "2016",
                                    "Foglalások száma": "5"
                                },
                                {
                                    "Szoba": "146",
                                    "Év": "2017",
                                    "Foglalások száma": "1"
                                },
                                {
                                    "Szoba": "Részösszeg",
                                    "Év": "Összesen",
                                    "Foglalások száma": "6"
                                },
                                {
                                    "Szoba": "147",
                                    "Év": "2016",
                                    "Foglalások száma": "1"
                                },
                                {
                                    "Szoba": "Részösszeg",
                                    "Év": "Összesen",
                                    "Foglalások száma": "1"
                                },
                                {
                                    "Szoba": "148",
                                    "Év": "2016",
                                    "Foglalások száma": "5"
                                },
                                {
                                    "Szoba": "148",
                                    "Év": "2017",
                                    "Foglalások száma": "1"
                                },
                                {
                                    "Szoba": "Részösszeg",
                                    "Év": "Összesen",
                                    "Foglalások száma": "6"
                                },
                                {
                                    "Szoba": "149",
                                    "Év": "2016",
                                    "Foglalások száma": "6"
                                },
                                {
                                    "Szoba": "149",
                                    "Év": "2017",
                                    "Foglalások száma": "1"
                                },
                                {
                                    "Szoba": "Részösszeg",
                                    "Év": "Összesen",
                                    "Foglalások száma": "7"
                                },
                                {
                                    "Szoba": "150",
                                    "Év": "2016",
                                    "Foglalások száma": "5"
                                },
                                {
                                    "Szoba": "150",
                                    "Év": "2017",
                                    "Foglalások száma": "1"
                                },
                                {
                                    "Szoba": "Részösszeg",
                                    "Év": "Összesen",
                                    "Foglalások száma": "6"
                                },
                                {
                                    "Szoba": "151",
                                    "Év": "2016",
                                    "Foglalások száma": "3"
                                },
                                {
                                    "Szoba": "Részösszeg",
                                    "Év": "Összesen",
                                    "Foglalások száma": "3"
                                },
                                {
                                    "Szoba": "152",
                                    "Év": "2016",
                                    "Foglalások száma": "3"
                                },
                                {
                                    "Szoba": "152",
                                    "Év": "2017",
                                    "Foglalások száma": "1"
                                },
                                {
                                    "Szoba": "Részösszeg",
                                    "Év": "Összesen",
                                    "Foglalások száma": "4"
                                },
                                {
                                    "Szoba": "153",
                                    "Év": "2016",
                                    "Foglalások száma": "2"
                                },
                                {
                                    "Szoba": "153",
                                    "Év": "2017",
                                    "Foglalások száma": "3"
                                },
                                {
                                    "Szoba": "Részösszeg",
                                    "Év": "Összesen",
                                    "Foglalások száma": "5"
                                },
                                {
                                    "Szoba": "154",
                                    "Év": "2016",
                                    "Foglalások száma": "4"
                                },
                                {
                                    "Szoba": "154",
                                    "Év": "2017",
                                    "Foglalások száma": "1"
                                },
                                {
                                    "Szoba": "Részösszeg",
                                    "Év": "Összesen",
                                    "Foglalások száma": "5"
                                },
                                {
                                    "Szoba": "155",
                                    "Év": "2016",
                                    "Foglalások száma": "4"
                                },
                                {
                                    "Szoba": "155",
                                    "Év": "2017",
                                    "Foglalások száma": "1"
                                },
                                {
                                    "Szoba": "Részösszeg",
                                    "Év": "Összesen",
                                    "Foglalások száma": "5"
                                },
                                {
                                    "Szoba": "156",
                                    "Év": "2016",
                                    "Foglalások száma": "4"
                                },
                                {
                                    "Szoba": "156",
                                    "Év": "2017",
                                    "Foglalások száma": "3"
                                },
                                {
                                    "Szoba": "Részösszeg",
                                    "Év": "Összesen",
                                    "Foglalások száma": "7"
                                },
                                {
                                    "Szoba": "157",
                                    "Év": "2016",
                                    "Foglalások száma": "4"
                                },
                                {
                                    "Szoba": "157",
                                    "Év": "2017",
                                    "Foglalások száma": "1"
                                },
                                {
                                    "Szoba": "Részösszeg",
                                    "Év": "Összesen",
                                    "Foglalások száma": "5"
                                },
                                {
                                    "Szoba": "158",
                                    "Év": "2016",
                                    "Foglalások száma": "3"
                                },
                                {
                                    "Szoba": "Részösszeg",
                                    "Év": "Összesen",
                                    "Foglalások száma": "3"
                                },
                                {
                                    "Szoba": "160",
                                    "Év": "2016",
                                    "Foglalások száma": "4"
                                },
                                {
                                    "Szoba": "160",
                                    "Év": "2017",
                                    "Foglalások száma": "1"
                                },
                                {
                                    "Szoba": "Részösszeg",
                                    "Év": "Összesen",
                                    "Foglalások száma": "5"
                                },
                                {
                                    "Szoba": "161",
                                    "Év": "2016",
                                    "Foglalások száma": "5"
                                },
                                {
                                    "Szoba": "161",
                                    "Év": "2017",
                                    "Foglalások száma": "1"
                                },
                                {
                                    "Szoba": "Részösszeg",
                                    "Év": "Összesen",
                                    "Foglalások száma": "6"
                                },
                                {
                                    "Szoba": "162",
                                    "Év": "2016",
                                    "Foglalások száma": "3"
                                },
                                {
                                    "Szoba": "Részösszeg",
                                    "Év": "Összesen",
                                    "Foglalások száma": "3"
                                },
                                {
                                    "Szoba": "163",
                                    "Év": "2016",
                                    "Foglalások száma": "6"
                                },
                                {
                                    "Szoba": "163",
                                    "Év": "2017",
                                    "Foglalások száma": "1"
                                },
                                {
                                    "Szoba": "Részösszeg",
                                    "Év": "Összesen",
                                    "Foglalások száma": "7"
                                },
                                {
                                    "Szoba": "164",
                                    "Év": "2016",
                                    "Foglalások száma": "5"
                                },
                                {
                                    "Szoba": "Részösszeg",
                                    "Év": "Összesen",
                                    "Foglalások száma": "5"
                                },
                                {
                                    "Szoba": "165",
                                    "Év": "2016",
                                    "Foglalások száma": "7"
                                },
                                {
                                    "Szoba": "Részösszeg",
                                    "Év": "Összesen",
                                    "Foglalások száma": "7"
                                },
                                {
                                    "Szoba": "166",
                                    "Év": "2016",
                                    "Foglalások száma": "2"
                                },
                                {
                                    "Szoba": "166",
                                    "Év": "2017",
                                    "Foglalások száma": "1"
                                },
                                {
                                    "Szoba": "Részösszeg",
                                    "Év": "Összesen",
                                    "Foglalások száma": "3"
                                },
                                {
                                    "Szoba": "167",
                                    "Év": "2016",
                                    "Foglalások száma": "1"
                                },
                                {
                                    "Szoba": "167",
                                    "Év": "2017",
                                    "Foglalások száma": "1"
                                },
                                {
                                    "Szoba": "Részösszeg",
                                    "Év": "Összesen",
                                    "Foglalások száma": "2"
                                },
                                {
                                    "Szoba": "168",
                                    "Év": "2016",
                                    "Foglalások száma": "5"
                                },
                                {
                                    "Szoba": "Részösszeg",
                                    "Év": "Összesen",
                                    "Foglalások száma": "5"
                                },
                                {
                                    "Szoba": "169",
                                    "Év": "2016",
                                    "Foglalások száma": "5"
                                },
                                {
                                    "Szoba": "169",
                                    "Év": "2017",
                                    "Foglalások száma": "1"
                                },
                                {
                                    "Szoba": "Részösszeg",
                                    "Év": "Összesen",
                                    "Foglalások száma": "6"
                                },
                                {
                                    "Szoba": "170",
                                    "Év": "2016",
                                    "Foglalások száma": "5"
                                },
                                {
                                    "Szoba": "Részösszeg",
                                    "Év": "Összesen",
                                    "Foglalások száma": "5"
                                },
                                {
                                    "Szoba": "171",
                                    "Év": "2016",
                                    "Foglalások száma": "4"
                                },
                                {
                                    "Szoba": "171",
                                    "Év": "2017",
                                    "Foglalások száma": "1"
                                },
                                {
                                    "Szoba": "Részösszeg",
                                    "Év": "Összesen",
                                    "Foglalások száma": "5"
                                },
                                {
                                    "Szoba": "172",
                                    "Év": "2016",
                                    "Foglalások száma": "7"
                                },
                                {
                                    "Szoba": "172",
                                    "Év": "2017",
                                    "Foglalások száma": "2"
                                },
                                {
                                    "Szoba": "Részösszeg",
                                    "Év": "Összesen",
                                    "Foglalások száma": "9"
                                },
                                {
                                    "Szoba": "173",
                                    "Év": "2016",
                                    "Foglalások száma": "3"
                                },
                                {
                                    "Szoba": "173",
                                    "Év": "2017",
                                    "Foglalások száma": "1"
                                },
                                {
                                    "Szoba": "Részösszeg",
                                    "Év": "Összesen",
                                    "Foglalások száma": "4"
                                },
                                {
                                    "Szoba": "174",
                                    "Év": "2016",
                                    "Foglalások száma": "4"
                                },
                                {
                                    "Szoba": "Részösszeg",
                                    "Év": "Összesen",
                                    "Foglalások száma": "4"
                                },
                                {
                                    "Szoba": "175",
                                    "Év": "2016",
                                    "Foglalások száma": "5"
                                },
                                {
                                    "Szoba": "Részösszeg",
                                    "Év": "Összesen",
                                    "Foglalások száma": "5"
                                },
                                {
                                    "Szoba": "176",
                                    "Év": "2016",
                                    "Foglalások száma": "4"
                                },
                                {
                                    "Szoba": "176",
                                    "Év": "2017",
                                    "Foglalások száma": "2"
                                },
                                {
                                    "Szoba": "Részösszeg",
                                    "Év": "Összesen",
                                    "Foglalások száma": "6"
                                },
                                {
                                    "Szoba": "177",
                                    "Év": "2016",
                                    "Foglalások száma": "3"
                                },
                                {
                                    "Szoba": "177",
                                    "Év": "2017",
                                    "Foglalások száma": "1"
                                },
                                {
                                    "Szoba": "Részösszeg",
                                    "Év": "Összesen",
                                    "Foglalások száma": "4"
                                },
                                {
                                    "Szoba": "178",
                                    "Év": "2016",
                                    "Foglalások száma": "4"
                                },
                                {
                                    "Szoba": "Részösszeg",
                                    "Év": "Összesen",
                                    "Foglalások száma": "4"
                                },
                                {
                                    "Szoba": "179",
                                    "Év": "2016",
                                    "Foglalások száma": "2"
                                },
                                {
                                    "Szoba": "179",
                                    "Év": "2017",
                                    "Foglalások száma": "1"
                                },
                                {
                                    "Szoba": "Részösszeg",
                                    "Év": "Összesen",
                                    "Foglalások száma": "3"
                                },
                                {
                                    "Szoba": "180",
                                    "Év": "2016",
                                    "Foglalások száma": "1"
                                },
                                {
                                    "Szoba": "180",
                                    "Év": "2017",
                                    "Foglalások száma": "2"
                                },
                                {
                                    "Szoba": "Részösszeg",
                                    "Év": "Összesen",
                                    "Foglalások száma": "3"
                                },
                                {
                                    "Szoba": "181",
                                    "Év": "2016",
                                    "Foglalások száma": "6"
                                },
                                {
                                    "Szoba": "Részösszeg",
                                    "Év": "Összesen",
                                    "Foglalások száma": "6"
                                },
                                {
                                    "Szoba": "182",
                                    "Év": "2016",
                                    "Foglalások száma": "10"
                                },
                                {
                                    "Szoba": "182",
                                    "Év": "2017",
                                    "Foglalások száma": "2"
                                },
                                {
                                    "Szoba": "Részösszeg",
                                    "Év": "Összesen",
                                    "Foglalások száma": "12"
                                },
                                {
                                    "Szoba": "183",
                                    "Év": "2016",
                                    "Foglalások száma": "3"
                                },
                                {
                                    "Szoba": "183",
                                    "Év": "2017",
                                    "Foglalások száma": "1"
                                },
                                {
                                    "Szoba": "Részösszeg",
                                    "Év": "Összesen",
                                    "Foglalások száma": "4"
                                },
                                {
                                    "Szoba": "184",
                                    "Év": "2016",
                                    "Foglalások száma": "4"
                                },
                                {
                                    "Szoba": "Részösszeg",
                                    "Év": "Összesen",
                                    "Foglalások száma": "4"
                                },
                                {
                                    "Szoba": "185",
                                    "Év": "2016",
                                    "Foglalások száma": "10"
                                },
                                {
                                    "Szoba": "185",
                                    "Év": "2017",
                                    "Foglalások száma": "2"
                                },
                                {
                                    "Szoba": "Részösszeg",
                                    "Év": "Összesen",
                                    "Foglalások száma": "12"
                                },
                                {
                                    "Szoba": "186",
                                    "Év": "2016",
                                    "Foglalások száma": "3"
                                },
                                {
                                    "Szoba": "186",
                                    "Év": "2017",
                                    "Foglalások száma": "1"
                                },
                                {
                                    "Szoba": "Részösszeg",
                                    "Év": "Összesen",
                                    "Foglalások száma": "4"
                                },
                                {
                                    "Szoba": "187",
                                    "Év": "2016",
                                    "Foglalások száma": "7"
                                },
                                {
                                    "Szoba": "Részösszeg",
                                    "Év": "Összesen",
                                    "Foglalások száma": "7"
                                },
                                {
                                    "Szoba": "188",
                                    "Év": "2016",
                                    "Foglalások száma": "6"
                                },
                                {
                                    "Szoba": "Részösszeg",
                                    "Év": "Összesen",
                                    "Foglalások száma": "6"
                                },
                                {
                                    "Szoba": "189",
                                    "Év": "2016",
                                    "Foglalások száma": "3"
                                },
                                {
                                    "Szoba": "189",
                                    "Év": "2017",
                                    "Foglalások száma": "2"
                                },
                                {
                                    "Szoba": "Részösszeg",
                                    "Év": "Összesen",
                                    "Foglalások száma": "5"
                                },
                                {
                                    "Szoba": "190",
                                    "Év": "2016",
                                    "Foglalások száma": "4"
                                },
                                {
                                    "Szoba": "190",
                                    "Év": "2017",
                                    "Foglalások száma": "1"
                                },
                                {
                                    "Szoba": "Részösszeg",
                                    "Év": "Összesen",
                                    "Foglalások száma": "5"
                                },
                                {
                                    "Szoba": "191",
                                    "Év": "2016",
                                    "Foglalások száma": "3"
                                },
                                {
                                    "Szoba": "191",
                                    "Év": "2017",
                                    "Foglalások száma": "2"
                                },
                                {
                                    "Szoba": "Részösszeg",
                                    "Év": "Összesen",
                                    "Foglalások száma": "5"
                                },
                                {
                                    "Szoba": "192",
                                    "Év": "2016",
                                    "Foglalások száma": "2"
                                },
                                {
                                    "Szoba": "Részösszeg",
                                    "Év": "Összesen",
                                    "Foglalások száma": "2"
                                },
                                {
                                    "Szoba": "193",
                                    "Év": "2016",
                                    "Foglalások száma": "7"
                                },
                                {
                                    "Szoba": "Részösszeg",
                                    "Év": "Összesen",
                                    "Foglalások száma": "7"
                                },
                                {
                                    "Szoba": "194",
                                    "Év": "2016",
                                    "Foglalások száma": "1"
                                },
                                {
                                    "Szoba": "Részösszeg",
                                    "Év": "Összesen",
                                    "Foglalások száma": "1"
                                },
                                {
                                    "Szoba": "195",
                                    "Év": "2016",
                                    "Foglalások száma": "4"
                                },
                                {
                                    "Szoba": "195",
                                    "Év": "2017",
                                    "Foglalások száma": "2"
                                },
                                {
                                    "Szoba": "Részösszeg",
                                    "Év": "Összesen",
                                    "Foglalások száma": "6"
                                },
                                {
                                    "Szoba": "196",
                                    "Év": "2016",
                                    "Foglalások száma": "4"
                                },
                                {
                                    "Szoba": "Részösszeg",
                                    "Év": "Összesen",
                                    "Foglalások száma": "4"
                                },
                                {
                                    "Szoba": "197",
                                    "Év": "2016",
                                    "Foglalások száma": "6"
                                },
                                {
                                    "Szoba": "Részösszeg",
                                    "Év": "Összesen",
                                    "Foglalások száma": "6"
                                },
                                {
                                    "Szoba": "198",
                                    "Év": "2016",
                                    "Foglalások száma": "7"
                                },
                                {
                                    "Szoba": "198",
                                    "Év": "2017",
                                    "Foglalások száma": "1"
                                },
                                {
                                    "Szoba": "Részösszeg",
                                    "Év": "Összesen",
                                    "Foglalások száma": "8"
                                },
                                {
                                    "Szoba": "Végösszeg",
                                    "Év": "Összesen",
                                    "Foglalások száma": "1027"
                                }
                            ]
                        },
                        "text/html": [
                            "<table>",
                            "<tr><th>Szoba</th><th>Év</th><th>Foglalások száma</th></tr>",
                            "<tr><td>1</td><td>2016</td><td>8</td></tr>",
                            "<tr><td>Részösszeg</td><td>Összesen</td><td>8</td></tr>",
                            "<tr><td>2</td><td>2016</td><td>4</td></tr>",
                            "<tr><td>Részösszeg</td><td>Összesen</td><td>4</td></tr>",
                            "<tr><td>3</td><td>2016</td><td>6</td></tr>",
                            "<tr><td>3</td><td>2017</td><td>2</td></tr>",
                            "<tr><td>Részösszeg</td><td>Összesen</td><td>8</td></tr>",
                            "<tr><td>4</td><td>2016</td><td>5</td></tr>",
                            "<tr><td>4</td><td>2017</td><td>1</td></tr>",
                            "<tr><td>Részösszeg</td><td>Összesen</td><td>6</td></tr>",
                            "<tr><td>5</td><td>2016</td><td>4</td></tr>",
                            "<tr><td>Részösszeg</td><td>Összesen</td><td>4</td></tr>",
                            "<tr><td>6</td><td>2016</td><td>6</td></tr>",
                            "<tr><td>Részösszeg</td><td>Összesen</td><td>6</td></tr>",
                            "<tr><td>7</td><td>2016</td><td>6</td></tr>",
                            "<tr><td>Részösszeg</td><td>Összesen</td><td>6</td></tr>",
                            "<tr><td>8</td><td>2016</td><td>5</td></tr>",
                            "<tr><td>Részösszeg</td><td>Összesen</td><td>5</td></tr>",
                            "<tr><td>9</td><td>2016</td><td>4</td></tr>",
                            "<tr><td>9</td><td>2017</td><td>2</td></tr>",
                            "<tr><td>Részösszeg</td><td>Összesen</td><td>6</td></tr>",
                            "<tr><td>10</td><td>2016</td><td>4</td></tr>",
                            "<tr><td>Részösszeg</td><td>Összesen</td><td>4</td></tr>",
                            "<tr><td>11</td><td>2016</td><td>3</td></tr>",
                            "<tr><td>11</td><td>2017</td><td>1</td></tr>",
                            "<tr><td>Részösszeg</td><td>Összesen</td><td>4</td></tr>",
                            "<tr><td>12</td><td>2016</td><td>8</td></tr>",
                            "<tr><td>12</td><td>2017</td><td>1</td></tr>",
                            "<tr><td>Részösszeg</td><td>Összesen</td><td>9</td></tr>",
                            "<tr><td>13</td><td>2016</td><td>3</td></tr>",
                            "<tr><td>13</td><td>2017</td><td>1</td></tr>",
                            "<tr><td>Részösszeg</td><td>Összesen</td><td>4</td></tr>",
                            "<tr><td>14</td><td>2016</td><td>2</td></tr>",
                            "<tr><td>14</td><td>2017</td><td>1</td></tr>",
                            "<tr><td>Részösszeg</td><td>Összesen</td><td>3</td></tr>",
                            "<tr><td>15</td><td>2016</td><td>4</td></tr>",
                            "<tr><td>15</td><td>2017</td><td>2</td></tr>",
                            "<tr><td>Részösszeg</td><td>Összesen</td><td>6</td></tr>",
                            "<tr><td>16</td><td>2016</td><td>4</td></tr>",
                            "<tr><td>16</td><td>2017</td><td>1</td></tr>",
                            "<tr><td>Részösszeg</td><td>Összesen</td><td>5</td></tr>",
                            "<tr><td>17</td><td>2016</td><td>5</td></tr>",
                            "<tr><td>17</td><td>2017</td><td>1</td></tr>",
                            "<tr><td>Részösszeg</td><td>Összesen</td><td>6</td></tr>",
                            "<tr><td>18</td><td>2016</td><td>5</td></tr>",
                            "<tr><td>18</td><td>2017</td><td>1</td></tr>",
                            "<tr><td>Részösszeg</td><td>Összesen</td><td>6</td></tr>",
                            "<tr><td>19</td><td>2016</td><td>5</td></tr>",
                            "<tr><td>19</td><td>2017</td><td>1</td></tr>",
                            "<tr><td>Részösszeg</td><td>Összesen</td><td>6</td></tr>",
                            "<tr><td>20</td><td>2016</td><td>5</td></tr>",
                            "<tr><td>Részösszeg</td><td>Összesen</td><td>5</td></tr>",
                            "<tr><td>21</td><td>2016</td><td>4</td></tr>",
                            "<tr><td>Részösszeg</td><td>Összesen</td><td>4</td></tr>",
                            "<tr><td>22</td><td>2016</td><td>6</td></tr>",
                            "<tr><td>Részösszeg</td><td>Összesen</td><td>6</td></tr>",
                            "<tr><td>23</td><td>2016</td><td>3</td></tr>",
                            "<tr><td>Részösszeg</td><td>Összesen</td><td>3</td></tr>",
                            "<tr><td>24</td><td>2016</td><td>2</td></tr>",
                            "<tr><td>24</td><td>2017</td><td>1</td></tr>",
                            "<tr><td>Részösszeg</td><td>Összesen</td><td>3</td></tr>",
                            "<tr><td>25</td><td>2016</td><td>2</td></tr>",
                            "<tr><td>Részösszeg</td><td>Összesen</td><td>2</td></tr>",
                            "<tr><td>26</td><td>2016</td><td>2</td></tr>",
                            "<tr><td>Részösszeg</td><td>Összesen</td><td>2</td></tr>",
                            "<tr><td>27</td><td>2016</td><td>6</td></tr>",
                            "<tr><td>27</td><td>2017</td><td>1</td></tr>",
                            "<tr><td>Részösszeg</td><td>Összesen</td><td>7</td></tr>",
                            "<tr><td>28</td><td>2016</td><td>5</td></tr>",
                            "<tr><td>28</td><td>2017</td><td>1</td></tr>",
                            "<tr><td>Részösszeg</td><td>Összesen</td><td>6</td></tr>",
                            "<tr><td>29</td><td>2016</td><td>5</td></tr>",
                            "<tr><td>29</td><td>2017</td><td>1</td></tr>",
                            "<tr><td>Részösszeg</td><td>Összesen</td><td>6</td></tr>",
                            "<tr><td>30</td><td>2016</td><td>3</td></tr>",
                            "<tr><td>Részösszeg</td><td>Összesen</td><td>3</td></tr>",
                            "<tr><td>31</td><td>2016</td><td>3</td></tr>",
                            "<tr><td>Részösszeg</td><td>Összesen</td><td>3</td></tr>",
                            "<tr><td>32</td><td>2016</td><td>1</td></tr>",
                            "<tr><td>Részösszeg</td><td>Összesen</td><td>1</td></tr>",
                            "<tr><td>33</td><td>2016</td><td>6</td></tr>",
                            "<tr><td>Részösszeg</td><td>Összesen</td><td>6</td></tr>",
                            "<tr><td>34</td><td>2016</td><td>4</td></tr>",
                            "<tr><td>Részösszeg</td><td>Összesen</td><td>4</td></tr>",
                            "<tr><td>35</td><td>2016</td><td>6</td></tr>",
                            "<tr><td>35</td><td>2017</td><td>3</td></tr>",
                            "<tr><td>Részösszeg</td><td>Összesen</td><td>9</td></tr>",
                            "<tr><td>36</td><td>2016</td><td>6</td></tr>",
                            "<tr><td>Részösszeg</td><td>Összesen</td><td>6</td></tr>",
                            "<tr><td>37</td><td>2016</td><td>3</td></tr>",
                            "<tr><td>Részösszeg</td><td>Összesen</td><td>3</td></tr>",
                            "<tr><td>38</td><td>2016</td><td>5</td></tr>",
                            "<tr><td>38</td><td>2017</td><td>3</td></tr>",
                            "<tr><td>Részösszeg</td><td>Összesen</td><td>8</td></tr>",
                            "<tr><td>39</td><td>2016</td><td>4</td></tr>",
                            "<tr><td>39</td><td>2017</td><td>3</td></tr>",
                            "<tr><td>Részösszeg</td><td>Összesen</td><td>7</td></tr>",
                            "<tr><td>40</td><td>2016</td><td>4</td></tr>",
                            "<tr><td>Részösszeg</td><td>Összesen</td><td>4</td></tr>",
                            "<tr><td>41</td><td>2016</td><td>2</td></tr>",
                            "<tr><td>Részösszeg</td><td>Összesen</td><td>2</td></tr>",
                            "<tr><td>42</td><td>2016</td><td>5</td></tr>",
                            "<tr><td>42</td><td>2017</td><td>1</td></tr>",
                            "<tr><td>Részösszeg</td><td>Összesen</td><td>6</td></tr>",
                            "<tr><td>43</td><td>2016</td><td>6</td></tr>",
                            "<tr><td>43</td><td>2017</td><td>2</td></tr>",
                            "<tr><td>Részösszeg</td><td>Összesen</td><td>8</td></tr>",
                            "<tr><td>44</td><td>2016</td><td>4</td></tr>",
                            "<tr><td>44</td><td>2017</td><td>2</td></tr>",
                            "<tr><td>Részösszeg</td><td>Összesen</td><td>6</td></tr>",
                            "<tr><td>45</td><td>2016</td><td>5</td></tr>",
                            "<tr><td>Részösszeg</td><td>Összesen</td><td>5</td></tr>",
                            "<tr><td>46</td><td>2016</td><td>3</td></tr>",
                            "<tr><td>46</td><td>2017</td><td>1</td></tr>",
                            "<tr><td>Részösszeg</td><td>Összesen</td><td>4</td></tr>",
                            "<tr><td>47</td><td>2016</td><td>2</td></tr>",
                            "<tr><td>Részösszeg</td><td>Összesen</td><td>2</td></tr>",
                            "<tr><td>48</td><td>2016</td><td>6</td></tr>",
                            "<tr><td>48</td><td>2017</td><td>3</td></tr>",
                            "<tr><td>Részösszeg</td><td>Összesen</td><td>9</td></tr>",
                            "<tr><td>49</td><td>2016</td><td>6</td></tr>",
                            "<tr><td>49</td><td>2017</td><td>1</td></tr>",
                            "<tr><td>Részösszeg</td><td>Összesen</td><td>7</td></tr>",
                            "<tr><td>50</td><td>2016</td><td>4</td></tr>",
                            "<tr><td>Részösszeg</td><td>Összesen</td><td>4</td></tr>",
                            "<tr><td>51</td><td>2016</td><td>3</td></tr>",
                            "<tr><td>51</td><td>2017</td><td>2</td></tr>",
                            "<tr><td>Részösszeg</td><td>Összesen</td><td>5</td></tr>",
                            "<tr><td>52</td><td>2016</td><td>3</td></tr>",
                            "<tr><td>52</td><td>2017</td><td>2</td></tr>",
                            "<tr><td>Részösszeg</td><td>Összesen</td><td>5</td></tr>",
                            "<tr><td>53</td><td>2016</td><td>2</td></tr>",
                            "<tr><td>Részösszeg</td><td>Összesen</td><td>2</td></tr>",
                            "<tr><td>54</td><td>2016</td><td>6</td></tr>",
                            "<tr><td>Részösszeg</td><td>Összesen</td><td>6</td></tr>",
                            "<tr><td>55</td><td>2016</td><td>6</td></tr>",
                            "<tr><td>55</td><td>2017</td><td>2</td></tr>",
                            "<tr><td>Részösszeg</td><td>Összesen</td><td>8</td></tr>",
                            "<tr><td>56</td><td>2016</td><td>2</td></tr>",
                            "<tr><td>Részösszeg</td><td>Összesen</td><td>2</td></tr>",
                            "<tr><td>57</td><td>2016</td><td>2</td></tr>",
                            "<tr><td>57</td><td>2017</td><td>2</td></tr>",
                            "<tr><td>Részösszeg</td><td>Összesen</td><td>4</td></tr>",
                            "<tr><td>58</td><td>2016</td><td>12</td></tr>",
                            "<tr><td>58</td><td>2017</td><td>1</td></tr>",
                            "<tr><td>Részösszeg</td><td>Összesen</td><td>13</td></tr>",
                            "<tr><td>59</td><td>2016</td><td>6</td></tr>",
                            "<tr><td>59</td><td>2017</td><td>1</td></tr>",
                            "<tr><td>Részösszeg</td><td>Összesen</td><td>7</td></tr>",
                            "<tr><td>60</td><td>2016</td><td>1</td></tr>",
                            "<tr><td>Részösszeg</td><td>Összesen</td><td>1</td></tr>",
                            "<tr><td>61</td><td>2016</td><td>4</td></tr>",
                            "<tr><td>61</td><td>2017</td><td>1</td></tr>",
                            "<tr><td>Részösszeg</td><td>Összesen</td><td>5</td></tr>",
                            "<tr><td>62</td><td>2016</td><td>4</td></tr>",
                            "<tr><td>62</td><td>2017</td><td>1</td></tr>",
                            "<tr><td>Részösszeg</td><td>Összesen</td><td>5</td></tr>",
                            "<tr><td>63</td><td>2016</td><td>4</td></tr>",
                            "<tr><td>Részösszeg</td><td>Összesen</td><td>4</td></tr>",
                            "<tr><td>64</td><td>2016</td><td>3</td></tr>",
                            "<tr><td>64</td><td>2017</td><td>3</td></tr>",
                            "<tr><td>Részösszeg</td><td>Összesen</td><td>6</td></tr>",
                            "<tr><td>65</td><td>2016</td><td>1</td></tr>",
                            "<tr><td>Részösszeg</td><td>Összesen</td><td>1</td></tr>",
                            "<tr><td>66</td><td>2016</td><td>4</td></tr>",
                            "<tr><td>Részösszeg</td><td>Összesen</td><td>4</td></tr>",
                            "<tr><td>67</td><td>2016</td><td>4</td></tr>",
                            "<tr><td>67</td><td>2017</td><td>2</td></tr>",
                            "<tr><td>Részösszeg</td><td>Összesen</td><td>6</td></tr>",
                            "<tr><td>68</td><td>2016</td><td>3</td></tr>",
                            "<tr><td>Részösszeg</td><td>Összesen</td><td>3</td></tr>",
                            "<tr><td>69</td><td>2016</td><td>4</td></tr>",
                            "<tr><td>Részösszeg</td><td>Összesen</td><td>4</td></tr>",
                            "<tr><td>70</td><td>2016</td><td>10</td></tr>",
                            "<tr><td>70</td><td>2017</td><td>1</td></tr>",
                            "<tr><td>Részösszeg</td><td>Összesen</td><td>11</td></tr>",
                            "<tr><td>71</td><td>2016</td><td>3</td></tr>",
                            "<tr><td>Részösszeg</td><td>Összesen</td><td>3</td></tr>",
                            "<tr><td>72</td><td>2016</td><td>4</td></tr>",
                            "<tr><td>Részösszeg</td><td>Összesen</td><td>4</td></tr>",
                            "<tr><td>73</td><td>2016</td><td>4</td></tr>",
                            "<tr><td>Részösszeg</td><td>Összesen</td><td>4</td></tr>",
                            "<tr><td>74</td><td>2016</td><td>9</td></tr>",
                            "<tr><td>Részösszeg</td><td>Összesen</td><td>9</td></tr>",
                            "<tr><td>75</td><td>2016</td><td>1</td></tr>",
                            "<tr><td>75</td><td>2017</td><td>2</td></tr>",
                            "<tr><td>Részösszeg</td><td>Összesen</td><td>3</td></tr>",
                            "<tr><td>76</td><td>2016</td><td>2</td></tr>",
                            "<tr><td>76</td><td>2017</td><td>1</td></tr>",
                            "<tr><td>Részösszeg</td><td>Összesen</td><td>3</td></tr>",
                            "<tr><td>77</td><td>2016</td><td>4</td></tr>",
                            "<tr><td>77</td><td>2017</td><td>2</td></tr>",
                            "<tr><td>Részösszeg</td><td>Összesen</td><td>6</td></tr>",
                            "<tr><td>78</td><td>2016</td><td>5</td></tr>",
                            "<tr><td>78</td><td>2017</td><td>1</td></tr>",
                            "<tr><td>Részösszeg</td><td>Összesen</td><td>6</td></tr>",
                            "<tr><td>79</td><td>2016</td><td>4</td></tr>",
                            "<tr><td>79</td><td>2017</td><td>1</td></tr>",
                            "<tr><td>Részösszeg</td><td>Összesen</td><td>5</td></tr>",
                            "<tr><td>80</td><td>2016</td><td>7</td></tr>",
                            "<tr><td>Részösszeg</td><td>Összesen</td><td>7</td></tr>",
                            "<tr><td>81</td><td>2016</td><td>1</td></tr>",
                            "<tr><td>81</td><td>2017</td><td>4</td></tr>",
                            "<tr><td>Részösszeg</td><td>Összesen</td><td>5</td></tr>",
                            "<tr><td>82</td><td>2016</td><td>6</td></tr>",
                            "<tr><td>Részösszeg</td><td>Összesen</td><td>6</td></tr>",
                            "<tr><td>83</td><td>2016</td><td>8</td></tr>",
                            "<tr><td>Részösszeg</td><td>Összesen</td><td>8</td></tr>",
                            "<tr><td>84</td><td>2016</td><td>4</td></tr>",
                            "<tr><td>Részösszeg</td><td>Összesen</td><td>4</td></tr>",
                            "<tr><td>85</td><td>2016</td><td>3</td></tr>",
                            "<tr><td>85</td><td>2017</td><td>1</td></tr>",
                            "<tr><td>Részösszeg</td><td>Összesen</td><td>4</td></tr>",
                            "<tr><td>86</td><td>2016</td><td>4</td></tr>",
                            "<tr><td>86</td><td>2017</td><td>1</td></tr>",
                            "<tr><td>Részösszeg</td><td>Összesen</td><td>5</td></tr>",
                            "<tr><td>87</td><td>2016</td><td>4</td></tr>",
                            "<tr><td>87</td><td>2017</td><td>1</td></tr>",
                            "<tr><td>Részösszeg</td><td>Összesen</td><td>5</td></tr>",
                            "<tr><td>88</td><td>2016</td><td>6</td></tr>",
                            "<tr><td>88</td><td>2017</td><td>2</td></tr>",
                            "<tr><td>Részösszeg</td><td>Összesen</td><td>8</td></tr>",
                            "<tr><td>89</td><td>2016</td><td>7</td></tr>",
                            "<tr><td>89</td><td>2017</td><td>1</td></tr>",
                            "<tr><td>Részösszeg</td><td>Összesen</td><td>8</td></tr>",
                            "<tr><td>90</td><td>2016</td><td>4</td></tr>",
                            "<tr><td>Részösszeg</td><td>Összesen</td><td>4</td></tr>",
                            "<tr><td>91</td><td>2016</td><td>4</td></tr>",
                            "<tr><td>Részösszeg</td><td>Összesen</td><td>4</td></tr>",
                            "<tr><td>92</td><td>2016</td><td>4</td></tr>",
                            "<tr><td>92</td><td>2017</td><td>2</td></tr>",
                            "<tr><td>Részösszeg</td><td>Összesen</td><td>6</td></tr>",
                            "<tr><td>93</td><td>2016</td><td>5</td></tr>",
                            "<tr><td>Részösszeg</td><td>Összesen</td><td>5</td></tr>",
                            "<tr><td>94</td><td>2016</td><td>8</td></tr>",
                            "<tr><td>94</td><td>2017</td><td>2</td></tr>",
                            "<tr><td>Részösszeg</td><td>Összesen</td><td>10</td></tr>",
                            "<tr><td>95</td><td>2016</td><td>3</td></tr>",
                            "<tr><td>95</td><td>2017</td><td>1</td></tr>",
                            "<tr><td>Részösszeg</td><td>Összesen</td><td>4</td></tr>",
                            "<tr><td>96</td><td>2016</td><td>5</td></tr>",
                            "<tr><td>96</td><td>2017</td><td>2</td></tr>",
                            "<tr><td>Részösszeg</td><td>Összesen</td><td>7</td></tr>",
                            "<tr><td>97</td><td>2016</td><td>5</td></tr>",
                            "<tr><td>97</td><td>2017</td><td>2</td></tr>",
                            "<tr><td>Részösszeg</td><td>Összesen</td><td>7</td></tr>",
                            "<tr><td>98</td><td>2016</td><td>4</td></tr>",
                            "<tr><td>Részösszeg</td><td>Összesen</td><td>4</td></tr>",
                            "<tr><td>99</td><td>2016</td><td>4</td></tr>",
                            "<tr><td>99</td><td>2017</td><td>1</td></tr>",
                            "<tr><td>Részösszeg</td><td>Összesen</td><td>5</td></tr>",
                            "<tr><td>100</td><td>2016</td><td>3</td></tr>",
                            "<tr><td>100</td><td>2017</td><td>1</td></tr>",
                            "<tr><td>Részösszeg</td><td>Összesen</td><td>4</td></tr>",
                            "<tr><td>101</td><td>2016</td><td>2</td></tr>",
                            "<tr><td>101</td><td>2017</td><td>1</td></tr>",
                            "<tr><td>Részösszeg</td><td>Összesen</td><td>3</td></tr>",
                            "<tr><td>102</td><td>2016</td><td>2</td></tr>",
                            "<tr><td>Részösszeg</td><td>Összesen</td><td>2</td></tr>",
                            "<tr><td>103</td><td>2016</td><td>3</td></tr>",
                            "<tr><td>103</td><td>2017</td><td>1</td></tr>",
                            "<tr><td>Részösszeg</td><td>Összesen</td><td>4</td></tr>",
                            "<tr><td>104</td><td>2016</td><td>2</td></tr>",
                            "<tr><td>104</td><td>2017</td><td>2</td></tr>",
                            "<tr><td>Részösszeg</td><td>Összesen</td><td>4</td></tr>",
                            "<tr><td>105</td><td>2016</td><td>1</td></tr>",
                            "<tr><td>105</td><td>2017</td><td>1</td></tr>",
                            "<tr><td>Részösszeg</td><td>Összesen</td><td>2</td></tr>",
                            "<tr><td>106</td><td>2016</td><td>5</td></tr>",
                            "<tr><td>106</td><td>2017</td><td>1</td></tr>",
                            "<tr><td>Részösszeg</td><td>Összesen</td><td>6</td></tr>",
                            "<tr><td>107</td><td>2016</td><td>3</td></tr>",
                            "<tr><td>107</td><td>2017</td><td>2</td></tr>",
                            "<tr><td>Részösszeg</td><td>Összesen</td><td>5</td></tr>",
                            "<tr><td>108</td><td>2016</td><td>2</td></tr>",
                            "<tr><td>Részösszeg</td><td>Összesen</td><td>2</td></tr>",
                            "<tr><td>109</td><td>2016</td><td>6</td></tr>",
                            "<tr><td>109</td><td>2017</td><td>1</td></tr>",
                            "<tr><td>Részösszeg</td><td>Összesen</td><td>7</td></tr>",
                            "<tr><td>110</td><td>2016</td><td>6</td></tr>",
                            "<tr><td>110</td><td>2017</td><td>2</td></tr>",
                            "<tr><td>Részösszeg</td><td>Összesen</td><td>8</td></tr>",
                            "<tr><td>111</td><td>2016</td><td>5</td></tr>",
                            "<tr><td>Részösszeg</td><td>Összesen</td><td>5</td></tr>",
                            "<tr><td>112</td><td>2016</td><td>4</td></tr>",
                            "<tr><td>112</td><td>2017</td><td>1</td></tr>",
                            "<tr><td>Részösszeg</td><td>Összesen</td><td>5</td></tr>",
                            "<tr><td>113</td><td>2016</td><td>3</td></tr>",
                            "<tr><td>113</td><td>2017</td><td>2</td></tr>",
                            "<tr><td>Részösszeg</td><td>Összesen</td><td>5</td></tr>",
                            "<tr><td>114</td><td>2016</td><td>3</td></tr>",
                            "<tr><td>114</td><td>2017</td><td>1</td></tr>",
                            "<tr><td>Részösszeg</td><td>Összesen</td><td>4</td></tr>",
                            "<tr><td>115</td><td>2016</td><td>5</td></tr>",
                            "<tr><td>115</td><td>2017</td><td>2</td></tr>",
                            "<tr><td>Részösszeg</td><td>Összesen</td><td>7</td></tr>",
                            "<tr><td>116</td><td>2017</td><td>2</td></tr>",
                            "<tr><td>Részösszeg</td><td>Összesen</td><td>2</td></tr>",
                            "<tr><td>117</td><td>2016</td><td>7</td></tr>",
                            "<tr><td>117</td><td>2017</td><td>1</td></tr>",
                            "<tr><td>Részösszeg</td><td>Összesen</td><td>8</td></tr>",
                            "<tr><td>118</td><td>2016</td><td>5</td></tr>",
                            "<tr><td>118</td><td>2017</td><td>2</td></tr>",
                            "<tr><td>Részösszeg</td><td>Összesen</td><td>7</td></tr>",
                            "<tr><td>119</td><td>2016</td><td>3</td></tr>",
                            "<tr><td>119</td><td>2017</td><td>2</td></tr>",
                            "<tr><td>Részösszeg</td><td>Összesen</td><td>5</td></tr>",
                            "<tr><td>120</td><td>2016</td><td>4</td></tr>",
                            "<tr><td>120</td><td>2017</td><td>2</td></tr>",
                            "<tr><td>Részösszeg</td><td>Összesen</td><td>6</td></tr>",
                            "<tr><td>121</td><td>2016</td><td>8</td></tr>",
                            "<tr><td>Részösszeg</td><td>Összesen</td><td>8</td></tr>",
                            "<tr><td>122</td><td>2016</td><td>8</td></tr>",
                            "<tr><td>122</td><td>2017</td><td>1</td></tr>",
                            "<tr><td>Részösszeg</td><td>Összesen</td><td>9</td></tr>",
                            "<tr><td>123</td><td>2016</td><td>5</td></tr>",
                            "<tr><td>Részösszeg</td><td>Összesen</td><td>5</td></tr>",
                            "<tr><td>124</td><td>2016</td><td>4</td></tr>",
                            "<tr><td>124</td><td>2017</td><td>2</td></tr>",
                            "<tr><td>Részösszeg</td><td>Összesen</td><td>6</td></tr>",
                            "<tr><td>125</td><td>2016</td><td>1</td></tr>",
                            "<tr><td>Részösszeg</td><td>Összesen</td><td>1</td></tr>",
                            "<tr><td>126</td><td>2016</td><td>4</td></tr>",
                            "<tr><td>126</td><td>2017</td><td>2</td></tr>",
                            "<tr><td>Részösszeg</td><td>Összesen</td><td>6</td></tr>",
                            "<tr><td>127</td><td>2016</td><td>6</td></tr>",
                            "<tr><td>127</td><td>2017</td><td>1</td></tr>",
                            "<tr><td>Részösszeg</td><td>Összesen</td><td>7</td></tr>",
                            "<tr><td>128</td><td>2016</td><td>3</td></tr>",
                            "<tr><td>128</td><td>2017</td><td>2</td></tr>",
                            "<tr><td>Részösszeg</td><td>Összesen</td><td>5</td></tr>",
                            "<tr><td>129</td><td>2016</td><td>2</td></tr>",
                            "<tr><td>129</td><td>2017</td><td>2</td></tr>",
                            "<tr><td>Részösszeg</td><td>Összesen</td><td>4</td></tr>",
                            "<tr><td>130</td><td>2016</td><td>5</td></tr>",
                            "<tr><td>130</td><td>2017</td><td>1</td></tr>",
                            "<tr><td>Részösszeg</td><td>Összesen</td><td>6</td></tr>",
                            "<tr><td>131</td><td>2016</td><td>4</td></tr>",
                            "<tr><td>131</td><td>2017</td><td>1</td></tr>",
                            "<tr><td>Részösszeg</td><td>Összesen</td><td>5</td></tr>",
                            "<tr><td>132</td><td>2016</td><td>5</td></tr>",
                            "<tr><td>132</td><td>2017</td><td>1</td></tr>",
                            "<tr><td>Részösszeg</td><td>Összesen</td><td>6</td></tr>",
                            "<tr><td>133</td><td>2016</td><td>5</td></tr>",
                            "<tr><td>133</td><td>2017</td><td>1</td></tr>",
                            "<tr><td>Részösszeg</td><td>Összesen</td><td>6</td></tr>",
                            "<tr><td>134</td><td>2016</td><td>5</td></tr>",
                            "<tr><td>134</td><td>2017</td><td>1</td></tr>",
                            "<tr><td>Részösszeg</td><td>Összesen</td><td>6</td></tr>",
                            "<tr><td>135</td><td>2016</td><td>3</td></tr>",
                            "<tr><td>Részösszeg</td><td>Összesen</td><td>3</td></tr>",
                            "<tr><td>136</td><td>2016</td><td>3</td></tr>",
                            "<tr><td>Részösszeg</td><td>Összesen</td><td>3</td></tr>",
                            "<tr><td>137</td><td>2016</td><td>6</td></tr>",
                            "<tr><td>Részösszeg</td><td>Összesen</td><td>6</td></tr>",
                            "<tr><td>138</td><td>2016</td><td>7</td></tr>",
                            "<tr><td>Részösszeg</td><td>Összesen</td><td>7</td></tr>",
                            "<tr><td>139</td><td>2016</td><td>5</td></tr>",
                            "<tr><td>139</td><td>2017</td><td>2</td></tr>",
                            "<tr><td>Részösszeg</td><td>Összesen</td><td>7</td></tr>",
                            "<tr><td>140</td><td>2016</td><td>8</td></tr>",
                            "<tr><td>Részösszeg</td><td>Összesen</td><td>8</td></tr>",
                            "<tr><td>141</td><td>2016</td><td>6</td></tr>",
                            "<tr><td>Részösszeg</td><td>Összesen</td><td>6</td></tr>",
                            "<tr><td>142</td><td>2016</td><td>1</td></tr>",
                            "<tr><td>142</td><td>2017</td><td>1</td></tr>",
                            "<tr><td>Részösszeg</td><td>Összesen</td><td>2</td></tr>",
                            "<tr><td>143</td><td>2016</td><td>6</td></tr>",
                            "<tr><td>143</td><td>2017</td><td>1</td></tr>",
                            "<tr><td>Részösszeg</td><td>Összesen</td><td>7</td></tr>",
                            "<tr><td>144</td><td>2016</td><td>4</td></tr>",
                            "<tr><td>144</td><td>2017</td><td>1</td></tr>",
                            "<tr><td>Részösszeg</td><td>Összesen</td><td>5</td></tr>",
                            "<tr><td>145</td><td>2016</td><td>5</td></tr>",
                            "<tr><td>145</td><td>2017</td><td>1</td></tr>",
                            "<tr><td>Részösszeg</td><td>Összesen</td><td>6</td></tr>",
                            "<tr><td>146</td><td>2016</td><td>5</td></tr>",
                            "<tr><td>146</td><td>2017</td><td>1</td></tr>",
                            "<tr><td>Részösszeg</td><td>Összesen</td><td>6</td></tr>",
                            "<tr><td>147</td><td>2016</td><td>1</td></tr>",
                            "<tr><td>Részösszeg</td><td>Összesen</td><td>1</td></tr>",
                            "<tr><td>148</td><td>2016</td><td>5</td></tr>",
                            "<tr><td>148</td><td>2017</td><td>1</td></tr>",
                            "<tr><td>Részösszeg</td><td>Összesen</td><td>6</td></tr>",
                            "<tr><td>149</td><td>2016</td><td>6</td></tr>",
                            "<tr><td>149</td><td>2017</td><td>1</td></tr>",
                            "<tr><td>Részösszeg</td><td>Összesen</td><td>7</td></tr>",
                            "<tr><td>150</td><td>2016</td><td>5</td></tr>",
                            "<tr><td>150</td><td>2017</td><td>1</td></tr>",
                            "<tr><td>Részösszeg</td><td>Összesen</td><td>6</td></tr>",
                            "<tr><td>151</td><td>2016</td><td>3</td></tr>",
                            "<tr><td>Részösszeg</td><td>Összesen</td><td>3</td></tr>",
                            "<tr><td>152</td><td>2016</td><td>3</td></tr>",
                            "<tr><td>152</td><td>2017</td><td>1</td></tr>",
                            "<tr><td>Részösszeg</td><td>Összesen</td><td>4</td></tr>",
                            "<tr><td>153</td><td>2016</td><td>2</td></tr>",
                            "<tr><td>153</td><td>2017</td><td>3</td></tr>",
                            "<tr><td>Részösszeg</td><td>Összesen</td><td>5</td></tr>",
                            "<tr><td>154</td><td>2016</td><td>4</td></tr>",
                            "<tr><td>154</td><td>2017</td><td>1</td></tr>",
                            "<tr><td>Részösszeg</td><td>Összesen</td><td>5</td></tr>",
                            "<tr><td>155</td><td>2016</td><td>4</td></tr>",
                            "<tr><td>155</td><td>2017</td><td>1</td></tr>",
                            "<tr><td>Részösszeg</td><td>Összesen</td><td>5</td></tr>",
                            "<tr><td>156</td><td>2016</td><td>4</td></tr>",
                            "<tr><td>156</td><td>2017</td><td>3</td></tr>",
                            "<tr><td>Részösszeg</td><td>Összesen</td><td>7</td></tr>",
                            "<tr><td>157</td><td>2016</td><td>4</td></tr>",
                            "<tr><td>157</td><td>2017</td><td>1</td></tr>",
                            "<tr><td>Részösszeg</td><td>Összesen</td><td>5</td></tr>",
                            "<tr><td>158</td><td>2016</td><td>3</td></tr>",
                            "<tr><td>Részösszeg</td><td>Összesen</td><td>3</td></tr>",
                            "<tr><td>160</td><td>2016</td><td>4</td></tr>",
                            "<tr><td>160</td><td>2017</td><td>1</td></tr>",
                            "<tr><td>Részösszeg</td><td>Összesen</td><td>5</td></tr>",
                            "<tr><td>161</td><td>2016</td><td>5</td></tr>",
                            "<tr><td>161</td><td>2017</td><td>1</td></tr>",
                            "<tr><td>Részösszeg</td><td>Összesen</td><td>6</td></tr>",
                            "<tr><td>162</td><td>2016</td><td>3</td></tr>",
                            "<tr><td>Részösszeg</td><td>Összesen</td><td>3</td></tr>",
                            "<tr><td>163</td><td>2016</td><td>6</td></tr>",
                            "<tr><td>163</td><td>2017</td><td>1</td></tr>",
                            "<tr><td>Részösszeg</td><td>Összesen</td><td>7</td></tr>",
                            "<tr><td>164</td><td>2016</td><td>5</td></tr>",
                            "<tr><td>Részösszeg</td><td>Összesen</td><td>5</td></tr>",
                            "<tr><td>165</td><td>2016</td><td>7</td></tr>",
                            "<tr><td>Részösszeg</td><td>Összesen</td><td>7</td></tr>",
                            "<tr><td>166</td><td>2016</td><td>2</td></tr>",
                            "<tr><td>166</td><td>2017</td><td>1</td></tr>",
                            "<tr><td>Részösszeg</td><td>Összesen</td><td>3</td></tr>",
                            "<tr><td>167</td><td>2016</td><td>1</td></tr>",
                            "<tr><td>167</td><td>2017</td><td>1</td></tr>",
                            "<tr><td>Részösszeg</td><td>Összesen</td><td>2</td></tr>",
                            "<tr><td>168</td><td>2016</td><td>5</td></tr>",
                            "<tr><td>Részösszeg</td><td>Összesen</td><td>5</td></tr>",
                            "<tr><td>169</td><td>2016</td><td>5</td></tr>",
                            "<tr><td>169</td><td>2017</td><td>1</td></tr>",
                            "<tr><td>Részösszeg</td><td>Összesen</td><td>6</td></tr>",
                            "<tr><td>170</td><td>2016</td><td>5</td></tr>",
                            "<tr><td>Részösszeg</td><td>Összesen</td><td>5</td></tr>",
                            "<tr><td>171</td><td>2016</td><td>4</td></tr>",
                            "<tr><td>171</td><td>2017</td><td>1</td></tr>",
                            "<tr><td>Részösszeg</td><td>Összesen</td><td>5</td></tr>",
                            "<tr><td>172</td><td>2016</td><td>7</td></tr>",
                            "<tr><td>172</td><td>2017</td><td>2</td></tr>",
                            "<tr><td>Részösszeg</td><td>Összesen</td><td>9</td></tr>",
                            "<tr><td>173</td><td>2016</td><td>3</td></tr>",
                            "<tr><td>173</td><td>2017</td><td>1</td></tr>",
                            "<tr><td>Részösszeg</td><td>Összesen</td><td>4</td></tr>",
                            "<tr><td>174</td><td>2016</td><td>4</td></tr>",
                            "<tr><td>Részösszeg</td><td>Összesen</td><td>4</td></tr>",
                            "<tr><td>175</td><td>2016</td><td>5</td></tr>",
                            "<tr><td>Részösszeg</td><td>Összesen</td><td>5</td></tr>",
                            "<tr><td>176</td><td>2016</td><td>4</td></tr>",
                            "<tr><td>176</td><td>2017</td><td>2</td></tr>",
                            "<tr><td>Részösszeg</td><td>Összesen</td><td>6</td></tr>",
                            "<tr><td>177</td><td>2016</td><td>3</td></tr>",
                            "<tr><td>177</td><td>2017</td><td>1</td></tr>",
                            "<tr><td>Részösszeg</td><td>Összesen</td><td>4</td></tr>",
                            "<tr><td>178</td><td>2016</td><td>4</td></tr>",
                            "<tr><td>Részösszeg</td><td>Összesen</td><td>4</td></tr>",
                            "<tr><td>179</td><td>2016</td><td>2</td></tr>",
                            "<tr><td>179</td><td>2017</td><td>1</td></tr>",
                            "<tr><td>Részösszeg</td><td>Összesen</td><td>3</td></tr>",
                            "<tr><td>180</td><td>2016</td><td>1</td></tr>",
                            "<tr><td>180</td><td>2017</td><td>2</td></tr>",
                            "<tr><td>Részösszeg</td><td>Összesen</td><td>3</td></tr>",
                            "<tr><td>181</td><td>2016</td><td>6</td></tr>",
                            "<tr><td>Részösszeg</td><td>Összesen</td><td>6</td></tr>",
                            "<tr><td>182</td><td>2016</td><td>10</td></tr>",
                            "<tr><td>182</td><td>2017</td><td>2</td></tr>",
                            "<tr><td>Részösszeg</td><td>Összesen</td><td>12</td></tr>",
                            "<tr><td>183</td><td>2016</td><td>3</td></tr>",
                            "<tr><td>183</td><td>2017</td><td>1</td></tr>",
                            "<tr><td>Részösszeg</td><td>Összesen</td><td>4</td></tr>",
                            "<tr><td>184</td><td>2016</td><td>4</td></tr>",
                            "<tr><td>Részösszeg</td><td>Összesen</td><td>4</td></tr>",
                            "<tr><td>185</td><td>2016</td><td>10</td></tr>",
                            "<tr><td>185</td><td>2017</td><td>2</td></tr>",
                            "<tr><td>Részösszeg</td><td>Összesen</td><td>12</td></tr>",
                            "<tr><td>186</td><td>2016</td><td>3</td></tr>",
                            "<tr><td>186</td><td>2017</td><td>1</td></tr>",
                            "<tr><td>Részösszeg</td><td>Összesen</td><td>4</td></tr>",
                            "<tr><td>187</td><td>2016</td><td>7</td></tr>",
                            "<tr><td>Részösszeg</td><td>Összesen</td><td>7</td></tr>",
                            "<tr><td>188</td><td>2016</td><td>6</td></tr>",
                            "<tr><td>Részösszeg</td><td>Összesen</td><td>6</td></tr>",
                            "<tr><td>189</td><td>2016</td><td>3</td></tr>",
                            "<tr><td>189</td><td>2017</td><td>2</td></tr>",
                            "<tr><td>Részösszeg</td><td>Összesen</td><td>5</td></tr>",
                            "<tr><td>190</td><td>2016</td><td>4</td></tr>",
                            "<tr><td>190</td><td>2017</td><td>1</td></tr>",
                            "<tr><td>Részösszeg</td><td>Összesen</td><td>5</td></tr>",
                            "<tr><td>191</td><td>2016</td><td>3</td></tr>",
                            "<tr><td>191</td><td>2017</td><td>2</td></tr>",
                            "<tr><td>Részösszeg</td><td>Összesen</td><td>5</td></tr>",
                            "<tr><td>192</td><td>2016</td><td>2</td></tr>",
                            "<tr><td>Részösszeg</td><td>Összesen</td><td>2</td></tr>",
                            "<tr><td>193</td><td>2016</td><td>7</td></tr>",
                            "<tr><td>Részösszeg</td><td>Összesen</td><td>7</td></tr>",
                            "<tr><td>194</td><td>2016</td><td>1</td></tr>",
                            "<tr><td>Részösszeg</td><td>Összesen</td><td>1</td></tr>",
                            "<tr><td>195</td><td>2016</td><td>4</td></tr>",
                            "<tr><td>195</td><td>2017</td><td>2</td></tr>",
                            "<tr><td>Részösszeg</td><td>Összesen</td><td>6</td></tr>",
                            "<tr><td>196</td><td>2016</td><td>4</td></tr>",
                            "<tr><td>Részösszeg</td><td>Összesen</td><td>4</td></tr>",
                            "<tr><td>197</td><td>2016</td><td>6</td></tr>",
                            "<tr><td>Részösszeg</td><td>Összesen</td><td>6</td></tr>",
                            "<tr><td>198</td><td>2016</td><td>7</td></tr>",
                            "<tr><td>198</td><td>2017</td><td>1</td></tr>",
                            "<tr><td>Részösszeg</td><td>Összesen</td><td>8</td></tr>",
                            "<tr><td>Végösszeg</td><td>Összesen</td><td>1027</td></tr>",
                            "</table>"
                        ]
                    }
                }
            ],
            "execution_count": 2
        },
        {
            "cell_type": "markdown",
            "source": [
                "Rangsoroljuk az egyes szobákat a foglalások száma, azon belül férőhely szerint!\n",
                "\n",
                "- Holtverseny esetén a sorszámok sűrűn kövessék egymást\n",
                "- Az 1-es számot a legtöbbet foglalt, azon belül legkevesebb férőhelyű szoba kapja\n",
                "- Csak a szoba azonosítója, a férőhely és a helyezés jelenjen meg"
            ],
            "metadata": {
                "azdata_cell_guid": "0c48f1a5-b7d9-4b25-bc30-a75a7eab8737"
            },
            "attachments": {}
        },
        {
            "cell_type": "code",
            "source": [
                "SELECT \r\n",
                "  SZOBA_FK as 'szoba_szám', \r\n",
                "  FEROHELY as 'férőhely',\r\n",
                "  DENSE_RANK() OVER (ORDER BY COUNT(*) DESC, FEROHELY ASC) AS 'Helyezés'\r\n",
                "FROM Foglalas f\r\n",
                "JOIN Szoba s ON f.SZOBA_FK = s.SZOBA_ID\r\n",
                "GROUP BY \r\n",
                "  SZOBA_FK, FEROHELY\r\n",
                "\r\n",
                ""
            ],
            "metadata": {
                "azdata_cell_guid": "b72c5adb-faa2-44a6-b616-430bf4e37b13",
                "language": "sql"
            },
            "outputs": [
                {
                    "output_type": "display_data",
                    "data": {
                        "text/html": "(197 rows affected)"
                    },
                    "metadata": {}
                },
                {
                    "output_type": "display_data",
                    "data": {
                        "text/html": "Total execution time: 00:00:00.013"
                    },
                    "metadata": {}
                },
                {
                    "output_type": "execute_result",
                    "metadata": {},
                    "execution_count": 6,
                    "data": {
                        "application/vnd.dataresource+json": {
                            "schema": {
                                "fields": [
                                    {
                                        "name": "szoba_szám"
                                    },
                                    {
                                        "name": "férőhely"
                                    },
                                    {
                                        "name": "Helyezés"
                                    }
                                ]
                            },
                            "data": [
                                {
                                    "szoba_szám": "58",
                                    "férőhely": "2",
                                    "Helyezés": "1"
                                },
                                {
                                    "szoba_szám": "182",
                                    "férőhely": "2",
                                    "Helyezés": "2"
                                },
                                {
                                    "szoba_szám": "185",
                                    "férőhely": "3",
                                    "Helyezés": "3"
                                },
                                {
                                    "szoba_szám": "70",
                                    "férőhely": "2",
                                    "Helyezés": "4"
                                },
                                {
                                    "szoba_szám": "94",
                                    "férőhely": "2",
                                    "Helyezés": "5"
                                },
                                {
                                    "szoba_szám": "12",
                                    "férőhely": "2",
                                    "Helyezés": "6"
                                },
                                {
                                    "szoba_szám": "172",
                                    "férőhely": "2",
                                    "Helyezés": "6"
                                },
                                {
                                    "szoba_szám": "35",
                                    "férőhely": "3",
                                    "Helyezés": "7"
                                },
                                {
                                    "szoba_szám": "48",
                                    "férőhely": "3",
                                    "Helyezés": "7"
                                },
                                {
                                    "szoba_szám": "74",
                                    "férőhely": "3",
                                    "Helyezés": "7"
                                },
                                {
                                    "szoba_szám": "122",
                                    "férőhely": "3",
                                    "Helyezés": "7"
                                },
                                {
                                    "szoba_szám": "121",
                                    "férőhely": "2",
                                    "Helyezés": "8"
                                },
                                {
                                    "szoba_szám": "140",
                                    "férőhely": "2",
                                    "Helyezés": "8"
                                },
                                {
                                    "szoba_szám": "110",
                                    "férőhely": "2",
                                    "Helyezés": "8"
                                },
                                {
                                    "szoba_szám": "55",
                                    "férőhely": "2",
                                    "Helyezés": "8"
                                },
                                {
                                    "szoba_szám": "38",
                                    "férőhely": "2",
                                    "Helyezés": "8"
                                },
                                {
                                    "szoba_szám": "1",
                                    "férőhely": "3",
                                    "Helyezés": "9"
                                },
                                {
                                    "szoba_szám": "3",
                                    "férőhely": "3",
                                    "Helyezés": "9"
                                },
                                {
                                    "szoba_szám": "43",
                                    "férőhely": "3",
                                    "Helyezés": "9"
                                },
                                {
                                    "szoba_szám": "83",
                                    "férőhely": "3",
                                    "Helyezés": "9"
                                },
                                {
                                    "szoba_szám": "88",
                                    "férőhely": "3",
                                    "Helyezés": "9"
                                },
                                {
                                    "szoba_szám": "89",
                                    "férőhely": "3",
                                    "Helyezés": "9"
                                },
                                {
                                    "szoba_szám": "117",
                                    "férőhely": "3",
                                    "Helyezés": "9"
                                },
                                {
                                    "szoba_szám": "198",
                                    "férőhely": "3",
                                    "Helyezés": "9"
                                },
                                {
                                    "szoba_szám": "149",
                                    "férőhely": "2",
                                    "Helyezés": "10"
                                },
                                {
                                    "szoba_szám": "156",
                                    "férőhely": "2",
                                    "Helyezés": "10"
                                },
                                {
                                    "szoba_szám": "163",
                                    "férőhely": "2",
                                    "Helyezés": "10"
                                },
                                {
                                    "szoba_szám": "165",
                                    "férőhely": "2",
                                    "Helyezés": "10"
                                },
                                {
                                    "szoba_szám": "118",
                                    "férőhely": "2",
                                    "Helyezés": "10"
                                },
                                {
                                    "szoba_szám": "109",
                                    "férőhely": "2",
                                    "Helyezés": "10"
                                },
                                {
                                    "szoba_szám": "127",
                                    "férőhely": "2",
                                    "Helyezés": "10"
                                },
                                {
                                    "szoba_szám": "139",
                                    "férőhely": "2",
                                    "Helyezés": "10"
                                },
                                {
                                    "szoba_szám": "80",
                                    "férőhely": "2",
                                    "Helyezés": "10"
                                },
                                {
                                    "szoba_szám": "59",
                                    "férőhely": "2",
                                    "Helyezés": "10"
                                },
                                {
                                    "szoba_szám": "39",
                                    "férőhely": "2",
                                    "Helyezés": "10"
                                },
                                {
                                    "szoba_szám": "27",
                                    "férőhely": "3",
                                    "Helyezés": "11"
                                },
                                {
                                    "szoba_szám": "49",
                                    "férőhely": "3",
                                    "Helyezés": "11"
                                },
                                {
                                    "szoba_szám": "96",
                                    "férőhely": "3",
                                    "Helyezés": "11"
                                },
                                {
                                    "szoba_szám": "97",
                                    "férőhely": "3",
                                    "Helyezés": "11"
                                },
                                {
                                    "szoba_szám": "138",
                                    "férőhely": "3",
                                    "Helyezés": "11"
                                },
                                {
                                    "szoba_szám": "143",
                                    "férőhely": "3",
                                    "Helyezés": "11"
                                },
                                {
                                    "szoba_szám": "115",
                                    "férőhely": "3",
                                    "Helyezés": "11"
                                },
                                {
                                    "szoba_szám": "187",
                                    "férőhely": "3",
                                    "Helyezés": "11"
                                },
                                {
                                    "szoba_szám": "193",
                                    "férőhely": "3",
                                    "Helyezés": "11"
                                },
                                {
                                    "szoba_szám": "195",
                                    "férőhely": "2",
                                    "Helyezés": "12"
                                },
                                {
                                    "szoba_szám": "161",
                                    "férőhely": "2",
                                    "Helyezés": "12"
                                },
                                {
                                    "szoba_szám": "150",
                                    "férőhely": "2",
                                    "Helyezés": "12"
                                },
                                {
                                    "szoba_szám": "148",
                                    "férőhely": "2",
                                    "Helyezés": "12"
                                },
                                {
                                    "szoba_szám": "169",
                                    "férőhely": "2",
                                    "Helyezés": "12"
                                },
                                {
                                    "szoba_szám": "106",
                                    "férőhely": "2",
                                    "Helyezés": "12"
                                },
                                {
                                    "szoba_szám": "126",
                                    "férőhely": "2",
                                    "Helyezés": "12"
                                },
                                {
                                    "szoba_szám": "145",
                                    "férőhely": "2",
                                    "Helyezés": "12"
                                },
                                {
                                    "szoba_szám": "141",
                                    "férőhely": "2",
                                    "Helyezés": "12"
                                },
                                {
                                    "szoba_szám": "130",
                                    "férőhely": "2",
                                    "Helyezés": "12"
                                },
                                {
                                    "szoba_szám": "137",
                                    "férőhely": "2",
                                    "Helyezés": "12"
                                },
                                {
                                    "szoba_szám": "78",
                                    "férőhely": "2",
                                    "Helyezés": "12"
                                },
                                {
                                    "szoba_szám": "42",
                                    "férőhely": "2",
                                    "Helyezés": "12"
                                },
                                {
                                    "szoba_szám": "64",
                                    "férőhely": "2",
                                    "Helyezés": "12"
                                },
                                {
                                    "szoba_szám": "67",
                                    "férőhely": "2",
                                    "Helyezés": "12"
                                },
                                {
                                    "szoba_szám": "28",
                                    "férőhely": "2",
                                    "Helyezés": "12"
                                },
                                {
                                    "szoba_szám": "29",
                                    "férőhely": "2",
                                    "Helyezés": "12"
                                },
                                {
                                    "szoba_szám": "19",
                                    "férőhely": "2",
                                    "Helyezés": "12"
                                },
                                {
                                    "szoba_szám": "33",
                                    "férőhely": "2",
                                    "Helyezés": "12"
                                },
                                {
                                    "szoba_szám": "4",
                                    "férőhely": "2",
                                    "Helyezés": "12"
                                },
                                {
                                    "szoba_szám": "7",
                                    "férőhely": "2",
                                    "Helyezés": "12"
                                },
                                {
                                    "szoba_szám": "15",
                                    "férőhely": "2",
                                    "Helyezés": "12"
                                },
                                {
                                    "szoba_szám": "17",
                                    "férőhely": "3",
                                    "Helyezés": "13"
                                },
                                {
                                    "szoba_szám": "18",
                                    "férőhely": "3",
                                    "Helyezés": "13"
                                },
                                {
                                    "szoba_szám": "6",
                                    "férőhely": "3",
                                    "Helyezés": "13"
                                },
                                {
                                    "szoba_szám": "9",
                                    "férőhely": "3",
                                    "Helyezés": "13"
                                },
                                {
                                    "szoba_szám": "22",
                                    "férőhely": "3",
                                    "Helyezés": "13"
                                },
                                {
                                    "szoba_szám": "36",
                                    "férőhely": "3",
                                    "Helyezés": "13"
                                },
                                {
                                    "szoba_szám": "44",
                                    "férőhely": "3",
                                    "Helyezés": "13"
                                },
                                {
                                    "szoba_szám": "54",
                                    "férőhely": "3",
                                    "Helyezés": "13"
                                },
                                {
                                    "szoba_szám": "77",
                                    "férőhely": "3",
                                    "Helyezés": "13"
                                },
                                {
                                    "szoba_szám": "82",
                                    "férőhely": "3",
                                    "Helyezés": "13"
                                },
                                {
                                    "szoba_szám": "92",
                                    "férőhely": "3",
                                    "Helyezés": "13"
                                },
                                {
                                    "szoba_szám": "132",
                                    "férőhely": "3",
                                    "Helyezés": "13"
                                },
                                {
                                    "szoba_szám": "133",
                                    "férőhely": "3",
                                    "Helyezés": "13"
                                },
                                {
                                    "szoba_szám": "134",
                                    "férőhely": "3",
                                    "Helyezés": "13"
                                },
                                {
                                    "szoba_szám": "146",
                                    "férőhely": "3",
                                    "Helyezés": "13"
                                },
                                {
                                    "szoba_szám": "124",
                                    "férőhely": "3",
                                    "Helyezés": "13"
                                },
                                {
                                    "szoba_szám": "120",
                                    "férőhely": "3",
                                    "Helyezés": "13"
                                },
                                {
                                    "szoba_szám": "176",
                                    "férőhely": "3",
                                    "Helyezés": "13"
                                },
                                {
                                    "szoba_szám": "181",
                                    "férőhely": "3",
                                    "Helyezés": "13"
                                },
                                {
                                    "szoba_szám": "188",
                                    "férőhely": "3",
                                    "Helyezés": "13"
                                },
                                {
                                    "szoba_szám": "197",
                                    "férőhely": "3",
                                    "Helyezés": "13"
                                },
                                {
                                    "szoba_szám": "189",
                                    "férőhely": "2",
                                    "Helyezés": "14"
                                },
                                {
                                    "szoba_szám": "190",
                                    "férőhely": "2",
                                    "Helyezés": "14"
                                },
                                {
                                    "szoba_szám": "191",
                                    "férőhely": "2",
                                    "Helyezés": "14"
                                },
                                {
                                    "szoba_szám": "168",
                                    "férőhely": "2",
                                    "Helyezés": "14"
                                },
                                {
                                    "szoba_szám": "175",
                                    "férőhely": "2",
                                    "Helyezés": "14"
                                },
                                {
                                    "szoba_szám": "170",
                                    "férőhely": "2",
                                    "Helyezés": "14"
                                },
                                {
                                    "szoba_szám": "171",
                                    "férőhely": "2",
                                    "Helyezés": "14"
                                },
                                {
                                    "szoba_szám": "157",
                                    "férőhely": "2",
                                    "Helyezés": "14"
                                },
                                {
                                    "szoba_szám": "154",
                                    "férőhely": "2",
                                    "Helyezés": "14"
                                },
                                {
                                    "szoba_szám": "164",
                                    "férőhely": "2",
                                    "Helyezés": "14"
                                },
                                {
                                    "szoba_szám": "119",
                                    "férőhely": "2",
                                    "Helyezés": "14"
                                },
                                {
                                    "szoba_szám": "107",
                                    "férőhely": "2",
                                    "Helyezés": "14"
                                },
                                {
                                    "szoba_szám": "128",
                                    "férőhely": "2",
                                    "Helyezés": "14"
                                },
                                {
                                    "szoba_szám": "131",
                                    "férőhely": "2",
                                    "Helyezés": "14"
                                },
                                {
                                    "szoba_szám": "99",
                                    "férőhely": "2",
                                    "Helyezés": "14"
                                },
                                {
                                    "szoba_szám": "111",
                                    "férőhely": "2",
                                    "Helyezés": "14"
                                },
                                {
                                    "szoba_szám": "81",
                                    "férőhely": "2",
                                    "Helyezés": "14"
                                },
                                {
                                    "szoba_szám": "86",
                                    "férőhely": "2",
                                    "Helyezés": "14"
                                },
                                {
                                    "szoba_szám": "52",
                                    "férőhely": "2",
                                    "Helyezés": "14"
                                },
                                {
                                    "szoba_szám": "45",
                                    "férőhely": "2",
                                    "Helyezés": "14"
                                },
                                {
                                    "szoba_szám": "62",
                                    "férőhely": "2",
                                    "Helyezés": "14"
                                },
                                {
                                    "szoba_szám": "61",
                                    "férőhely": "3",
                                    "Helyezés": "15"
                                },
                                {
                                    "szoba_szám": "51",
                                    "férőhely": "3",
                                    "Helyezés": "15"
                                },
                                {
                                    "szoba_szám": "20",
                                    "férőhely": "3",
                                    "Helyezés": "15"
                                },
                                {
                                    "szoba_szám": "8",
                                    "férőhely": "3",
                                    "Helyezés": "15"
                                },
                                {
                                    "szoba_szám": "16",
                                    "férőhely": "3",
                                    "Helyezés": "15"
                                },
                                {
                                    "szoba_szám": "87",
                                    "férőhely": "3",
                                    "Helyezés": "15"
                                },
                                {
                                    "szoba_szám": "79",
                                    "férőhely": "3",
                                    "Helyezés": "15"
                                },
                                {
                                    "szoba_szám": "112",
                                    "férőhely": "3",
                                    "Helyezés": "15"
                                },
                                {
                                    "szoba_szám": "113",
                                    "férőhely": "3",
                                    "Helyezés": "15"
                                },
                                {
                                    "szoba_szám": "93",
                                    "férőhely": "3",
                                    "Helyezés": "15"
                                },
                                {
                                    "szoba_szám": "144",
                                    "férőhely": "3",
                                    "Helyezés": "15"
                                },
                                {
                                    "szoba_szám": "123",
                                    "férőhely": "3",
                                    "Helyezés": "15"
                                },
                                {
                                    "szoba_szám": "153",
                                    "férőhely": "3",
                                    "Helyezés": "15"
                                },
                                {
                                    "szoba_szám": "160",
                                    "férőhely": "3",
                                    "Helyezés": "15"
                                },
                                {
                                    "szoba_szám": "155",
                                    "férőhely": "3",
                                    "Helyezés": "15"
                                },
                                {
                                    "szoba_szám": "152",
                                    "férőhely": "2",
                                    "Helyezés": "16"
                                },
                                {
                                    "szoba_szám": "173",
                                    "férőhely": "2",
                                    "Helyezés": "16"
                                },
                                {
                                    "szoba_szám": "174",
                                    "férőhely": "2",
                                    "Helyezés": "16"
                                },
                                {
                                    "szoba_szám": "186",
                                    "férőhely": "2",
                                    "Helyezés": "16"
                                },
                                {
                                    "szoba_szám": "196",
                                    "férőhely": "2",
                                    "Helyezés": "16"
                                },
                                {
                                    "szoba_szám": "184",
                                    "férőhely": "2",
                                    "Helyezés": "16"
                                },
                                {
                                    "szoba_szám": "129",
                                    "férőhely": "2",
                                    "Helyezés": "16"
                                },
                                {
                                    "szoba_szám": "100",
                                    "férőhely": "2",
                                    "Helyezés": "16"
                                },
                                {
                                    "szoba_szám": "114",
                                    "férőhely": "2",
                                    "Helyezés": "16"
                                },
                                {
                                    "szoba_szám": "98",
                                    "férőhely": "2",
                                    "Helyezés": "16"
                                },
                                {
                                    "szoba_szám": "103",
                                    "férőhely": "2",
                                    "Helyezés": "16"
                                },
                                {
                                    "szoba_szám": "85",
                                    "férőhely": "2",
                                    "Helyezés": "16"
                                },
                                {
                                    "szoba_szám": "91",
                                    "férőhely": "2",
                                    "Helyezés": "16"
                                },
                                {
                                    "szoba_szám": "11",
                                    "férőhely": "2",
                                    "Helyezés": "16"
                                },
                                {
                                    "szoba_szám": "5",
                                    "férőhely": "2",
                                    "Helyezés": "16"
                                },
                                {
                                    "szoba_szám": "21",
                                    "férőhely": "2",
                                    "Helyezés": "16"
                                },
                                {
                                    "szoba_szám": "50",
                                    "férőhely": "2",
                                    "Helyezés": "16"
                                },
                                {
                                    "szoba_szám": "57",
                                    "férőhely": "2",
                                    "Helyezés": "16"
                                },
                                {
                                    "szoba_szám": "63",
                                    "férőhely": "2",
                                    "Helyezés": "16"
                                },
                                {
                                    "szoba_szám": "72",
                                    "férőhely": "2",
                                    "Helyezés": "16"
                                },
                                {
                                    "szoba_szám": "73",
                                    "férőhely": "2",
                                    "Helyezés": "16"
                                },
                                {
                                    "szoba_szám": "66",
                                    "férőhely": "3",
                                    "Helyezés": "17"
                                },
                                {
                                    "szoba_szám": "69",
                                    "férőhely": "3",
                                    "Helyezés": "17"
                                },
                                {
                                    "szoba_szám": "46",
                                    "férőhely": "3",
                                    "Helyezés": "17"
                                },
                                {
                                    "szoba_szám": "34",
                                    "férőhely": "3",
                                    "Helyezés": "17"
                                },
                                {
                                    "szoba_szám": "40",
                                    "férőhely": "3",
                                    "Helyezés": "17"
                                },
                                {
                                    "szoba_szám": "2",
                                    "férőhely": "3",
                                    "Helyezés": "17"
                                },
                                {
                                    "szoba_szám": "10",
                                    "férőhely": "3",
                                    "Helyezés": "17"
                                },
                                {
                                    "szoba_szám": "13",
                                    "férőhely": "3",
                                    "Helyezés": "17"
                                },
                                {
                                    "szoba_szám": "90",
                                    "férőhely": "3",
                                    "Helyezés": "17"
                                },
                                {
                                    "szoba_szám": "84",
                                    "férőhely": "3",
                                    "Helyezés": "17"
                                },
                                {
                                    "szoba_szám": "104",
                                    "férőhely": "3",
                                    "Helyezés": "17"
                                },
                                {
                                    "szoba_szám": "95",
                                    "férőhely": "3",
                                    "Helyezés": "17"
                                },
                                {
                                    "szoba_szám": "183",
                                    "férőhely": "3",
                                    "Helyezés": "17"
                                },
                                {
                                    "szoba_szám": "177",
                                    "férőhely": "3",
                                    "Helyezés": "17"
                                },
                                {
                                    "szoba_szám": "178",
                                    "férőhely": "3",
                                    "Helyezés": "17"
                                },
                                {
                                    "szoba_szám": "180",
                                    "férőhely": "2",
                                    "Helyezés": "18"
                                },
                                {
                                    "szoba_szám": "151",
                                    "férőhely": "2",
                                    "Helyezés": "18"
                                },
                                {
                                    "szoba_szám": "158",
                                    "férőhely": "2",
                                    "Helyezés": "18"
                                },
                                {
                                    "szoba_szám": "166",
                                    "férőhely": "2",
                                    "Helyezés": "18"
                                },
                                {
                                    "szoba_szám": "101",
                                    "férőhely": "2",
                                    "Helyezés": "18"
                                },
                                {
                                    "szoba_szám": "75",
                                    "férőhely": "2",
                                    "Helyezés": "18"
                                },
                                {
                                    "szoba_szám": "76",
                                    "férőhely": "2",
                                    "Helyezés": "18"
                                },
                                {
                                    "szoba_szám": "136",
                                    "férőhely": "2",
                                    "Helyezés": "18"
                                },
                                {
                                    "szoba_szám": "23",
                                    "férőhely": "2",
                                    "Helyezés": "18"
                                },
                                {
                                    "szoba_szám": "37",
                                    "férőhely": "2",
                                    "Helyezés": "18"
                                },
                                {
                                    "szoba_szám": "68",
                                    "férőhely": "2",
                                    "Helyezés": "18"
                                },
                                {
                                    "szoba_szám": "71",
                                    "férőhely": "3",
                                    "Helyezés": "19"
                                },
                                {
                                    "szoba_szám": "30",
                                    "férőhely": "3",
                                    "Helyezés": "19"
                                },
                                {
                                    "szoba_szám": "31",
                                    "férőhely": "3",
                                    "Helyezés": "19"
                                },
                                {
                                    "szoba_szám": "14",
                                    "férőhely": "3",
                                    "Helyezés": "19"
                                },
                                {
                                    "szoba_szám": "135",
                                    "férőhely": "3",
                                    "Helyezés": "19"
                                },
                                {
                                    "szoba_szám": "162",
                                    "férőhely": "3",
                                    "Helyezés": "19"
                                },
                                {
                                    "szoba_szám": "179",
                                    "férőhely": "3",
                                    "Helyezés": "19"
                                },
                                {
                                    "szoba_szám": "24",
                                    "férőhely": "4",
                                    "Helyezés": "20"
                                },
                                {
                                    "szoba_szám": "26",
                                    "férőhely": "2",
                                    "Helyezés": "21"
                                },
                                {
                                    "szoba_szám": "47",
                                    "férőhely": "2",
                                    "Helyezés": "21"
                                },
                                {
                                    "szoba_szám": "53",
                                    "férőhely": "2",
                                    "Helyezés": "21"
                                },
                                {
                                    "szoba_szám": "56",
                                    "férőhely": "2",
                                    "Helyezés": "21"
                                },
                                {
                                    "szoba_szám": "108",
                                    "férőhely": "2",
                                    "Helyezés": "21"
                                },
                                {
                                    "szoba_szám": "102",
                                    "férőhely": "2",
                                    "Helyezés": "21"
                                },
                                {
                                    "szoba_szám": "105",
                                    "férőhely": "2",
                                    "Helyezés": "21"
                                },
                                {
                                    "szoba_szám": "192",
                                    "férőhely": "2",
                                    "Helyezés": "21"
                                },
                                {
                                    "szoba_szám": "167",
                                    "férőhely": "3",
                                    "Helyezés": "22"
                                },
                                {
                                    "szoba_szám": "116",
                                    "férőhely": "3",
                                    "Helyezés": "22"
                                },
                                {
                                    "szoba_szám": "142",
                                    "férőhely": "3",
                                    "Helyezés": "22"
                                },
                                {
                                    "szoba_szám": "25",
                                    "férőhely": "3",
                                    "Helyezés": "22"
                                },
                                {
                                    "szoba_szám": "41",
                                    "férőhely": "3",
                                    "Helyezés": "22"
                                },
                                {
                                    "szoba_szám": "32",
                                    "férőhely": "2",
                                    "Helyezés": "23"
                                },
                                {
                                    "szoba_szám": "65",
                                    "férőhely": "2",
                                    "Helyezés": "23"
                                },
                                {
                                    "szoba_szám": "147",
                                    "férőhely": "2",
                                    "Helyezés": "23"
                                },
                                {
                                    "szoba_szám": "125",
                                    "férőhely": "2",
                                    "Helyezés": "23"
                                },
                                {
                                    "szoba_szám": "194",
                                    "férőhely": "2",
                                    "Helyezés": "23"
                                },
                                {
                                    "szoba_szám": "60",
                                    "férőhely": "3",
                                    "Helyezés": "24"
                                }
                            ]
                        },
                        "text/html": [
                            "<table>",
                            "<tr><th>szoba_szám</th><th>férőhely</th><th>Helyezés</th></tr>",
                            "<tr><td>58</td><td>2</td><td>1</td></tr>",
                            "<tr><td>182</td><td>2</td><td>2</td></tr>",
                            "<tr><td>185</td><td>3</td><td>3</td></tr>",
                            "<tr><td>70</td><td>2</td><td>4</td></tr>",
                            "<tr><td>94</td><td>2</td><td>5</td></tr>",
                            "<tr><td>12</td><td>2</td><td>6</td></tr>",
                            "<tr><td>172</td><td>2</td><td>6</td></tr>",
                            "<tr><td>35</td><td>3</td><td>7</td></tr>",
                            "<tr><td>48</td><td>3</td><td>7</td></tr>",
                            "<tr><td>74</td><td>3</td><td>7</td></tr>",
                            "<tr><td>122</td><td>3</td><td>7</td></tr>",
                            "<tr><td>121</td><td>2</td><td>8</td></tr>",
                            "<tr><td>140</td><td>2</td><td>8</td></tr>",
                            "<tr><td>110</td><td>2</td><td>8</td></tr>",
                            "<tr><td>55</td><td>2</td><td>8</td></tr>",
                            "<tr><td>38</td><td>2</td><td>8</td></tr>",
                            "<tr><td>1</td><td>3</td><td>9</td></tr>",
                            "<tr><td>3</td><td>3</td><td>9</td></tr>",
                            "<tr><td>43</td><td>3</td><td>9</td></tr>",
                            "<tr><td>83</td><td>3</td><td>9</td></tr>",
                            "<tr><td>88</td><td>3</td><td>9</td></tr>",
                            "<tr><td>89</td><td>3</td><td>9</td></tr>",
                            "<tr><td>117</td><td>3</td><td>9</td></tr>",
                            "<tr><td>198</td><td>3</td><td>9</td></tr>",
                            "<tr><td>149</td><td>2</td><td>10</td></tr>",
                            "<tr><td>156</td><td>2</td><td>10</td></tr>",
                            "<tr><td>163</td><td>2</td><td>10</td></tr>",
                            "<tr><td>165</td><td>2</td><td>10</td></tr>",
                            "<tr><td>118</td><td>2</td><td>10</td></tr>",
                            "<tr><td>109</td><td>2</td><td>10</td></tr>",
                            "<tr><td>127</td><td>2</td><td>10</td></tr>",
                            "<tr><td>139</td><td>2</td><td>10</td></tr>",
                            "<tr><td>80</td><td>2</td><td>10</td></tr>",
                            "<tr><td>59</td><td>2</td><td>10</td></tr>",
                            "<tr><td>39</td><td>2</td><td>10</td></tr>",
                            "<tr><td>27</td><td>3</td><td>11</td></tr>",
                            "<tr><td>49</td><td>3</td><td>11</td></tr>",
                            "<tr><td>96</td><td>3</td><td>11</td></tr>",
                            "<tr><td>97</td><td>3</td><td>11</td></tr>",
                            "<tr><td>138</td><td>3</td><td>11</td></tr>",
                            "<tr><td>143</td><td>3</td><td>11</td></tr>",
                            "<tr><td>115</td><td>3</td><td>11</td></tr>",
                            "<tr><td>187</td><td>3</td><td>11</td></tr>",
                            "<tr><td>193</td><td>3</td><td>11</td></tr>",
                            "<tr><td>195</td><td>2</td><td>12</td></tr>",
                            "<tr><td>161</td><td>2</td><td>12</td></tr>",
                            "<tr><td>150</td><td>2</td><td>12</td></tr>",
                            "<tr><td>148</td><td>2</td><td>12</td></tr>",
                            "<tr><td>169</td><td>2</td><td>12</td></tr>",
                            "<tr><td>106</td><td>2</td><td>12</td></tr>",
                            "<tr><td>126</td><td>2</td><td>12</td></tr>",
                            "<tr><td>145</td><td>2</td><td>12</td></tr>",
                            "<tr><td>141</td><td>2</td><td>12</td></tr>",
                            "<tr><td>130</td><td>2</td><td>12</td></tr>",
                            "<tr><td>137</td><td>2</td><td>12</td></tr>",
                            "<tr><td>78</td><td>2</td><td>12</td></tr>",
                            "<tr><td>42</td><td>2</td><td>12</td></tr>",
                            "<tr><td>64</td><td>2</td><td>12</td></tr>",
                            "<tr><td>67</td><td>2</td><td>12</td></tr>",
                            "<tr><td>28</td><td>2</td><td>12</td></tr>",
                            "<tr><td>29</td><td>2</td><td>12</td></tr>",
                            "<tr><td>19</td><td>2</td><td>12</td></tr>",
                            "<tr><td>33</td><td>2</td><td>12</td></tr>",
                            "<tr><td>4</td><td>2</td><td>12</td></tr>",
                            "<tr><td>7</td><td>2</td><td>12</td></tr>",
                            "<tr><td>15</td><td>2</td><td>12</td></tr>",
                            "<tr><td>17</td><td>3</td><td>13</td></tr>",
                            "<tr><td>18</td><td>3</td><td>13</td></tr>",
                            "<tr><td>6</td><td>3</td><td>13</td></tr>",
                            "<tr><td>9</td><td>3</td><td>13</td></tr>",
                            "<tr><td>22</td><td>3</td><td>13</td></tr>",
                            "<tr><td>36</td><td>3</td><td>13</td></tr>",
                            "<tr><td>44</td><td>3</td><td>13</td></tr>",
                            "<tr><td>54</td><td>3</td><td>13</td></tr>",
                            "<tr><td>77</td><td>3</td><td>13</td></tr>",
                            "<tr><td>82</td><td>3</td><td>13</td></tr>",
                            "<tr><td>92</td><td>3</td><td>13</td></tr>",
                            "<tr><td>132</td><td>3</td><td>13</td></tr>",
                            "<tr><td>133</td><td>3</td><td>13</td></tr>",
                            "<tr><td>134</td><td>3</td><td>13</td></tr>",
                            "<tr><td>146</td><td>3</td><td>13</td></tr>",
                            "<tr><td>124</td><td>3</td><td>13</td></tr>",
                            "<tr><td>120</td><td>3</td><td>13</td></tr>",
                            "<tr><td>176</td><td>3</td><td>13</td></tr>",
                            "<tr><td>181</td><td>3</td><td>13</td></tr>",
                            "<tr><td>188</td><td>3</td><td>13</td></tr>",
                            "<tr><td>197</td><td>3</td><td>13</td></tr>",
                            "<tr><td>189</td><td>2</td><td>14</td></tr>",
                            "<tr><td>190</td><td>2</td><td>14</td></tr>",
                            "<tr><td>191</td><td>2</td><td>14</td></tr>",
                            "<tr><td>168</td><td>2</td><td>14</td></tr>",
                            "<tr><td>175</td><td>2</td><td>14</td></tr>",
                            "<tr><td>170</td><td>2</td><td>14</td></tr>",
                            "<tr><td>171</td><td>2</td><td>14</td></tr>",
                            "<tr><td>157</td><td>2</td><td>14</td></tr>",
                            "<tr><td>154</td><td>2</td><td>14</td></tr>",
                            "<tr><td>164</td><td>2</td><td>14</td></tr>",
                            "<tr><td>119</td><td>2</td><td>14</td></tr>",
                            "<tr><td>107</td><td>2</td><td>14</td></tr>",
                            "<tr><td>128</td><td>2</td><td>14</td></tr>",
                            "<tr><td>131</td><td>2</td><td>14</td></tr>",
                            "<tr><td>99</td><td>2</td><td>14</td></tr>",
                            "<tr><td>111</td><td>2</td><td>14</td></tr>",
                            "<tr><td>81</td><td>2</td><td>14</td></tr>",
                            "<tr><td>86</td><td>2</td><td>14</td></tr>",
                            "<tr><td>52</td><td>2</td><td>14</td></tr>",
                            "<tr><td>45</td><td>2</td><td>14</td></tr>",
                            "<tr><td>62</td><td>2</td><td>14</td></tr>",
                            "<tr><td>61</td><td>3</td><td>15</td></tr>",
                            "<tr><td>51</td><td>3</td><td>15</td></tr>",
                            "<tr><td>20</td><td>3</td><td>15</td></tr>",
                            "<tr><td>8</td><td>3</td><td>15</td></tr>",
                            "<tr><td>16</td><td>3</td><td>15</td></tr>",
                            "<tr><td>87</td><td>3</td><td>15</td></tr>",
                            "<tr><td>79</td><td>3</td><td>15</td></tr>",
                            "<tr><td>112</td><td>3</td><td>15</td></tr>",
                            "<tr><td>113</td><td>3</td><td>15</td></tr>",
                            "<tr><td>93</td><td>3</td><td>15</td></tr>",
                            "<tr><td>144</td><td>3</td><td>15</td></tr>",
                            "<tr><td>123</td><td>3</td><td>15</td></tr>",
                            "<tr><td>153</td><td>3</td><td>15</td></tr>",
                            "<tr><td>160</td><td>3</td><td>15</td></tr>",
                            "<tr><td>155</td><td>3</td><td>15</td></tr>",
                            "<tr><td>152</td><td>2</td><td>16</td></tr>",
                            "<tr><td>173</td><td>2</td><td>16</td></tr>",
                            "<tr><td>174</td><td>2</td><td>16</td></tr>",
                            "<tr><td>186</td><td>2</td><td>16</td></tr>",
                            "<tr><td>196</td><td>2</td><td>16</td></tr>",
                            "<tr><td>184</td><td>2</td><td>16</td></tr>",
                            "<tr><td>129</td><td>2</td><td>16</td></tr>",
                            "<tr><td>100</td><td>2</td><td>16</td></tr>",
                            "<tr><td>114</td><td>2</td><td>16</td></tr>",
                            "<tr><td>98</td><td>2</td><td>16</td></tr>",
                            "<tr><td>103</td><td>2</td><td>16</td></tr>",
                            "<tr><td>85</td><td>2</td><td>16</td></tr>",
                            "<tr><td>91</td><td>2</td><td>16</td></tr>",
                            "<tr><td>11</td><td>2</td><td>16</td></tr>",
                            "<tr><td>5</td><td>2</td><td>16</td></tr>",
                            "<tr><td>21</td><td>2</td><td>16</td></tr>",
                            "<tr><td>50</td><td>2</td><td>16</td></tr>",
                            "<tr><td>57</td><td>2</td><td>16</td></tr>",
                            "<tr><td>63</td><td>2</td><td>16</td></tr>",
                            "<tr><td>72</td><td>2</td><td>16</td></tr>",
                            "<tr><td>73</td><td>2</td><td>16</td></tr>",
                            "<tr><td>66</td><td>3</td><td>17</td></tr>",
                            "<tr><td>69</td><td>3</td><td>17</td></tr>",
                            "<tr><td>46</td><td>3</td><td>17</td></tr>",
                            "<tr><td>34</td><td>3</td><td>17</td></tr>",
                            "<tr><td>40</td><td>3</td><td>17</td></tr>",
                            "<tr><td>2</td><td>3</td><td>17</td></tr>",
                            "<tr><td>10</td><td>3</td><td>17</td></tr>",
                            "<tr><td>13</td><td>3</td><td>17</td></tr>",
                            "<tr><td>90</td><td>3</td><td>17</td></tr>",
                            "<tr><td>84</td><td>3</td><td>17</td></tr>",
                            "<tr><td>104</td><td>3</td><td>17</td></tr>",
                            "<tr><td>95</td><td>3</td><td>17</td></tr>",
                            "<tr><td>183</td><td>3</td><td>17</td></tr>",
                            "<tr><td>177</td><td>3</td><td>17</td></tr>",
                            "<tr><td>178</td><td>3</td><td>17</td></tr>",
                            "<tr><td>180</td><td>2</td><td>18</td></tr>",
                            "<tr><td>151</td><td>2</td><td>18</td></tr>",
                            "<tr><td>158</td><td>2</td><td>18</td></tr>",
                            "<tr><td>166</td><td>2</td><td>18</td></tr>",
                            "<tr><td>101</td><td>2</td><td>18</td></tr>",
                            "<tr><td>75</td><td>2</td><td>18</td></tr>",
                            "<tr><td>76</td><td>2</td><td>18</td></tr>",
                            "<tr><td>136</td><td>2</td><td>18</td></tr>",
                            "<tr><td>23</td><td>2</td><td>18</td></tr>",
                            "<tr><td>37</td><td>2</td><td>18</td></tr>",
                            "<tr><td>68</td><td>2</td><td>18</td></tr>",
                            "<tr><td>71</td><td>3</td><td>19</td></tr>",
                            "<tr><td>30</td><td>3</td><td>19</td></tr>",
                            "<tr><td>31</td><td>3</td><td>19</td></tr>",
                            "<tr><td>14</td><td>3</td><td>19</td></tr>",
                            "<tr><td>135</td><td>3</td><td>19</td></tr>",
                            "<tr><td>162</td><td>3</td><td>19</td></tr>",
                            "<tr><td>179</td><td>3</td><td>19</td></tr>",
                            "<tr><td>24</td><td>4</td><td>20</td></tr>",
                            "<tr><td>26</td><td>2</td><td>21</td></tr>",
                            "<tr><td>47</td><td>2</td><td>21</td></tr>",
                            "<tr><td>53</td><td>2</td><td>21</td></tr>",
                            "<tr><td>56</td><td>2</td><td>21</td></tr>",
                            "<tr><td>108</td><td>2</td><td>21</td></tr>",
                            "<tr><td>102</td><td>2</td><td>21</td></tr>",
                            "<tr><td>105</td><td>2</td><td>21</td></tr>",
                            "<tr><td>192</td><td>2</td><td>21</td></tr>",
                            "<tr><td>167</td><td>3</td><td>22</td></tr>",
                            "<tr><td>116</td><td>3</td><td>22</td></tr>",
                            "<tr><td>142</td><td>3</td><td>22</td></tr>",
                            "<tr><td>25</td><td>3</td><td>22</td></tr>",
                            "<tr><td>41</td><td>3</td><td>22</td></tr>",
                            "<tr><td>32</td><td>2</td><td>23</td></tr>",
                            "<tr><td>65</td><td>2</td><td>23</td></tr>",
                            "<tr><td>147</td><td>2</td><td>23</td></tr>",
                            "<tr><td>125</td><td>2</td><td>23</td></tr>",
                            "<tr><td>194</td><td>2</td><td>23</td></tr>",
                            "<tr><td>60</td><td>3</td><td>24</td></tr>",
                            "</table>"
                        ]
                    }
                }
            ],
            "execution_count": 6
        },
        {
            "cell_type": "markdown",
            "source": [
                "Kérdezzük le az átlagosnál kevesebb főre történt foglalások adatait!\n",
                "\n",
                "a. Egy új oszlopban jelenjen meg az ügyfél neve is!\n",
                "\n",
                "b. Egy másik új oszlop mutassa meg, hogy az ügyfél előző három foglalása átlagosan hány főre történt! Az oszlop neve legyen 'Előző három foglalás átlaga'\n",
                "\n",
                "c. A listában azon vendégek is jelenjenek meg, akik még nem foglaltak!"
            ],
            "metadata": {
                "azdata_cell_guid": "0d9c98e6-87e6-4a05-a0a1-d9f112aa01c9"
            },
            "attachments": {}
        },
        {
            "cell_type": "code",
            "source": [
                "WITH FoglalasAtlag AS (\r\n",
                "  SELECT AVG(FELNOTT_SZAM + GYERMEK_SZAM) AS 'AtlagosFo'\r\n",
                "  FROM Foglalas\r\n",
                "),\r\n",
                "ElozoFoglalasokAtlaga AS (\r\n",
                "  SELECT \r\n",
                "    ugyfel_fk, \r\n",
                "    AVG(FELNOTT_SZAM + GYERMEK_SZAM) AS 'ElőzőHáromAtlag'\r\n",
                "  FROM (\r\n",
                "    SELECT \r\n",
                "      *,\r\n",
                "      ROW_NUMBER() OVER (PARTITION BY ugyfel_fk ORDER BY METTOL DESC) AS Sorrend\r\n",
                "    FROM Foglalas\r\n",
                "  ) AS SorrendezettFoglalasok\r\n",
                "  WHERE SorrendezettFoglalasok.Sorrend <= 3\r\n",
                "  GROUP BY ugyfel_fk\r\n",
                ")\r\n",
                "SELECT \r\n",
                "  f.SZOBA_FK,\r\n",
                "  f.FELNOTT_SZAM + f.GYERMEK_SZAM AS Fo,\r\n",
                "  v.NEV AS UgyfelNev,\r\n",
                "  COALESCE(efa.ElőzőHáromAtlag, 0) AS 'Előző három foglalás átlaga',\r\n",
                "  fa.AtlagosFo\r\n",
                "FROM \r\n",
                "  Foglalas f\r\n",
                "JOIN \r\n",
                "  Vendeg v ON f.UGYFEL_FK = v.USERNEV\r\n",
                "CROSS JOIN \r\n",
                "  FoglalasAtlag fa\r\n",
                "LEFT JOIN \r\n",
                "  ElozoFoglalasokAtlaga efa ON f.UGYFEL_FK = efa.ugyfel_fk\r\n",
                "WHERE \r\n",
                "  f.FELNOTT_SZAM + f.GYERMEK_SZAM < fa.AtlagosFo\r\n",
                ""
            ],
            "metadata": {
                "azdata_cell_guid": "80a8c2c0-307d-4107-bb3a-bb32ef938054",
                "language": "sql"
            },
            "outputs": [
                {
                    "output_type": "display_data",
                    "data": {
                        "text/html": "(147 rows affected)"
                    },
                    "metadata": {}
                },
                {
                    "output_type": "display_data",
                    "data": {
                        "text/html": "Total execution time: 00:00:00.021"
                    },
                    "metadata": {}
                },
                {
                    "output_type": "execute_result",
                    "metadata": {},
                    "execution_count": 8,
                    "data": {
                        "application/vnd.dataresource+json": {
                            "schema": {
                                "fields": [
                                    {
                                        "name": "SZOBA_FK"
                                    },
                                    {
                                        "name": "Fo"
                                    },
                                    {
                                        "name": "UgyfelNev"
                                    },
                                    {
                                        "name": "Előző három foglalás átlaga"
                                    },
                                    {
                                        "name": "AtlagosFo"
                                    }
                                ]
                            },
                            "data": [
                                {
                                    "SZOBA_FK": "7",
                                    "Fo": "1",
                                    "UgyfelNev": "Berendi Péter",
                                    "Előző három foglalás átlaga": "2",
                                    "AtlagosFo": "2"
                                },
                                {
                                    "SZOBA_FK": "170",
                                    "Fo": "1",
                                    "UgyfelNev": "Pivarcsi Anett",
                                    "Előző három foglalás átlaga": "2",
                                    "AtlagosFo": "2"
                                },
                                {
                                    "SZOBA_FK": "107",
                                    "Fo": "1",
                                    "UgyfelNev": "Szekendi Beatrix",
                                    "Előző három foglalás átlaga": "2",
                                    "AtlagosFo": "2"
                                },
                                {
                                    "SZOBA_FK": "123",
                                    "Fo": "1",
                                    "UgyfelNev": "Hegedűs Norbert",
                                    "Előző három foglalás átlaga": "2",
                                    "AtlagosFo": "2"
                                },
                                {
                                    "SZOBA_FK": "190",
                                    "Fo": "1",
                                    "UgyfelNev": "Erdei András",
                                    "Előző három foglalás átlaga": "3",
                                    "AtlagosFo": "2"
                                },
                                {
                                    "SZOBA_FK": "39",
                                    "Fo": "1",
                                    "UgyfelNev": "Gondos Katalin",
                                    "Előző három foglalás átlaga": "3",
                                    "AtlagosFo": "2"
                                },
                                {
                                    "SZOBA_FK": "106",
                                    "Fo": "1",
                                    "UgyfelNev": "Urbán Viktoria",
                                    "Előző három foglalás átlaga": "3",
                                    "AtlagosFo": "2"
                                },
                                {
                                    "SZOBA_FK": "1",
                                    "Fo": "1",
                                    "UgyfelNev": "Kalacsi Márton",
                                    "Előző három foglalás átlaga": "2",
                                    "AtlagosFo": "2"
                                },
                                {
                                    "SZOBA_FK": "98",
                                    "Fo": "1",
                                    "UgyfelNev": "Giliga János",
                                    "Előző három foglalás átlaga": "2",
                                    "AtlagosFo": "2"
                                },
                                {
                                    "SZOBA_FK": "67",
                                    "Fo": "1",
                                    "UgyfelNev": "Tóth Júlia",
                                    "Előző három foglalás átlaga": "3",
                                    "AtlagosFo": "2"
                                },
                                {
                                    "SZOBA_FK": "157",
                                    "Fo": "1",
                                    "UgyfelNev": "Bori Krisztina",
                                    "Előző három foglalás átlaga": "3",
                                    "AtlagosFo": "2"
                                },
                                {
                                    "SZOBA_FK": "4",
                                    "Fo": "1",
                                    "UgyfelNev": "Dunai Aladár",
                                    "Előző három foglalás átlaga": "1",
                                    "AtlagosFo": "2"
                                },
                                {
                                    "SZOBA_FK": "149",
                                    "Fo": "1",
                                    "UgyfelNev": "Baráth Mária",
                                    "Előző három foglalás átlaga": "2",
                                    "AtlagosFo": "2"
                                },
                                {
                                    "SZOBA_FK": "137",
                                    "Fo": "1",
                                    "UgyfelNev": "Gulyás Attila",
                                    "Előző három foglalás átlaga": "2",
                                    "AtlagosFo": "2"
                                },
                                {
                                    "SZOBA_FK": "136",
                                    "Fo": "1",
                                    "UgyfelNev": "Horváth Katalin",
                                    "Előző három foglalás átlaga": "2",
                                    "AtlagosFo": "2"
                                },
                                {
                                    "SZOBA_FK": "173",
                                    "Fo": "1",
                                    "UgyfelNev": "Turcsik Tünde",
                                    "Előző három foglalás átlaga": "3",
                                    "AtlagosFo": "2"
                                },
                                {
                                    "SZOBA_FK": "184",
                                    "Fo": "1",
                                    "UgyfelNev": "Regős Annamária",
                                    "Előző három foglalás átlaga": "2",
                                    "AtlagosFo": "2"
                                },
                                {
                                    "SZOBA_FK": "102",
                                    "Fo": "1",
                                    "UgyfelNev": "Vizi István",
                                    "Előző három foglalás átlaga": "2",
                                    "AtlagosFo": "2"
                                },
                                {
                                    "SZOBA_FK": "12",
                                    "Fo": "1",
                                    "UgyfelNev": "Molnár András",
                                    "Előző három foglalás átlaga": "3",
                                    "AtlagosFo": "2"
                                },
                                {
                                    "SZOBA_FK": "62",
                                    "Fo": "1",
                                    "UgyfelNev": "Vukasinovity Bálint",
                                    "Előző három foglalás átlaga": "2",
                                    "AtlagosFo": "2"
                                },
                                {
                                    "SZOBA_FK": "37",
                                    "Fo": "1",
                                    "UgyfelNev": "Bíró Ákos",
                                    "Előző három foglalás átlaga": "2",
                                    "AtlagosFo": "2"
                                },
                                {
                                    "SZOBA_FK": "106",
                                    "Fo": "1",
                                    "UgyfelNev": "Mohos Mónika",
                                    "Előző három foglalás átlaga": "1",
                                    "AtlagosFo": "2"
                                },
                                {
                                    "SZOBA_FK": "172",
                                    "Fo": "1",
                                    "UgyfelNev": "Feró Valentin",
                                    "Előző három foglalás átlaga": "3",
                                    "AtlagosFo": "2"
                                },
                                {
                                    "SZOBA_FK": "140",
                                    "Fo": "1",
                                    "UgyfelNev": "Horváth Katalin",
                                    "Előző három foglalás átlaga": "2",
                                    "AtlagosFo": "2"
                                },
                                {
                                    "SZOBA_FK": "20",
                                    "Fo": "1",
                                    "UgyfelNev": "Hartyánszky Ágnes",
                                    "Előző három foglalás átlaga": "2",
                                    "AtlagosFo": "2"
                                },
                                {
                                    "SZOBA_FK": "88",
                                    "Fo": "1",
                                    "UgyfelNev": "Ambrus Dávid",
                                    "Előző három foglalás átlaga": "2",
                                    "AtlagosFo": "2"
                                },
                                {
                                    "SZOBA_FK": "130",
                                    "Fo": "1",
                                    "UgyfelNev": "Barna Zoltán",
                                    "Előző három foglalás átlaga": "2",
                                    "AtlagosFo": "2"
                                },
                                {
                                    "SZOBA_FK": "166",
                                    "Fo": "1",
                                    "UgyfelNev": "Berendi Péter",
                                    "Előző három foglalás átlaga": "2",
                                    "AtlagosFo": "2"
                                },
                                {
                                    "SZOBA_FK": "163",
                                    "Fo": "1",
                                    "UgyfelNev": "Hegedűs Norbert",
                                    "Előző három foglalás átlaga": "2",
                                    "AtlagosFo": "2"
                                },
                                {
                                    "SZOBA_FK": "50",
                                    "Fo": "1",
                                    "UgyfelNev": "Czérna Krisztián",
                                    "Előző három foglalás átlaga": "2",
                                    "AtlagosFo": "2"
                                },
                                {
                                    "SZOBA_FK": "10",
                                    "Fo": "1",
                                    "UgyfelNev": "Tankó Veronika",
                                    "Előző három foglalás átlaga": "2",
                                    "AtlagosFo": "2"
                                },
                                {
                                    "SZOBA_FK": "175",
                                    "Fo": "1",
                                    "UgyfelNev": "Komjáti András",
                                    "Előző három foglalás átlaga": "2",
                                    "AtlagosFo": "2"
                                },
                                {
                                    "SZOBA_FK": "1",
                                    "Fo": "1",
                                    "UgyfelNev": "Kiss Ádám",
                                    "Előző három foglalás átlaga": "2",
                                    "AtlagosFo": "2"
                                },
                                {
                                    "SZOBA_FK": "8",
                                    "Fo": "1",
                                    "UgyfelNev": "Nádudvari Henrik",
                                    "Előző három foglalás átlaga": "2",
                                    "AtlagosFo": "2"
                                },
                                {
                                    "SZOBA_FK": "149",
                                    "Fo": "1",
                                    "UgyfelNev": "Czérna Krisztián",
                                    "Előző három foglalás átlaga": "2",
                                    "AtlagosFo": "2"
                                },
                                {
                                    "SZOBA_FK": "172",
                                    "Fo": "1",
                                    "UgyfelNev": "Juhász Mihály",
                                    "Előző három foglalás átlaga": "2",
                                    "AtlagosFo": "2"
                                },
                                {
                                    "SZOBA_FK": "63",
                                    "Fo": "1",
                                    "UgyfelNev": "Perlinger Éva",
                                    "Előző három foglalás átlaga": "2",
                                    "AtlagosFo": "2"
                                },
                                {
                                    "SZOBA_FK": "45",
                                    "Fo": "1",
                                    "UgyfelNev": "Baráth Mária",
                                    "Előző három foglalás átlaga": "2",
                                    "AtlagosFo": "2"
                                },
                                {
                                    "SZOBA_FK": "24",
                                    "Fo": "1",
                                    "UgyfelNev": "Gyuris József",
                                    "Előző három foglalás átlaga": "2",
                                    "AtlagosFo": "2"
                                },
                                {
                                    "SZOBA_FK": "167",
                                    "Fo": "1",
                                    "UgyfelNev": "Gyárfás Krisztina",
                                    "Előző három foglalás átlaga": "2",
                                    "AtlagosFo": "2"
                                },
                                {
                                    "SZOBA_FK": "165",
                                    "Fo": "1",
                                    "UgyfelNev": "Lengyel Ágnes",
                                    "Előző három foglalás átlaga": "2",
                                    "AtlagosFo": "2"
                                },
                                {
                                    "SZOBA_FK": "121",
                                    "Fo": "1",
                                    "UgyfelNev": "Farkas Sándor",
                                    "Előző három foglalás átlaga": "2",
                                    "AtlagosFo": "2"
                                },
                                {
                                    "SZOBA_FK": "70",
                                    "Fo": "1",
                                    "UgyfelNev": "Neizer Andrea",
                                    "Előző három foglalás átlaga": "2",
                                    "AtlagosFo": "2"
                                },
                                {
                                    "SZOBA_FK": "175",
                                    "Fo": "1",
                                    "UgyfelNev": "Józsa Zsolt",
                                    "Előző három foglalás átlaga": "2",
                                    "AtlagosFo": "2"
                                },
                                {
                                    "SZOBA_FK": "28",
                                    "Fo": "1",
                                    "UgyfelNev": "Győrffy Bence",
                                    "Előző három foglalás átlaga": "2",
                                    "AtlagosFo": "2"
                                },
                                {
                                    "SZOBA_FK": "83",
                                    "Fo": "1",
                                    "UgyfelNev": "Telek Gábor",
                                    "Előző három foglalás átlaga": "3",
                                    "AtlagosFo": "2"
                                },
                                {
                                    "SZOBA_FK": "184",
                                    "Fo": "1",
                                    "UgyfelNev": "Vígh András",
                                    "Előző három foglalás átlaga": "2",
                                    "AtlagosFo": "2"
                                },
                                {
                                    "SZOBA_FK": "131",
                                    "Fo": "1",
                                    "UgyfelNev": "Kazy Tihamér",
                                    "Előző három foglalás átlaga": "2",
                                    "AtlagosFo": "2"
                                },
                                {
                                    "SZOBA_FK": "98",
                                    "Fo": "1",
                                    "UgyfelNev": "Tóth András",
                                    "Előző három foglalás átlaga": "3",
                                    "AtlagosFo": "2"
                                },
                                {
                                    "SZOBA_FK": "63",
                                    "Fo": "1",
                                    "UgyfelNev": "Szilágyi Mátyás",
                                    "Előző három foglalás átlaga": "2",
                                    "AtlagosFo": "2"
                                },
                                {
                                    "SZOBA_FK": "165",
                                    "Fo": "1",
                                    "UgyfelNev": "Nagy László",
                                    "Előző három foglalás átlaga": "1",
                                    "AtlagosFo": "2"
                                },
                                {
                                    "SZOBA_FK": "151",
                                    "Fo": "1",
                                    "UgyfelNev": "Barna Zoltán",
                                    "Előző három foglalás átlaga": "2",
                                    "AtlagosFo": "2"
                                },
                                {
                                    "SZOBA_FK": "165",
                                    "Fo": "1",
                                    "UgyfelNev": "Horváth Nikolett",
                                    "Előző három foglalás átlaga": "1",
                                    "AtlagosFo": "2"
                                },
                                {
                                    "SZOBA_FK": "34",
                                    "Fo": "1",
                                    "UgyfelNev": "Harangozó János",
                                    "Előző három foglalás átlaga": "2",
                                    "AtlagosFo": "2"
                                },
                                {
                                    "SZOBA_FK": "123",
                                    "Fo": "1",
                                    "UgyfelNev": "Antal László",
                                    "Előző három foglalás átlaga": "2",
                                    "AtlagosFo": "2"
                                },
                                {
                                    "SZOBA_FK": "56",
                                    "Fo": "1",
                                    "UgyfelNev": "Gyárfás Krisztina",
                                    "Előző három foglalás átlaga": "2",
                                    "AtlagosFo": "2"
                                },
                                {
                                    "SZOBA_FK": "23",
                                    "Fo": "1",
                                    "UgyfelNev": "Kornseé Gyöngyi",
                                    "Előző három foglalás átlaga": "2",
                                    "AtlagosFo": "2"
                                },
                                {
                                    "SZOBA_FK": "19",
                                    "Fo": "1",
                                    "UgyfelNev": "Molnár Bálint",
                                    "Előző három foglalás átlaga": "2",
                                    "AtlagosFo": "2"
                                },
                                {
                                    "SZOBA_FK": "1",
                                    "Fo": "1",
                                    "UgyfelNev": "Vígh András",
                                    "Előző három foglalás átlaga": "2",
                                    "AtlagosFo": "2"
                                },
                                {
                                    "SZOBA_FK": "84",
                                    "Fo": "1",
                                    "UgyfelNev": "Kovács Katalin",
                                    "Előző három foglalás átlaga": "3",
                                    "AtlagosFo": "2"
                                },
                                {
                                    "SZOBA_FK": "47",
                                    "Fo": "1",
                                    "UgyfelNev": "Maródi Andrea",
                                    "Előző három foglalás átlaga": "2",
                                    "AtlagosFo": "2"
                                },
                                {
                                    "SZOBA_FK": "5",
                                    "Fo": "1",
                                    "UgyfelNev": "Simon Anikó",
                                    "Előző három foglalás átlaga": "2",
                                    "AtlagosFo": "2"
                                },
                                {
                                    "SZOBA_FK": "169",
                                    "Fo": "1",
                                    "UgyfelNev": "Csiger Bertalan",
                                    "Előző három foglalás átlaga": "3",
                                    "AtlagosFo": "2"
                                },
                                {
                                    "SZOBA_FK": "76",
                                    "Fo": "1",
                                    "UgyfelNev": "Horváth Nikolett",
                                    "Előző három foglalás átlaga": "1",
                                    "AtlagosFo": "2"
                                },
                                {
                                    "SZOBA_FK": "143",
                                    "Fo": "1",
                                    "UgyfelNev": "Horváth Ágnes",
                                    "Előző három foglalás átlaga": "2",
                                    "AtlagosFo": "2"
                                },
                                {
                                    "SZOBA_FK": "171",
                                    "Fo": "1",
                                    "UgyfelNev": "Baráth Mária",
                                    "Előző három foglalás átlaga": "2",
                                    "AtlagosFo": "2"
                                },
                                {
                                    "SZOBA_FK": "6",
                                    "Fo": "1",
                                    "UgyfelNev": "Juhász Mihály",
                                    "Előző három foglalás átlaga": "2",
                                    "AtlagosFo": "2"
                                },
                                {
                                    "SZOBA_FK": "82",
                                    "Fo": "1",
                                    "UgyfelNev": "Kertész Katalin",
                                    "Előző három foglalás átlaga": "2",
                                    "AtlagosFo": "2"
                                },
                                {
                                    "SZOBA_FK": "4",
                                    "Fo": "1",
                                    "UgyfelNev": "Böröcz Anikó",
                                    "Előző három foglalás átlaga": "3",
                                    "AtlagosFo": "2"
                                },
                                {
                                    "SZOBA_FK": "22",
                                    "Fo": "1",
                                    "UgyfelNev": "Bagi Beáta",
                                    "Előző három foglalás átlaga": "2",
                                    "AtlagosFo": "2"
                                },
                                {
                                    "SZOBA_FK": "70",
                                    "Fo": "1",
                                    "UgyfelNev": "Gondos Katalin",
                                    "Előző három foglalás átlaga": "3",
                                    "AtlagosFo": "2"
                                },
                                {
                                    "SZOBA_FK": "174",
                                    "Fo": "1",
                                    "UgyfelNev": "Horváth Katalin",
                                    "Előző három foglalás átlaga": "2",
                                    "AtlagosFo": "2"
                                },
                                {
                                    "SZOBA_FK": "190",
                                    "Fo": "1",
                                    "UgyfelNev": "Balogh Eszter",
                                    "Előző három foglalás átlaga": "1",
                                    "AtlagosFo": "2"
                                },
                                {
                                    "SZOBA_FK": "40",
                                    "Fo": "1",
                                    "UgyfelNev": "Szűcs Norbert",
                                    "Előző három foglalás átlaga": "2",
                                    "AtlagosFo": "2"
                                },
                                {
                                    "SZOBA_FK": "119",
                                    "Fo": "1",
                                    "UgyfelNev": "Köves Gábor",
                                    "Előző három foglalás átlaga": "2",
                                    "AtlagosFo": "2"
                                },
                                {
                                    "SZOBA_FK": "127",
                                    "Fo": "1",
                                    "UgyfelNev": "Bíró Ákos",
                                    "Előző három foglalás átlaga": "2",
                                    "AtlagosFo": "2"
                                },
                                {
                                    "SZOBA_FK": "95",
                                    "Fo": "1",
                                    "UgyfelNev": "Szedlár Krisztina",
                                    "Előző három foglalás átlaga": "2",
                                    "AtlagosFo": "2"
                                },
                                {
                                    "SZOBA_FK": "47",
                                    "Fo": "1",
                                    "UgyfelNev": "Horváth Árpád",
                                    "Előző három foglalás átlaga": "2",
                                    "AtlagosFo": "2"
                                },
                                {
                                    "SZOBA_FK": "86",
                                    "Fo": "1",
                                    "UgyfelNev": "Molnár Bálint",
                                    "Előző három foglalás átlaga": "2",
                                    "AtlagosFo": "2"
                                },
                                {
                                    "SZOBA_FK": "49",
                                    "Fo": "1",
                                    "UgyfelNev": "Horváth Árpád",
                                    "Előző három foglalás átlaga": "2",
                                    "AtlagosFo": "2"
                                },
                                {
                                    "SZOBA_FK": "195",
                                    "Fo": "1",
                                    "UgyfelNev": "Komjáti András",
                                    "Előző három foglalás átlaga": "2",
                                    "AtlagosFo": "2"
                                },
                                {
                                    "SZOBA_FK": "86",
                                    "Fo": "1",
                                    "UgyfelNev": "Dunai Aladár",
                                    "Előző három foglalás átlaga": "1",
                                    "AtlagosFo": "2"
                                },
                                {
                                    "SZOBA_FK": "108",
                                    "Fo": "1",
                                    "UgyfelNev": "Vörös Dániel",
                                    "Előző három foglalás átlaga": "2",
                                    "AtlagosFo": "2"
                                },
                                {
                                    "SZOBA_FK": "87",
                                    "Fo": "1",
                                    "UgyfelNev": "Boros Vivien",
                                    "Előző három foglalás átlaga": "2",
                                    "AtlagosFo": "2"
                                },
                                {
                                    "SZOBA_FK": "110",
                                    "Fo": "1",
                                    "UgyfelNev": "Balogh Eszter",
                                    "Előző három foglalás átlaga": "1",
                                    "AtlagosFo": "2"
                                },
                                {
                                    "SZOBA_FK": "155",
                                    "Fo": "1",
                                    "UgyfelNev": "Bagi Beáta",
                                    "Előző három foglalás átlaga": "2",
                                    "AtlagosFo": "2"
                                },
                                {
                                    "SZOBA_FK": "126",
                                    "Fo": "1",
                                    "UgyfelNev": "Gondos Miklós",
                                    "Előző három foglalás átlaga": "2",
                                    "AtlagosFo": "2"
                                },
                                {
                                    "SZOBA_FK": "30",
                                    "Fo": "1",
                                    "UgyfelNev": "Nagy László",
                                    "Előző három foglalás átlaga": "1",
                                    "AtlagosFo": "2"
                                },
                                {
                                    "SZOBA_FK": "115",
                                    "Fo": "1",
                                    "UgyfelNev": "Csóti Attila",
                                    "Előző három foglalás átlaga": "2",
                                    "AtlagosFo": "2"
                                },
                                {
                                    "SZOBA_FK": "140",
                                    "Fo": "1",
                                    "UgyfelNev": "Nagy Sándor",
                                    "Előző három foglalás átlaga": "1",
                                    "AtlagosFo": "2"
                                },
                                {
                                    "SZOBA_FK": "73",
                                    "Fo": "1",
                                    "UgyfelNev": "Pivarcsi Anett",
                                    "Előző három foglalás átlaga": "2",
                                    "AtlagosFo": "2"
                                },
                                {
                                    "SZOBA_FK": "93",
                                    "Fo": "1",
                                    "UgyfelNev": "Köves Gábor",
                                    "Előző három foglalás átlaga": "2",
                                    "AtlagosFo": "2"
                                },
                                {
                                    "SZOBA_FK": "172",
                                    "Fo": "1",
                                    "UgyfelNev": "Balogh Eszter",
                                    "Előző három foglalás átlaga": "1",
                                    "AtlagosFo": "2"
                                },
                                {
                                    "SZOBA_FK": "197",
                                    "Fo": "1",
                                    "UgyfelNev": "Kispál Márk",
                                    "Előző három foglalás átlaga": "2",
                                    "AtlagosFo": "2"
                                },
                                {
                                    "SZOBA_FK": "150",
                                    "Fo": "1",
                                    "UgyfelNev": "Harangozó János",
                                    "Előző három foglalás átlaga": "2",
                                    "AtlagosFo": "2"
                                },
                                {
                                    "SZOBA_FK": "58",
                                    "Fo": "1",
                                    "UgyfelNev": "Iván Róbert",
                                    "Előző három foglalás átlaga": "1",
                                    "AtlagosFo": "2"
                                },
                                {
                                    "SZOBA_FK": "46",
                                    "Fo": "1",
                                    "UgyfelNev": "Balogh Eszter",
                                    "Előző három foglalás átlaga": "1",
                                    "AtlagosFo": "2"
                                },
                                {
                                    "SZOBA_FK": "161",
                                    "Fo": "1",
                                    "UgyfelNev": "Szilágyi Mátyás",
                                    "Előző három foglalás átlaga": "2",
                                    "AtlagosFo": "2"
                                },
                                {
                                    "SZOBA_FK": "52",
                                    "Fo": "1",
                                    "UgyfelNev": "Vajda Zsuzsa",
                                    "Előző három foglalás átlaga": "2",
                                    "AtlagosFo": "2"
                                },
                                {
                                    "SZOBA_FK": "91",
                                    "Fo": "1",
                                    "UgyfelNev": "Oroszi György",
                                    "Előző három foglalás átlaga": "2",
                                    "AtlagosFo": "2"
                                },
                                {
                                    "SZOBA_FK": "50",
                                    "Fo": "1",
                                    "UgyfelNev": "Kardos Renáta",
                                    "Előző három foglalás átlaga": "1",
                                    "AtlagosFo": "2"
                                },
                                {
                                    "SZOBA_FK": "69",
                                    "Fo": "1",
                                    "UgyfelNev": "Horváth Ágnes",
                                    "Előző három foglalás átlaga": "2",
                                    "AtlagosFo": "2"
                                },
                                {
                                    "SZOBA_FK": "182",
                                    "Fo": "1",
                                    "UgyfelNev": "Barna Zoltán",
                                    "Előző három foglalás átlaga": "2",
                                    "AtlagosFo": "2"
                                },
                                {
                                    "SZOBA_FK": "107",
                                    "Fo": "1",
                                    "UgyfelNev": "Kuruc Emese",
                                    "Előző három foglalás átlaga": "3",
                                    "AtlagosFo": "2"
                                },
                                {
                                    "SZOBA_FK": "184",
                                    "Fo": "1",
                                    "UgyfelNev": "Gombos Tibor",
                                    "Előző három foglalás átlaga": "1",
                                    "AtlagosFo": "2"
                                },
                                {
                                    "SZOBA_FK": "7",
                                    "Fo": "1",
                                    "UgyfelNev": "Béres Norbert",
                                    "Előző három foglalás átlaga": "1",
                                    "AtlagosFo": "2"
                                },
                                {
                                    "SZOBA_FK": "52",
                                    "Fo": "1",
                                    "UgyfelNev": "Nagy Júlia",
                                    "Előző három foglalás átlaga": "2",
                                    "AtlagosFo": "2"
                                },
                                {
                                    "SZOBA_FK": "133",
                                    "Fo": "1",
                                    "UgyfelNev": "Szedlár Krisztina",
                                    "Előző három foglalás átlaga": "2",
                                    "AtlagosFo": "2"
                                },
                                {
                                    "SZOBA_FK": "182",
                                    "Fo": "1",
                                    "UgyfelNev": "Komjáti András",
                                    "Előző három foglalás átlaga": "2",
                                    "AtlagosFo": "2"
                                },
                                {
                                    "SZOBA_FK": "94",
                                    "Fo": "1",
                                    "UgyfelNev": "Kardos Renáta",
                                    "Előző három foglalás átlaga": "1",
                                    "AtlagosFo": "2"
                                },
                                {
                                    "SZOBA_FK": "171",
                                    "Fo": "1",
                                    "UgyfelNev": "Nagy László",
                                    "Előző három foglalás átlaga": "1",
                                    "AtlagosFo": "2"
                                },
                                {
                                    "SZOBA_FK": "172",
                                    "Fo": "1",
                                    "UgyfelNev": "Balogh Eszter",
                                    "Előző három foglalás átlaga": "1",
                                    "AtlagosFo": "2"
                                },
                                {
                                    "SZOBA_FK": "145",
                                    "Fo": "1",
                                    "UgyfelNev": "Fényes Tamás",
                                    "Előző három foglalás átlaga": "3",
                                    "AtlagosFo": "2"
                                },
                                {
                                    "SZOBA_FK": "120",
                                    "Fo": "1",
                                    "UgyfelNev": "Nagy Sándor",
                                    "Előző három foglalás átlaga": "1",
                                    "AtlagosFo": "2"
                                },
                                {
                                    "SZOBA_FK": "170",
                                    "Fo": "1",
                                    "UgyfelNev": "Horváth Árpád",
                                    "Előző három foglalás átlaga": "2",
                                    "AtlagosFo": "2"
                                },
                                {
                                    "SZOBA_FK": "173",
                                    "Fo": "1",
                                    "UgyfelNev": "Farkas Béla",
                                    "Előző három foglalás átlaga": "2",
                                    "AtlagosFo": "2"
                                },
                                {
                                    "SZOBA_FK": "38",
                                    "Fo": "1",
                                    "UgyfelNev": "Farkas Sára",
                                    "Előző három foglalás átlaga": "2",
                                    "AtlagosFo": "2"
                                },
                                {
                                    "SZOBA_FK": "81",
                                    "Fo": "1",
                                    "UgyfelNev": "Frank Fruzsina",
                                    "Előző három foglalás átlaga": "2",
                                    "AtlagosFo": "2"
                                },
                                {
                                    "SZOBA_FK": "80",
                                    "Fo": "1",
                                    "UgyfelNev": "Kovács Bernadett",
                                    "Előző három foglalás átlaga": "2",
                                    "AtlagosFo": "2"
                                },
                                {
                                    "SZOBA_FK": "106",
                                    "Fo": "1",
                                    "UgyfelNev": "Horváth Katalin",
                                    "Előző három foglalás átlaga": "2",
                                    "AtlagosFo": "2"
                                },
                                {
                                    "SZOBA_FK": "118",
                                    "Fo": "1",
                                    "UgyfelNev": "Patay Róbert",
                                    "Előző három foglalás átlaga": "2",
                                    "AtlagosFo": "2"
                                },
                                {
                                    "SZOBA_FK": "83",
                                    "Fo": "1",
                                    "UgyfelNev": "Hídasi Judit",
                                    "Előző három foglalás átlaga": "1",
                                    "AtlagosFo": "2"
                                },
                                {
                                    "SZOBA_FK": "84",
                                    "Fo": "1",
                                    "UgyfelNev": "Ferencz Roland",
                                    "Előző három foglalás átlaga": "2",
                                    "AtlagosFo": "2"
                                },
                                {
                                    "SZOBA_FK": "72",
                                    "Fo": "1",
                                    "UgyfelNev": "Szalai Péter",
                                    "Előző három foglalás átlaga": "1",
                                    "AtlagosFo": "2"
                                },
                                {
                                    "SZOBA_FK": "124",
                                    "Fo": "1",
                                    "UgyfelNev": "Barna Zoltán",
                                    "Előző három foglalás átlaga": "2",
                                    "AtlagosFo": "2"
                                },
                                {
                                    "SZOBA_FK": "198",
                                    "Fo": "1",
                                    "UgyfelNev": "Móricz Árpád",
                                    "Előző három foglalás átlaga": "2",
                                    "AtlagosFo": "2"
                                },
                                {
                                    "SZOBA_FK": "182",
                                    "Fo": "1",
                                    "UgyfelNev": "Czérna Krisztián",
                                    "Előző három foglalás átlaga": "2",
                                    "AtlagosFo": "2"
                                },
                                {
                                    "SZOBA_FK": "126",
                                    "Fo": "1",
                                    "UgyfelNev": "Barta Zsuzsanna",
                                    "Előző három foglalás átlaga": "1",
                                    "AtlagosFo": "2"
                                },
                                {
                                    "SZOBA_FK": "12",
                                    "Fo": "1",
                                    "UgyfelNev": "Rácz Dániel",
                                    "Előző három foglalás átlaga": "2",
                                    "AtlagosFo": "2"
                                },
                                {
                                    "SZOBA_FK": "3",
                                    "Fo": "1",
                                    "UgyfelNev": "Szalai Péter",
                                    "Előző három foglalás átlaga": "1",
                                    "AtlagosFo": "2"
                                },
                                {
                                    "SZOBA_FK": "35",
                                    "Fo": "1",
                                    "UgyfelNev": "Bagóczki Alexandra",
                                    "Előző három foglalás átlaga": "1",
                                    "AtlagosFo": "2"
                                },
                                {
                                    "SZOBA_FK": "81",
                                    "Fo": "1",
                                    "UgyfelNev": "Mogyródi Krisztián",
                                    "Előző három foglalás átlaga": "2",
                                    "AtlagosFo": "2"
                                },
                                {
                                    "SZOBA_FK": "139",
                                    "Fo": "1",
                                    "UgyfelNev": "Mohos Mónika",
                                    "Előző három foglalás átlaga": "1",
                                    "AtlagosFo": "2"
                                },
                                {
                                    "SZOBA_FK": "77",
                                    "Fo": "1",
                                    "UgyfelNev": "Gyuris József",
                                    "Előző három foglalás átlaga": "2",
                                    "AtlagosFo": "2"
                                },
                                {
                                    "SZOBA_FK": "57",
                                    "Fo": "1",
                                    "UgyfelNev": "Vörös Dániel",
                                    "Előző három foglalás átlaga": "2",
                                    "AtlagosFo": "2"
                                },
                                {
                                    "SZOBA_FK": "13",
                                    "Fo": "1",
                                    "UgyfelNev": "Székely Brigitta",
                                    "Előző három foglalás átlaga": "2",
                                    "AtlagosFo": "2"
                                },
                                {
                                    "SZOBA_FK": "35",
                                    "Fo": "1",
                                    "UgyfelNev": "Balogh Eszter",
                                    "Előző három foglalás átlaga": "1",
                                    "AtlagosFo": "2"
                                },
                                {
                                    "SZOBA_FK": "57",
                                    "Fo": "1",
                                    "UgyfelNev": "Barkóci Ádám",
                                    "Előző három foglalás átlaga": "1",
                                    "AtlagosFo": "2"
                                },
                                {
                                    "SZOBA_FK": "191",
                                    "Fo": "1",
                                    "UgyfelNev": "Szalai Szilárd",
                                    "Előző három foglalás átlaga": "2",
                                    "AtlagosFo": "2"
                                },
                                {
                                    "SZOBA_FK": "11",
                                    "Fo": "1",
                                    "UgyfelNev": "Kiss Lajos",
                                    "Előző három foglalás átlaga": "2",
                                    "AtlagosFo": "2"
                                },
                                {
                                    "SZOBA_FK": "35",
                                    "Fo": "1",
                                    "UgyfelNev": "Szirmai Renáta",
                                    "Előző három foglalás átlaga": "2",
                                    "AtlagosFo": "2"
                                },
                                {
                                    "SZOBA_FK": "155",
                                    "Fo": "1",
                                    "UgyfelNev": "Mile Norbert",
                                    "Előző három foglalás átlaga": "2",
                                    "AtlagosFo": "2"
                                },
                                {
                                    "SZOBA_FK": "95",
                                    "Fo": "1",
                                    "UgyfelNev": "Kardos Renáta",
                                    "Előző három foglalás átlaga": "1",
                                    "AtlagosFo": "2"
                                },
                                {
                                    "SZOBA_FK": "29",
                                    "Fo": "1",
                                    "UgyfelNev": "Simon Bernadett",
                                    "Előző három foglalás átlaga": "2",
                                    "AtlagosFo": "2"
                                },
                                {
                                    "SZOBA_FK": "189",
                                    "Fo": "1",
                                    "UgyfelNev": "Szűcs Norbert",
                                    "Előző három foglalás átlaga": "2",
                                    "AtlagosFo": "2"
                                },
                                {
                                    "SZOBA_FK": "148",
                                    "Fo": "1",
                                    "UgyfelNev": "Szűcs Balázs",
                                    "Előző három foglalás átlaga": "2",
                                    "AtlagosFo": "2"
                                },
                                {
                                    "SZOBA_FK": "48",
                                    "Fo": "1",
                                    "UgyfelNev": "Kardos Renáta",
                                    "Előző három foglalás átlaga": "1",
                                    "AtlagosFo": "2"
                                }
                            ]
                        },
                        "text/html": [
                            "<table>",
                            "<tr><th>SZOBA_FK</th><th>Fo</th><th>UgyfelNev</th><th>Előző három foglalás átlaga</th><th>AtlagosFo</th></tr>",
                            "<tr><td>7</td><td>1</td><td>Berendi Péter</td><td>2</td><td>2</td></tr>",
                            "<tr><td>170</td><td>1</td><td>Pivarcsi Anett</td><td>2</td><td>2</td></tr>",
                            "<tr><td>107</td><td>1</td><td>Szekendi Beatrix</td><td>2</td><td>2</td></tr>",
                            "<tr><td>123</td><td>1</td><td>Hegedűs Norbert</td><td>2</td><td>2</td></tr>",
                            "<tr><td>190</td><td>1</td><td>Erdei András</td><td>3</td><td>2</td></tr>",
                            "<tr><td>39</td><td>1</td><td>Gondos Katalin</td><td>3</td><td>2</td></tr>",
                            "<tr><td>106</td><td>1</td><td>Urbán Viktoria</td><td>3</td><td>2</td></tr>",
                            "<tr><td>1</td><td>1</td><td>Kalacsi Márton</td><td>2</td><td>2</td></tr>",
                            "<tr><td>98</td><td>1</td><td>Giliga János</td><td>2</td><td>2</td></tr>",
                            "<tr><td>67</td><td>1</td><td>Tóth Júlia</td><td>3</td><td>2</td></tr>",
                            "<tr><td>157</td><td>1</td><td>Bori Krisztina</td><td>3</td><td>2</td></tr>",
                            "<tr><td>4</td><td>1</td><td>Dunai Aladár</td><td>1</td><td>2</td></tr>",
                            "<tr><td>149</td><td>1</td><td>Baráth Mária</td><td>2</td><td>2</td></tr>",
                            "<tr><td>137</td><td>1</td><td>Gulyás Attila</td><td>2</td><td>2</td></tr>",
                            "<tr><td>136</td><td>1</td><td>Horváth Katalin</td><td>2</td><td>2</td></tr>",
                            "<tr><td>173</td><td>1</td><td>Turcsik Tünde</td><td>3</td><td>2</td></tr>",
                            "<tr><td>184</td><td>1</td><td>Regős Annamária</td><td>2</td><td>2</td></tr>",
                            "<tr><td>102</td><td>1</td><td>Vizi István</td><td>2</td><td>2</td></tr>",
                            "<tr><td>12</td><td>1</td><td>Molnár András</td><td>3</td><td>2</td></tr>",
                            "<tr><td>62</td><td>1</td><td>Vukasinovity Bálint</td><td>2</td><td>2</td></tr>",
                            "<tr><td>37</td><td>1</td><td>Bíró Ákos</td><td>2</td><td>2</td></tr>",
                            "<tr><td>106</td><td>1</td><td>Mohos Mónika</td><td>1</td><td>2</td></tr>",
                            "<tr><td>172</td><td>1</td><td>Feró Valentin</td><td>3</td><td>2</td></tr>",
                            "<tr><td>140</td><td>1</td><td>Horváth Katalin</td><td>2</td><td>2</td></tr>",
                            "<tr><td>20</td><td>1</td><td>Hartyánszky Ágnes</td><td>2</td><td>2</td></tr>",
                            "<tr><td>88</td><td>1</td><td>Ambrus Dávid</td><td>2</td><td>2</td></tr>",
                            "<tr><td>130</td><td>1</td><td>Barna Zoltán</td><td>2</td><td>2</td></tr>",
                            "<tr><td>166</td><td>1</td><td>Berendi Péter</td><td>2</td><td>2</td></tr>",
                            "<tr><td>163</td><td>1</td><td>Hegedűs Norbert</td><td>2</td><td>2</td></tr>",
                            "<tr><td>50</td><td>1</td><td>Czérna Krisztián</td><td>2</td><td>2</td></tr>",
                            "<tr><td>10</td><td>1</td><td>Tankó Veronika</td><td>2</td><td>2</td></tr>",
                            "<tr><td>175</td><td>1</td><td>Komjáti András</td><td>2</td><td>2</td></tr>",
                            "<tr><td>1</td><td>1</td><td>Kiss Ádám</td><td>2</td><td>2</td></tr>",
                            "<tr><td>8</td><td>1</td><td>Nádudvari Henrik</td><td>2</td><td>2</td></tr>",
                            "<tr><td>149</td><td>1</td><td>Czérna Krisztián</td><td>2</td><td>2</td></tr>",
                            "<tr><td>172</td><td>1</td><td>Juhász Mihály</td><td>2</td><td>2</td></tr>",
                            "<tr><td>63</td><td>1</td><td>Perlinger Éva</td><td>2</td><td>2</td></tr>",
                            "<tr><td>45</td><td>1</td><td>Baráth Mária</td><td>2</td><td>2</td></tr>",
                            "<tr><td>24</td><td>1</td><td>Gyuris József</td><td>2</td><td>2</td></tr>",
                            "<tr><td>167</td><td>1</td><td>Gyárfás Krisztina</td><td>2</td><td>2</td></tr>",
                            "<tr><td>165</td><td>1</td><td>Lengyel Ágnes</td><td>2</td><td>2</td></tr>",
                            "<tr><td>121</td><td>1</td><td>Farkas Sándor</td><td>2</td><td>2</td></tr>",
                            "<tr><td>70</td><td>1</td><td>Neizer Andrea</td><td>2</td><td>2</td></tr>",
                            "<tr><td>175</td><td>1</td><td>Józsa Zsolt</td><td>2</td><td>2</td></tr>",
                            "<tr><td>28</td><td>1</td><td>Győrffy Bence</td><td>2</td><td>2</td></tr>",
                            "<tr><td>83</td><td>1</td><td>Telek Gábor</td><td>3</td><td>2</td></tr>",
                            "<tr><td>184</td><td>1</td><td>Vígh András</td><td>2</td><td>2</td></tr>",
                            "<tr><td>131</td><td>1</td><td>Kazy Tihamér</td><td>2</td><td>2</td></tr>",
                            "<tr><td>98</td><td>1</td><td>Tóth András</td><td>3</td><td>2</td></tr>",
                            "<tr><td>63</td><td>1</td><td>Szilágyi Mátyás</td><td>2</td><td>2</td></tr>",
                            "<tr><td>165</td><td>1</td><td>Nagy László</td><td>1</td><td>2</td></tr>",
                            "<tr><td>151</td><td>1</td><td>Barna Zoltán</td><td>2</td><td>2</td></tr>",
                            "<tr><td>165</td><td>1</td><td>Horváth Nikolett</td><td>1</td><td>2</td></tr>",
                            "<tr><td>34</td><td>1</td><td>Harangozó János</td><td>2</td><td>2</td></tr>",
                            "<tr><td>123</td><td>1</td><td>Antal László</td><td>2</td><td>2</td></tr>",
                            "<tr><td>56</td><td>1</td><td>Gyárfás Krisztina</td><td>2</td><td>2</td></tr>",
                            "<tr><td>23</td><td>1</td><td>Kornseé Gyöngyi</td><td>2</td><td>2</td></tr>",
                            "<tr><td>19</td><td>1</td><td>Molnár Bálint</td><td>2</td><td>2</td></tr>",
                            "<tr><td>1</td><td>1</td><td>Vígh András</td><td>2</td><td>2</td></tr>",
                            "<tr><td>84</td><td>1</td><td>Kovács Katalin</td><td>3</td><td>2</td></tr>",
                            "<tr><td>47</td><td>1</td><td>Maródi Andrea</td><td>2</td><td>2</td></tr>",
                            "<tr><td>5</td><td>1</td><td>Simon Anikó</td><td>2</td><td>2</td></tr>",
                            "<tr><td>169</td><td>1</td><td>Csiger Bertalan</td><td>3</td><td>2</td></tr>",
                            "<tr><td>76</td><td>1</td><td>Horváth Nikolett</td><td>1</td><td>2</td></tr>",
                            "<tr><td>143</td><td>1</td><td>Horváth Ágnes</td><td>2</td><td>2</td></tr>",
                            "<tr><td>171</td><td>1</td><td>Baráth Mária</td><td>2</td><td>2</td></tr>",
                            "<tr><td>6</td><td>1</td><td>Juhász Mihály</td><td>2</td><td>2</td></tr>",
                            "<tr><td>82</td><td>1</td><td>Kertész Katalin</td><td>2</td><td>2</td></tr>",
                            "<tr><td>4</td><td>1</td><td>Böröcz Anikó</td><td>3</td><td>2</td></tr>",
                            "<tr><td>22</td><td>1</td><td>Bagi Beáta</td><td>2</td><td>2</td></tr>",
                            "<tr><td>70</td><td>1</td><td>Gondos Katalin</td><td>3</td><td>2</td></tr>",
                            "<tr><td>174</td><td>1</td><td>Horváth Katalin</td><td>2</td><td>2</td></tr>",
                            "<tr><td>190</td><td>1</td><td>Balogh Eszter</td><td>1</td><td>2</td></tr>",
                            "<tr><td>40</td><td>1</td><td>Szűcs Norbert</td><td>2</td><td>2</td></tr>",
                            "<tr><td>119</td><td>1</td><td>Köves Gábor</td><td>2</td><td>2</td></tr>",
                            "<tr><td>127</td><td>1</td><td>Bíró Ákos</td><td>2</td><td>2</td></tr>",
                            "<tr><td>95</td><td>1</td><td>Szedlár Krisztina</td><td>2</td><td>2</td></tr>",
                            "<tr><td>47</td><td>1</td><td>Horváth Árpád</td><td>2</td><td>2</td></tr>",
                            "<tr><td>86</td><td>1</td><td>Molnár Bálint</td><td>2</td><td>2</td></tr>",
                            "<tr><td>49</td><td>1</td><td>Horváth Árpád</td><td>2</td><td>2</td></tr>",
                            "<tr><td>195</td><td>1</td><td>Komjáti András</td><td>2</td><td>2</td></tr>",
                            "<tr><td>86</td><td>1</td><td>Dunai Aladár</td><td>1</td><td>2</td></tr>",
                            "<tr><td>108</td><td>1</td><td>Vörös Dániel</td><td>2</td><td>2</td></tr>",
                            "<tr><td>87</td><td>1</td><td>Boros Vivien</td><td>2</td><td>2</td></tr>",
                            "<tr><td>110</td><td>1</td><td>Balogh Eszter</td><td>1</td><td>2</td></tr>",
                            "<tr><td>155</td><td>1</td><td>Bagi Beáta</td><td>2</td><td>2</td></tr>",
                            "<tr><td>126</td><td>1</td><td>Gondos Miklós</td><td>2</td><td>2</td></tr>",
                            "<tr><td>30</td><td>1</td><td>Nagy László</td><td>1</td><td>2</td></tr>",
                            "<tr><td>115</td><td>1</td><td>Csóti Attila</td><td>2</td><td>2</td></tr>",
                            "<tr><td>140</td><td>1</td><td>Nagy Sándor</td><td>1</td><td>2</td></tr>",
                            "<tr><td>73</td><td>1</td><td>Pivarcsi Anett</td><td>2</td><td>2</td></tr>",
                            "<tr><td>93</td><td>1</td><td>Köves Gábor</td><td>2</td><td>2</td></tr>",
                            "<tr><td>172</td><td>1</td><td>Balogh Eszter</td><td>1</td><td>2</td></tr>",
                            "<tr><td>197</td><td>1</td><td>Kispál Márk</td><td>2</td><td>2</td></tr>",
                            "<tr><td>150</td><td>1</td><td>Harangozó János</td><td>2</td><td>2</td></tr>",
                            "<tr><td>58</td><td>1</td><td>Iván Róbert</td><td>1</td><td>2</td></tr>",
                            "<tr><td>46</td><td>1</td><td>Balogh Eszter</td><td>1</td><td>2</td></tr>",
                            "<tr><td>161</td><td>1</td><td>Szilágyi Mátyás</td><td>2</td><td>2</td></tr>",
                            "<tr><td>52</td><td>1</td><td>Vajda Zsuzsa</td><td>2</td><td>2</td></tr>",
                            "<tr><td>91</td><td>1</td><td>Oroszi György</td><td>2</td><td>2</td></tr>",
                            "<tr><td>50</td><td>1</td><td>Kardos Renáta</td><td>1</td><td>2</td></tr>",
                            "<tr><td>69</td><td>1</td><td>Horváth Ágnes</td><td>2</td><td>2</td></tr>",
                            "<tr><td>182</td><td>1</td><td>Barna Zoltán</td><td>2</td><td>2</td></tr>",
                            "<tr><td>107</td><td>1</td><td>Kuruc Emese</td><td>3</td><td>2</td></tr>",
                            "<tr><td>184</td><td>1</td><td>Gombos Tibor</td><td>1</td><td>2</td></tr>",
                            "<tr><td>7</td><td>1</td><td>Béres Norbert</td><td>1</td><td>2</td></tr>",
                            "<tr><td>52</td><td>1</td><td>Nagy Júlia</td><td>2</td><td>2</td></tr>",
                            "<tr><td>133</td><td>1</td><td>Szedlár Krisztina</td><td>2</td><td>2</td></tr>",
                            "<tr><td>182</td><td>1</td><td>Komjáti András</td><td>2</td><td>2</td></tr>",
                            "<tr><td>94</td><td>1</td><td>Kardos Renáta</td><td>1</td><td>2</td></tr>",
                            "<tr><td>171</td><td>1</td><td>Nagy László</td><td>1</td><td>2</td></tr>",
                            "<tr><td>172</td><td>1</td><td>Balogh Eszter</td><td>1</td><td>2</td></tr>",
                            "<tr><td>145</td><td>1</td><td>Fényes Tamás</td><td>3</td><td>2</td></tr>",
                            "<tr><td>120</td><td>1</td><td>Nagy Sándor</td><td>1</td><td>2</td></tr>",
                            "<tr><td>170</td><td>1</td><td>Horváth Árpád</td><td>2</td><td>2</td></tr>",
                            "<tr><td>173</td><td>1</td><td>Farkas Béla</td><td>2</td><td>2</td></tr>",
                            "<tr><td>38</td><td>1</td><td>Farkas Sára</td><td>2</td><td>2</td></tr>",
                            "<tr><td>81</td><td>1</td><td>Frank Fruzsina</td><td>2</td><td>2</td></tr>",
                            "<tr><td>80</td><td>1</td><td>Kovács Bernadett</td><td>2</td><td>2</td></tr>",
                            "<tr><td>106</td><td>1</td><td>Horváth Katalin</td><td>2</td><td>2</td></tr>",
                            "<tr><td>118</td><td>1</td><td>Patay Róbert</td><td>2</td><td>2</td></tr>",
                            "<tr><td>83</td><td>1</td><td>Hídasi Judit</td><td>1</td><td>2</td></tr>",
                            "<tr><td>84</td><td>1</td><td>Ferencz Roland</td><td>2</td><td>2</td></tr>",
                            "<tr><td>72</td><td>1</td><td>Szalai Péter</td><td>1</td><td>2</td></tr>",
                            "<tr><td>124</td><td>1</td><td>Barna Zoltán</td><td>2</td><td>2</td></tr>",
                            "<tr><td>198</td><td>1</td><td>Móricz Árpád</td><td>2</td><td>2</td></tr>",
                            "<tr><td>182</td><td>1</td><td>Czérna Krisztián</td><td>2</td><td>2</td></tr>",
                            "<tr><td>126</td><td>1</td><td>Barta Zsuzsanna</td><td>1</td><td>2</td></tr>",
                            "<tr><td>12</td><td>1</td><td>Rácz Dániel</td><td>2</td><td>2</td></tr>",
                            "<tr><td>3</td><td>1</td><td>Szalai Péter</td><td>1</td><td>2</td></tr>",
                            "<tr><td>35</td><td>1</td><td>Bagóczki Alexandra</td><td>1</td><td>2</td></tr>",
                            "<tr><td>81</td><td>1</td><td>Mogyródi Krisztián</td><td>2</td><td>2</td></tr>",
                            "<tr><td>139</td><td>1</td><td>Mohos Mónika</td><td>1</td><td>2</td></tr>",
                            "<tr><td>77</td><td>1</td><td>Gyuris József</td><td>2</td><td>2</td></tr>",
                            "<tr><td>57</td><td>1</td><td>Vörös Dániel</td><td>2</td><td>2</td></tr>",
                            "<tr><td>13</td><td>1</td><td>Székely Brigitta</td><td>2</td><td>2</td></tr>",
                            "<tr><td>35</td><td>1</td><td>Balogh Eszter</td><td>1</td><td>2</td></tr>",
                            "<tr><td>57</td><td>1</td><td>Barkóci Ádám</td><td>1</td><td>2</td></tr>",
                            "<tr><td>191</td><td>1</td><td>Szalai Szilárd</td><td>2</td><td>2</td></tr>",
                            "<tr><td>11</td><td>1</td><td>Kiss Lajos</td><td>2</td><td>2</td></tr>",
                            "<tr><td>35</td><td>1</td><td>Szirmai Renáta</td><td>2</td><td>2</td></tr>",
                            "<tr><td>155</td><td>1</td><td>Mile Norbert</td><td>2</td><td>2</td></tr>",
                            "<tr><td>95</td><td>1</td><td>Kardos Renáta</td><td>1</td><td>2</td></tr>",
                            "<tr><td>29</td><td>1</td><td>Simon Bernadett</td><td>2</td><td>2</td></tr>",
                            "<tr><td>189</td><td>1</td><td>Szűcs Norbert</td><td>2</td><td>2</td></tr>",
                            "<tr><td>148</td><td>1</td><td>Szűcs Balázs</td><td>2</td><td>2</td></tr>",
                            "<tr><td>48</td><td>1</td><td>Kardos Renáta</td><td>1</td><td>2</td></tr>",
                            "</table>"
                        ]
                    }
                }
            ],
            "execution_count": 8
        }
    ]
}